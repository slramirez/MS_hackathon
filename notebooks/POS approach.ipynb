{
 "cells": [
  {
   "cell_type": "code",
   "execution_count": null,
   "metadata": {},
   "outputs": [],
   "source": [
    "# Exploring approaches to feature engineerin and class prediction on State Department Human Rights reports\n",
    "\n",
    "## 1 : "
   ]
  },
  {
   "cell_type": "code",
   "execution_count": 1006,
   "metadata": {},
   "outputs": [],
   "source": [
    "import pandas as pd\n",
    "import sqlite3 as sql"
   ]
  },
  {
   "cell_type": "markdown",
   "metadata": {},
   "source": [
    "# 0 :  Define some NLP ceanin functions for later use"
   ]
  },
  {
   "cell_type": "code",
   "execution_count": 392,
   "metadata": {},
   "outputs": [
    {
     "name": "stderr",
     "output_type": "stream",
     "text": [
      "[nltk_data] Downloading package stopwords to\n",
      "[nltk_data]     /Users/garethwalker/nltk_data...\n",
      "[nltk_data]   Package stopwords is already up-to-date!\n"
     ]
    }
   ],
   "source": [
    "import re\n",
    "import nltk\n",
    "\n",
    "nltk.download('stopwords')\n",
    "\n",
    "from nltk.corpus import stopwords\n",
    "stopWords = set(stopwords.words('english'))\n",
    "\n",
    "stopWords.add('kill')\n",
    "stopWords.add('killing')\n",
    "stopWords.add('killings')\n",
    "\n",
    "from nltk.stem import PorterStemmer\n",
    "from nltk.stem import LancasterStemmer\n",
    "from nltk.util import ngrams\n",
    "\n",
    "def convert(list): \n",
    "      \n",
    "    # Converting integer list to string list \n",
    "    s = [str(i) for i in list] \n",
    "    \n",
    "    # Join list items using join()\n",
    "    s = (\" \".join(s)) \n",
    "    \n",
    "\n",
    "    return(s) \n",
    "\n",
    "\n",
    "def clean_text(s):\n",
    "    \n",
    "    # Convert to lowercase\n",
    "    s = s.lower()\n",
    "    \n",
    "    # Remove aposrphe\n",
    "    s =s.replace(\"'\", \"\")\n",
    "    \n",
    "    # Replace all none alphanumeric characters with spaces\n",
    "    s = re.sub(r'[^a-zA-Z0-9\\s]', ' ', s)\n",
    "\n",
    "    # Repace all punctuatin with spaces\n",
    "    s = re.sub(r'[^\\w\\s]',' ',s)\n",
    "\n",
    "    # replace all double spaces, tabes, and returns\n",
    "    s= re.sub(' +', ' ',s)\n",
    "    \n",
    "    s = s.replace('\\n',' ')\n",
    "    \n",
    "    return(s)\n",
    "\n",
    "\n",
    "\n",
    "def stem_word(text):\n",
    "    \n",
    "    stemmed = []\n",
    "    stemmer = LancasterStemmer()\n",
    "    \n",
    "    for w in text:\n",
    "        stemmed.append(stemmer.stem(w))\n",
    "        \n",
    "    return (stemmed)\n",
    "\n",
    "\n",
    "def generate_ngrams(st, n):\n",
    "    \n",
    "   \n",
    "    # Break sentence in the token, remove empty tokens\n",
    "    tokens = [token for token in s.split(\" \") if token != \"\"]\n",
    "    #tokens = remove_stops(tokens)\n",
    "    #tokens = stem_word(tokens)\n",
    "    \n",
    "    # Use the zip function to help us generate n-grams\n",
    "    # Concatentate the tokens into ngrams and return\n",
    "    ngrams = zip(*[token[i:] for i in range(n)])\n",
    "    return [\" \".join(ngram) for ngram in ngrams]\n",
    "\n",
    "\n",
    "\n",
    "\n",
    "def word_grams(words, min=1, max=4):\n",
    "    s = []\n",
    "    for n in range(min, max):\n",
    "        for ngram in ngrams(words, n):\n",
    "            s.append(' '.join(str(i) for i in ngram))\n",
    "    return s"
   ]
  },
  {
   "cell_type": "markdown",
   "metadata": {},
   "source": [
    "# 1.0: Import 1a Africa Data"
   ]
  },
  {
   "cell_type": "code",
   "execution_count": 1008,
   "metadata": {},
   "outputs": [],
   "source": [
    "# connect to MS_hackathon.db within the data/ directory, makes it if it doesn't exist\n",
    "conn = sql.connect('../data/MS_hackathon.db')"
   ]
  },
  {
   "cell_type": "code",
   "execution_count": 1009,
   "metadata": {},
   "outputs": [
    {
     "name": "stdout",
     "output_type": "stream",
     "text": [
      "[('CIRI',), ('section1a_africa',), ('GapMinderData',)]\n"
     ]
    }
   ],
   "source": [
    "c = conn.cursor()\n",
    "c.execute(\"SELECT name FROM sqlite_master WHERE type='table';\")\n",
    "print(c.fetchall())"
   ]
  },
  {
   "cell_type": "code",
   "execution_count": 1010,
   "metadata": {},
   "outputs": [
    {
     "name": "stdout",
     "output_type": "stream",
     "text": [
      "['index', 'CountryName', 'Report']\n"
     ]
    }
   ],
   "source": [
    "\n",
    "c.execute('select * from section1a_africa;')\n",
    "names = list(map(lambda x: x[0], c.description))\n",
    "print(names)\n",
    "\n",
    "\n"
   ]
  },
  {
   "cell_type": "code",
   "execution_count": 1021,
   "metadata": {},
   "outputs": [],
   "source": [
    "c.execute(\"SELECT * FROM section1a_africa;\")\n",
    "section_corpus = c.fetchall()\n",
    "selection = pd.DataFrame(section_corpus)\n",
    "\n",
    "selection.loc[:,2] = selection.loc[:,2].apply(lambda x: clean_text(x))\n"
   ]
  },
  {
   "cell_type": "markdown",
   "metadata": {},
   "source": [
    "## 1.2: Clean 1a data"
   ]
  },
  {
   "cell_type": "code",
   "execution_count": 1012,
   "metadata": {},
   "outputs": [],
   "source": [
    "#master_corpus = clean_text(master_corpus)\n",
    "#master_corpus = remove_stops(master_corpus)\n"
   ]
  },
  {
   "cell_type": "markdown",
   "metadata": {},
   "source": [
    "## 1.1: Vectorise 1a data"
   ]
  },
  {
   "cell_type": "code",
   "execution_count": 1013,
   "metadata": {},
   "outputs": [],
   "source": [
    "from sklearn.feature_extraction.text import CountVectorizer"
   ]
  },
  {
   "cell_type": "code",
   "execution_count": 1044,
   "metadata": {},
   "outputs": [
    {
     "data": {
      "text/html": [
       "<div>\n",
       "<style scoped>\n",
       "    .dataframe tbody tr th:only-of-type {\n",
       "        vertical-align: middle;\n",
       "    }\n",
       "\n",
       "    .dataframe tbody tr th {\n",
       "        vertical-align: top;\n",
       "    }\n",
       "\n",
       "    .dataframe thead th {\n",
       "        text-align: right;\n",
       "    }\n",
       "</style>\n",
       "<table border=\"1\" class=\"dataframe\">\n",
       "  <thead>\n",
       "    <tr style=\"text-align: right;\">\n",
       "      <th></th>\n",
       "      <th>agents</th>\n",
       "      <th>agents committed</th>\n",
       "      <th>arbitrary</th>\n",
       "      <th>arbitrary unlawful</th>\n",
       "      <th>committed</th>\n",
       "      <th>committed arbitrary</th>\n",
       "      <th>force</th>\n",
       "      <th>forces</th>\n",
       "      <th>government</th>\n",
       "      <th>government agents</th>\n",
       "      <th>...</th>\n",
       "      <th>police</th>\n",
       "      <th>report</th>\n",
       "      <th>reports</th>\n",
       "      <th>reports government</th>\n",
       "      <th>rights</th>\n",
       "      <th>security</th>\n",
       "      <th>security forces</th>\n",
       "      <th>unlawful</th>\n",
       "      <th>unlawful killings</th>\n",
       "      <th>year</th>\n",
       "    </tr>\n",
       "  </thead>\n",
       "  <tbody>\n",
       "    <tr>\n",
       "      <th>0</th>\n",
       "      <td>46</td>\n",
       "      <td>40</td>\n",
       "      <td>60</td>\n",
       "      <td>54</td>\n",
       "      <td>62</td>\n",
       "      <td>48</td>\n",
       "      <td>36</td>\n",
       "      <td>54</td>\n",
       "      <td>106</td>\n",
       "      <td>43</td>\n",
       "      <td>...</td>\n",
       "      <td>87</td>\n",
       "      <td>37</td>\n",
       "      <td>55</td>\n",
       "      <td>37</td>\n",
       "      <td>37</td>\n",
       "      <td>55</td>\n",
       "      <td>37</td>\n",
       "      <td>57</td>\n",
       "      <td>55</td>\n",
       "      <td>38</td>\n",
       "    </tr>\n",
       "  </tbody>\n",
       "</table>\n",
       "<p>1 rows × 25 columns</p>\n",
       "</div>"
      ],
      "text/plain": [
       "   agents  agents committed  arbitrary  arbitrary unlawful  committed  \\\n",
       "0      46                40         60                  54         62   \n",
       "\n",
       "   committed arbitrary  force  forces  government  government agents  ...  \\\n",
       "0                   48     36      54         106                 43  ...   \n",
       "\n",
       "   police  report  reports  reports government  rights  security  \\\n",
       "0      87      37       55                  37      37        55   \n",
       "\n",
       "   security forces  unlawful  unlawful killings  year  \n",
       "0               37        57                 55    38  \n",
       "\n",
       "[1 rows x 25 columns]"
      ]
     },
     "execution_count": 1044,
     "metadata": {},
     "output_type": "execute_result"
    }
   ],
   "source": [
    "section_corpus = convert(selection.loc[:,2])\n",
    "\n",
    "#playing with n_gram range and max features to get a feel of what count vectoriser produces\n",
    "count_vec = CountVectorizer(ngram_range=(1,2), max_features=25,stop_words = 'english')\n",
    "matrix = count_vec.fit_transform([section_corpus])\n",
    "\n",
    "count_vec_df = pd.DataFrame(matrix.toarray(), columns=count_vec.get_feature_names())\n",
    "count_vec_df"
   ]
  },
  {
   "cell_type": "code",
   "execution_count": 1045,
   "metadata": {},
   "outputs": [
    {
     "data": {
      "text/html": [
       "<div>\n",
       "<style scoped>\n",
       "    .dataframe tbody tr th:only-of-type {\n",
       "        vertical-align: middle;\n",
       "    }\n",
       "\n",
       "    .dataframe tbody tr th {\n",
       "        vertical-align: top;\n",
       "    }\n",
       "\n",
       "    .dataframe thead th {\n",
       "        text-align: right;\n",
       "    }\n",
       "</style>\n",
       "<table border=\"1\" class=\"dataframe\">\n",
       "  <thead>\n",
       "    <tr style=\"text-align: right;\">\n",
       "      <th></th>\n",
       "      <th>agents</th>\n",
       "      <th>agents committed</th>\n",
       "      <th>arbitrary</th>\n",
       "      <th>arbitrary unlawful</th>\n",
       "      <th>committed</th>\n",
       "      <th>committed arbitrary</th>\n",
       "      <th>force</th>\n",
       "      <th>forces</th>\n",
       "      <th>government</th>\n",
       "      <th>government agents</th>\n",
       "      <th>...</th>\n",
       "      <th>police</th>\n",
       "      <th>report</th>\n",
       "      <th>reports</th>\n",
       "      <th>reports government</th>\n",
       "      <th>rights</th>\n",
       "      <th>security</th>\n",
       "      <th>security forces</th>\n",
       "      <th>unlawful</th>\n",
       "      <th>unlawful killings</th>\n",
       "      <th>year</th>\n",
       "    </tr>\n",
       "  </thead>\n",
       "  <tbody>\n",
       "    <tr>\n",
       "      <th>0</th>\n",
       "      <td>0.078227</td>\n",
       "      <td>0.083125</td>\n",
       "      <td>0.070762</td>\n",
       "      <td>0.072192</td>\n",
       "      <td>0.073652</td>\n",
       "      <td>0.076668</td>\n",
       "      <td>0.0</td>\n",
       "      <td>0.123221</td>\n",
       "      <td>0.144383</td>\n",
       "      <td>0.079821</td>\n",
       "      <td>...</td>\n",
       "      <td>0.336298</td>\n",
       "      <td>0.272944</td>\n",
       "      <td>0.079821</td>\n",
       "      <td>0.088395</td>\n",
       "      <td>0.136472</td>\n",
       "      <td>0.000000</td>\n",
       "      <td>0.000000</td>\n",
       "      <td>0.072192</td>\n",
       "      <td>0.073652</td>\n",
       "      <td>0.739324</td>\n",
       "    </tr>\n",
       "    <tr>\n",
       "      <th>1</th>\n",
       "      <td>0.283448</td>\n",
       "      <td>0.301195</td>\n",
       "      <td>0.256398</td>\n",
       "      <td>0.261580</td>\n",
       "      <td>0.266871</td>\n",
       "      <td>0.277800</td>\n",
       "      <td>0.0</td>\n",
       "      <td>0.000000</td>\n",
       "      <td>0.261580</td>\n",
       "      <td>0.289225</td>\n",
       "      <td>...</td>\n",
       "      <td>0.000000</td>\n",
       "      <td>0.000000</td>\n",
       "      <td>0.289225</td>\n",
       "      <td>0.320292</td>\n",
       "      <td>0.000000</td>\n",
       "      <td>0.000000</td>\n",
       "      <td>0.000000</td>\n",
       "      <td>0.261580</td>\n",
       "      <td>0.266871</td>\n",
       "      <td>0.000000</td>\n",
       "    </tr>\n",
       "    <tr>\n",
       "      <th>2</th>\n",
       "      <td>0.283448</td>\n",
       "      <td>0.301195</td>\n",
       "      <td>0.256398</td>\n",
       "      <td>0.261580</td>\n",
       "      <td>0.266871</td>\n",
       "      <td>0.277800</td>\n",
       "      <td>0.0</td>\n",
       "      <td>0.000000</td>\n",
       "      <td>0.261580</td>\n",
       "      <td>0.289225</td>\n",
       "      <td>...</td>\n",
       "      <td>0.000000</td>\n",
       "      <td>0.000000</td>\n",
       "      <td>0.289225</td>\n",
       "      <td>0.320292</td>\n",
       "      <td>0.000000</td>\n",
       "      <td>0.000000</td>\n",
       "      <td>0.000000</td>\n",
       "      <td>0.261580</td>\n",
       "      <td>0.266871</td>\n",
       "      <td>0.000000</td>\n",
       "    </tr>\n",
       "    <tr>\n",
       "      <th>3</th>\n",
       "      <td>0.000000</td>\n",
       "      <td>0.000000</td>\n",
       "      <td>0.000000</td>\n",
       "      <td>0.000000</td>\n",
       "      <td>0.000000</td>\n",
       "      <td>0.000000</td>\n",
       "      <td>0.0</td>\n",
       "      <td>0.268741</td>\n",
       "      <td>0.000000</td>\n",
       "      <td>0.000000</td>\n",
       "      <td>...</td>\n",
       "      <td>0.000000</td>\n",
       "      <td>0.000000</td>\n",
       "      <td>0.000000</td>\n",
       "      <td>0.000000</td>\n",
       "      <td>0.000000</td>\n",
       "      <td>0.826397</td>\n",
       "      <td>0.297643</td>\n",
       "      <td>0.000000</td>\n",
       "      <td>0.000000</td>\n",
       "      <td>0.268741</td>\n",
       "    </tr>\n",
       "    <tr>\n",
       "      <th>4</th>\n",
       "      <td>0.101665</td>\n",
       "      <td>0.036010</td>\n",
       "      <td>0.122618</td>\n",
       "      <td>0.062548</td>\n",
       "      <td>0.127626</td>\n",
       "      <td>0.066426</td>\n",
       "      <td>0.0</td>\n",
       "      <td>0.053380</td>\n",
       "      <td>0.250192</td>\n",
       "      <td>0.034579</td>\n",
       "      <td>...</td>\n",
       "      <td>0.242811</td>\n",
       "      <td>0.177362</td>\n",
       "      <td>0.069159</td>\n",
       "      <td>0.038294</td>\n",
       "      <td>0.295604</td>\n",
       "      <td>0.109432</td>\n",
       "      <td>0.000000</td>\n",
       "      <td>0.093822</td>\n",
       "      <td>0.095720</td>\n",
       "      <td>0.053380</td>\n",
       "    </tr>\n",
       "  </tbody>\n",
       "</table>\n",
       "<p>5 rows × 25 columns</p>\n",
       "</div>"
      ],
      "text/plain": [
       "     agents  agents committed  arbitrary  arbitrary unlawful  committed  \\\n",
       "0  0.078227          0.083125   0.070762            0.072192   0.073652   \n",
       "1  0.283448          0.301195   0.256398            0.261580   0.266871   \n",
       "2  0.283448          0.301195   0.256398            0.261580   0.266871   \n",
       "3  0.000000          0.000000   0.000000            0.000000   0.000000   \n",
       "4  0.101665          0.036010   0.122618            0.062548   0.127626   \n",
       "\n",
       "   committed arbitrary  force    forces  government  government agents  ...  \\\n",
       "0             0.076668    0.0  0.123221    0.144383           0.079821  ...   \n",
       "1             0.277800    0.0  0.000000    0.261580           0.289225  ...   \n",
       "2             0.277800    0.0  0.000000    0.261580           0.289225  ...   \n",
       "3             0.000000    0.0  0.268741    0.000000           0.000000  ...   \n",
       "4             0.066426    0.0  0.053380    0.250192           0.034579  ...   \n",
       "\n",
       "     police    report   reports  reports government    rights  security  \\\n",
       "0  0.336298  0.272944  0.079821            0.088395  0.136472  0.000000   \n",
       "1  0.000000  0.000000  0.289225            0.320292  0.000000  0.000000   \n",
       "2  0.000000  0.000000  0.289225            0.320292  0.000000  0.000000   \n",
       "3  0.000000  0.000000  0.000000            0.000000  0.000000  0.826397   \n",
       "4  0.242811  0.177362  0.069159            0.038294  0.295604  0.109432   \n",
       "\n",
       "   security forces  unlawful  unlawful killings      year  \n",
       "0         0.000000  0.072192           0.073652  0.739324  \n",
       "1         0.000000  0.261580           0.266871  0.000000  \n",
       "2         0.000000  0.261580           0.266871  0.000000  \n",
       "3         0.297643  0.000000           0.000000  0.268741  \n",
       "4         0.000000  0.093822           0.095720  0.053380  \n",
       "\n",
       "[5 rows x 25 columns]"
      ]
     },
     "execution_count": 1045,
     "metadata": {},
     "output_type": "execute_result"
    }
   ],
   "source": [
    "from sklearn.feature_extraction.text import TfidfVectorizer\n",
    "\n",
    "section_corpus = selection.loc[:,2]\n",
    "\n",
    "\n",
    "tf_vectorizer = TfidfVectorizer(ngram_range=(1,2), max_features=25,stop_words = 'english')\n",
    "matrix = tf_vectorizer.fit_transform(section_corpus)\n",
    "\n",
    "tf_idf_df = pd.DataFrame(matrix.toarray(), columns=tf_vectorizer.get_feature_names())\n",
    "tf_idf_df.head()"
   ]
  },
  {
   "cell_type": "markdown",
   "metadata": {},
   "source": [
    "# 2.0 Trying out word clouds"
   ]
  },
  {
   "cell_type": "code",
   "execution_count": 296,
   "metadata": {},
   "outputs": [],
   "source": [
    "from wordcloud import WordCloud, STOPWORDS\n",
    "import matplotlib.pyplot as plt\n",
    "stopwords = set(STOPWORDS)\n",
    "\n",
    "def show_wordcloud(data, title = None):\n",
    "    wordcloud = WordCloud(\n",
    "        background_color='white',\n",
    "        stopwords=stopwords,\n",
    "        max_words=200,\n",
    "        max_font_size=40, \n",
    "        scale=3,\n",
    "        random_state=1 # chosen at random by flipping a coin; it was heads\n",
    "    ).generate(str(data))\n",
    "\n",
    "    fig = plt.figure(1, figsize=(12, 12))\n",
    "    plt.axis('off')\n",
    "    if title: \n",
    "        fig.suptitle(title, fontsize=20)\n",
    "        fig.subplots_adjust(top=2.3)\n",
    "\n",
    "    plt.imshow(wordcloud)\n",
    "    plt.show()"
   ]
  },
  {
   "cell_type": "code",
   "execution_count": 297,
   "metadata": {},
   "outputs": [
    {
     "data": {
      "image/png": "[encoded data removed]",
      "text/plain": [
       "<Figure size 864x864 with 1 Axes>"
      ]
     },
     "metadata": {
      "needs_background": "light"
     },
     "output_type": "display_data"
    }
   ],
   "source": [
    "\n",
    "\n",
    "show_wordcloud(section_corpus)"
   ]
  },
  {
   "cell_type": "markdown",
   "metadata": {},
   "source": [
    "# 3. 0: Part of Speach (POS) analysis on word 'reports'"
   ]
  },
  {
   "cell_type": "markdown",
   "metadata": {},
   "source": [
    "## 3.1 Import 2018 all of africa reports"
   ]
  },
  {
   "cell_type": "code",
   "execution_count": 621,
   "metadata": {},
   "outputs": [],
   "source": [
    "# import all text for Africa\n",
    "\n",
    "text_folder = '../data/Custom_State_Dep_Reports/'\n",
    "\n",
    "with open(text_folder+'2018_all_sections_africa.txt', 'r') as myfile:\n",
    "  master_corpus = myfile.read()\n"
   ]
  },
  {
   "cell_type": "code",
   "execution_count": 739,
   "metadata": {},
   "outputs": [
    {
     "data": {
      "text/plain": [
       "1116"
      ]
     },
     "execution_count": 739,
     "metadata": {},
     "output_type": "execute_result"
    }
   ],
   "source": [
    "# covert sentences into list items\n",
    "text = master_corpus.replace('\\n',' ') \n",
    "text =text.split('.')\n",
    "text = [clean_text(i) for i in text]\n",
    "\n",
    "# creat list of sentences with 'reports' mentioned\n",
    "subs='reports'\n",
    "res = [i for i in text if subs in i]\n",
    "len(res)"
   ]
  },
  {
   "cell_type": "code",
   "execution_count": 662,
   "metadata": {},
   "outputs": [
    {
     "name": "stderr",
     "output_type": "stream",
     "text": [
      "[nltk_data] Downloading package punkt to\n",
      "[nltk_data]     /Users/garethwalker/nltk_data...\n",
      "[nltk_data]   Package punkt is already up-to-date!\n",
      "[nltk_data] Downloading package averaged_perceptron_tagger to\n",
      "[nltk_data]     /Users/garethwalker/nltk_data...\n",
      "[nltk_data]   Package averaged_perceptron_tagger is already up-to-\n",
      "[nltk_data]       date!\n"
     ]
    },
    {
     "data": {
      "text/plain": [
       "True"
      ]
     },
     "execution_count": 662,
     "metadata": {},
     "output_type": "execute_result"
    }
   ],
   "source": [
    "# download some additional nltk packages\n",
    "nltk.download('punkt')\n",
    "nltk.download('averaged_perceptron_tagger')"
   ]
  },
  {
   "cell_type": "markdown",
   "metadata": {},
   "source": [
    "## 3.2: Try analysing sentences with 'reports'"
   ]
  },
  {
   "cell_type": "code",
   "execution_count": 1046,
   "metadata": {},
   "outputs": [
    {
     "name": "stdout",
     "output_type": "stream",
     "text": [
      "[[], [], [], [('received', 'VBD')], [], [('regular', 'JJ')], [], [], []]\n",
      "[[('expert', 'NN'), ('situation', 'NN'), ('sudan', 'NN'), ('s', 'NN'), ('section', 'NN'), ('rape', 'NN'), ('gender', 'NN'), ('violence', 'NN'), ('see', 'NN'), ('section', 'NN')], [('rights', 'NNS'), ('rights', 'NNS'), ('reports', 'NNS'), ('incidents', 'NNS')], [('international', 'JJ'), ('human', 'JJ'), ('unamid', 'JJ'), ('human', 'JJ'), ('regular', 'JJ'), ('sexual', 'JJ')], [('reported', 'VBD'), ('received', 'VBD')], []]\n"
     ]
    }
   ],
   "source": [
    "\n",
    "\n",
    "\n",
    "def return_qualifiers(sentence2,scan_breadth):\n",
    "    \n",
    "    # Tokenise sentence\n",
    "    tokens = nltk.word_tokenize(sentence2)\n",
    "    POS_data   = nltk.pos_tag(tokens)\n",
    "    \n",
    "    \n",
    "    # Determin words prior to keyword to sample\n",
    "    keyword_position = tokens.index('reports')\n",
    "    scan_breadth       = max(0, keyword_position-scan_breadth)\n",
    "    words_prior      = POS_data[scan_breadth:keyword_position]\n",
    "\n",
    "    #search through these words for verbs, adjectives and determiners which qualify keyword\n",
    "    \n",
    "    POS_before=['RB','EX','VBN','VBD','DT','JJ','NN','NNS','according'] # civil soc orgs; also see https://www.clips.uantwerpen.be/pages/mbsp-tags\n",
    "    result=[]\n",
    "    for j in POS_before:\n",
    "        match = [i for i in words_prior if j in i]\n",
    "        result.append(match)\n",
    "    \n",
    "    # an addional search for verbs after reports (reports indicated, reports confired)\n",
    "    \n",
    "    verb_list = ['VB','VBN','VBZ','VBD']\n",
    "    \n",
    "    for verb in verb_list:   \n",
    "        try:\n",
    "            if POS_data[keyword_position+1][1] == verb:\n",
    "                result.append(POS_data[keyword_position+1])\n",
    "        except:\n",
    "            pass\n",
    "  \n",
    "\n",
    "    return(result)\n",
    "\n",
    "#VBD,VB\n",
    "#print(Before_report)\n",
    "#print(POS_data)\n",
    "\n",
    "\n",
    "def return_details(sentence,scan_breadth):\n",
    "    # Tokenise sentence\n",
    "    tokens = nltk.word_tokenize(sentence)\n",
    "    POS_data   = nltk.pos_tag(tokens)\n",
    "    \n",
    "    # Determin words after keyword to sample\n",
    "    #keyword_position = tokens.index('reports')\n",
    "    #scan_breadth = min(len(POS_data),keyword_position+scan_breadth)\n",
    "    #words_after = POS_data[keyword_position+1:scan_breadth]\n",
    "\n",
    "    # scan forwards for nouns NN, NNS, and Adjectives JJ and verbs VB VBD to describe report content\n",
    "    POS_after=['NN','NNS','JJ','VBD','VBG'] # see see https://www.clips.uantwerpen.be/pages/mbsp-tags\n",
    "    result=[]\n",
    "    for j in POS_after:\n",
    "        match = [i for i in POS_data if j in i]\n",
    "        result.append(match)\n",
    "    return(result)\n",
    "\n",
    "print(return_qualifiers(res[1002],4))\n",
    "\n",
    "print(return_details(res[1002],15))\n",
    "\n"
   ]
  },
  {
   "cell_type": "markdown",
   "metadata": {},
   "source": [
    "# 4.0 Use SVM to classify text"
   ]
  },
  {
   "cell_type": "markdown",
   "metadata": {},
   "source": [
    "## 4.1 Use SVM to classify reports vs no reports"
   ]
  },
  {
   "cell_type": "markdown",
   "metadata": {},
   "source": [
    "Using some labeled data I put together manually, this classfies sentences with 'reports' in the sentence as positive or negaitve"
   ]
  },
  {
   "cell_type": "markdown",
   "metadata": {},
   "source": [
    "### 4.1.1 Import labled training data and all of africa 2018 text"
   ]
  },
  {
   "cell_type": "code",
   "execution_count": 1047,
   "metadata": {},
   "outputs": [],
   "source": [
    "\n",
    "training_df=pd.read_csv('../data/NLP_training_set.csv')\n",
    "training_df = training_df.drop(columns=['Unnamed: 0'])\n",
    "\n",
    "training_df['Basic_Class']=training_df['Class']\n",
    "\n",
    "training_df['Basic_Class'].replace(1,0,inplace=True)\n",
    "training_df['Basic_Class'].replace(2,1,inplace=True)\n",
    "training_df['Basic_Class'].replace(3,1,inplace=True)\n"
   ]
  },
  {
   "cell_type": "markdown",
   "metadata": {},
   "source": [
    "### 4.1.2 Apply SVM classifier"
   ]
  },
  {
   "cell_type": "code",
   "execution_count": 797,
   "metadata": {},
   "outputs": [],
   "source": [
    "from sklearn.model_selection import train_test_split\n",
    "\n",
    "\n",
    "X = training_df['String']\n",
    "y = training_df['Basic_Class']\n",
    "\n",
    "X_train, X_test, y_train, y_test = train_test_split(X, y, test_size=0.3, random_state = 42)\n"
   ]
  },
  {
   "cell_type": "code",
   "execution_count": 991,
   "metadata": {},
   "outputs": [],
   "source": [
    "\n",
    "from sklearn.pipeline import Pipeline\n",
    "from sklearn.feature_extraction.text import TfidfTransformer\n",
    "from sklearn.feature_extraction.text import CountVectorizer\n",
    "from sklearn.linear_model import SGDClassifier\n",
    "\n",
    "sgd = Pipeline([('vect', CountVectorizer()),\n",
    "                ('tfidf', TfidfTransformer()),\n",
    "                ('clf', SGDClassifier(loss='hinge', penalty='l2',alpha=1e-3, random_state=42, max_iter=30, tol=None)),\n",
    "               ])\n",
    "sgd.fit(X_train, y_train)\n",
    "y_pred = sgd.predict(X_test)"
   ]
  },
  {
   "cell_type": "markdown",
   "metadata": {},
   "source": [
    "### 4.1.3 Evaluate SVM classifier"
   ]
  },
  {
   "cell_type": "code",
   "execution_count": 795,
   "metadata": {},
   "outputs": [
    {
     "name": "stdout",
     "output_type": "stream",
     "text": [
      "accuracy 0.9373134328358209\n",
      "              precision    recall  f1-score   support\n",
      "\n",
      "           0       0.95      0.92      0.93       164\n",
      "           1       0.93      0.95      0.94       171\n",
      "\n",
      "   micro avg       0.94      0.94      0.94       335\n",
      "   macro avg       0.94      0.94      0.94       335\n",
      "weighted avg       0.94      0.94      0.94       335\n",
      "\n",
      "[[151  13]\n",
      " [  8 163]]\n"
     ]
    }
   ],
   "source": [
    "from sklearn.metrics import accuracy_score, confusion_matrix\n",
    "from sklearn.metrics import classification_report\n",
    "\n",
    "\n",
    "print('accuracy %s' % accuracy_score(y_pred, y_test))\n",
    "print(classification_report(y_test, y_pred))\n",
    "print(confusion_matrix(y_test,y_pred))"
   ]
  },
  {
   "cell_type": "markdown",
   "metadata": {},
   "source": [
    "## 4.2 Use SVM to predict report section membership (hence type of offence)"
   ]
  },
  {
   "cell_type": "markdown",
   "metadata": {},
   "source": [
    "now that Marie has pacred the africa section, I can look at how SVM performs on recognising types of transgessions"
   ]
  },
  {
   "cell_type": "code",
   "execution_count": 848,
   "metadata": {},
   "outputs": [],
   "source": [
    "df_all_africa = pd.read_csv('../data/Custom_State_Dep_Reports/2018_all_sections_africa_PARCED.csv')"
   ]
  },
  {
   "cell_type": "code",
   "execution_count": 1049,
   "metadata": {},
   "outputs": [],
   "source": [
    "df_train=pd.DataFrame(columns=['text','label'])\n",
    "\n",
    "for i in range(len(df_all_africa.columns)-3): \n",
    "    df_extract = pd.DataFrame(columns=['text','label'])\n",
    "    df_all_africa.iloc[:,i+3] = df_all_africa.iloc[:,i+3].astype(str)\n",
    "    df_extract['text']=' '.join(df_all_africa.iloc[:,i+3]).replace('\\n',' ').split('.')\n",
    "    df_extract['label'] = df_all_africa.columns[i+3]\n",
    "    df_train= df_train.append(df_extract)\n"
   ]
  },
  {
   "cell_type": "code",
   "execution_count": 1050,
   "metadata": {},
   "outputs": [],
   "source": [
    "X = df_train['text']\n",
    "y = df_train['label']\n",
    "\n",
    "X_train, X_test, y_train, y_test = train_test_split(X, y, test_size=0.3, random_state = 42)"
   ]
  },
  {
   "cell_type": "code",
   "execution_count": 1051,
   "metadata": {},
   "outputs": [],
   "source": [
    "sgd.fit(X_train, y_train)\n",
    "y_pred = sgd.predict(X_test)"
   ]
  },
  {
   "cell_type": "markdown",
   "metadata": {},
   "source": [
    "### 4.2.1: Evaluate model"
   ]
  },
  {
   "cell_type": "code",
   "execution_count": 1052,
   "metadata": {},
   "outputs": [
    {
     "name": "stdout",
     "output_type": "stream",
     "text": [
      "accuracy 0.6923897107823537\n",
      "              precision    recall  f1-score   support\n",
      "\n",
      "  Section_1a       0.44      0.19      0.27       125\n",
      "  Section_1b       0.66      0.32      0.43        59\n",
      "  Section_1c       0.70      0.72      0.71       657\n",
      "  Section_1d       0.68      0.62      0.65       678\n",
      "  Section_1e       0.67      0.66      0.66       530\n",
      "  Section_1f       0.69      0.27      0.39        93\n",
      "  Section_1g       0.49      0.23      0.31       139\n",
      "  Section_2a       0.72      0.81      0.76       512\n",
      "  Section_2b       0.68      0.40      0.50       175\n",
      "  Section_2c       0.89      0.63      0.74        51\n",
      "  Section_2d       0.77      0.74      0.76       455\n",
      "   Section_3       0.69      0.75      0.72       394\n",
      "   Section_4       0.74      0.67      0.70       263\n",
      "   Section_5       0.71      0.43      0.54       187\n",
      "   Section_6       0.65      0.90      0.75      1668\n",
      "  Section_7a       0.80      0.81      0.81       432\n",
      "  Section_7b       0.65      0.28      0.39       188\n",
      "  Section_7c       0.78      0.56      0.65       387\n",
      "  Section_7d       0.72      0.14      0.23       132\n",
      "  Section_7e       0.73      0.79      0.76       378\n",
      "\n",
      "   micro avg       0.69      0.69      0.69      7503\n",
      "   macro avg       0.69      0.55      0.59      7503\n",
      "weighted avg       0.69      0.69      0.68      7503\n",
      "\n",
      "[[  24    0   14   17    3    0    8   11    2    0    2    5    2    3\n",
      "    30    1    1    0    0    2]\n",
      " [   1   19    4    7    0    1    1    5    0    0    1    0    1    1\n",
      "    17    0    1    0    0    0]\n",
      " [   5    1  476   42   15    0    5   13    5    0    7    6    2    2\n",
      "    69    2    1    2    0    4]\n",
      " [   3    2   44  421   66    2    4   20    2    1   12   12   12    6\n",
      "    64    4    0    0    0    3]\n",
      " [   0    0   31   27  348    2    1   14    0    0   10   15   17    7\n",
      "    49    5    1    0    0    3]\n",
      " [   3    0    6   10    4   25    3    9    1    0    5    3    2    0\n",
      "    19    2    0    0    0    1]\n",
      " [   2    3   14    4    3    1   32    4    0    0   15    4    3    5\n",
      "    44    2    1    2    0    0]\n",
      " [   1    1    5   18    7    0    2  415    2    2    7   13    6    1\n",
      "    28    3    0    0    1    0]\n",
      " [   2    0    7   13    1    0    2   17   70    0    4   17    0    1\n",
      "    28    8    0    1    1    3]\n",
      " [   0    0    0    0    0    0    0    0    0   32    0    0    0    0\n",
      "    19    0    0    0    0    0]\n",
      " [   2    1   11    6    9    1    2    9    0    1  337    7    3    0\n",
      "    61    2    0    1    0    2]\n",
      " [   0    1    7    8    8    1    0   17    7    0    4  295    1    0\n",
      "    40    3    1    0    0    1]\n",
      " [   1    0    5   11   12    0    2   10    1    0    4    9  176    1\n",
      "    21    6    0    3    0    1]\n",
      " [   3    1   23    3    2    1    1    7    4    0    5    9    8   81\n",
      "    32    5    1    1    0    0]\n",
      " [   7    0   19   25   20    2    1   19    1    0   15   19    0    3\n",
      "  1506    6    7    7    2    9]\n",
      " [   1    0    3    3   16    0    0    4    7    0    1    3    1    2\n",
      "    11  351    1   11    1   16]\n",
      " [   0    0    1    3    2    0    0    1    0    0    1    2    2    0\n",
      "    99    4   53   10    0   10]\n",
      " [   0    0    4    0    1    0    1    1    0    0    0    1    0    0\n",
      "   106    5    8  217    2   41]\n",
      " [   0    0    1    0    2    0    0    0    1    0    2    4    1    0\n",
      "    76    3    2    6   18   16]\n",
      " [   0    0    4    1    4    0    0    1    0    0    3    3    1    1\n",
      "    15   25    3   18    0  299]]\n"
     ]
    }
   ],
   "source": [
    "print('accuracy %s' % accuracy_score(y_pred, y_test))\n",
    "print(classification_report(y_test, y_pred))\n",
    "print(confusion_matrix(y_test,y_pred))"
   ]
  },
  {
   "cell_type": "markdown",
   "metadata": {},
   "source": [
    "Performs better on some cataories than others, this is without text cleaning or parameter tuning, so it feels promissing"
   ]
  },
  {
   "cell_type": "markdown",
   "metadata": {},
   "source": [
    "####  testing on classifying sections of Amnesty International"
   ]
  },
  {
   "cell_type": "markdown",
   "metadata": {},
   "source": [
    "Women"
   ]
  },
  {
   "cell_type": "code",
   "execution_count": 899,
   "metadata": {},
   "outputs": [],
   "source": [
    "test = \"Reports of domestic violence increased; immediate protection orders had been issued by 1 June. In August, Judge Fildeze Hafizi was shot and killed in her car by her former husband. She had been granted a protection order in 2015 after he had beaten her. He was convicted and imprisoned in April 2016, but released in early 2017 under a general amnesty.\"\n",
    "test = test.split('.')\n",
    "y_pred = sgd.predict(test)\n",
    "y_pred"
   ]
  },
  {
   "cell_type": "code",
   "execution_count": 910,
   "metadata": {},
   "outputs": [],
   "source": [
    "test2 = 'Physical attacks against investigative journalists were perpetrated by organized criminals, or owners of private companies. In March, journalist Elvi Fundo was beaten in the capital, Tirana, by assailants believed to be associated with organized crime. In June, TV channel owner Erven Hyseni was shot dead in Vlora, along with a government official. In July, journalists claimed that defamation proceedings brought against two media outlets by High Court Judge Gjin Gjoni and his wife, businesswoman Elona Caushi, aimed to intimidate investigative journalists and encourage self-censorship.'\n",
    "test2 = test2.split('.')\n",
    "y_pred = sgd.predict(test2)\n",
    "y_pred"
   ]
  },
  {
   "cell_type": "code",
   "execution_count": 914,
   "metadata": {},
   "outputs": [],
   "source": [
    "test3 = 'No measures were taken to locate the body of Remzi Hoxha, a Macedonian Albanian who was forcibly disappeared by National Intelligence Service officials in 1995. No progress was reported towards the exhumation of the remains of around 6,000 people who had disappeared between 1945 and 1991.'\n",
    "test3 = test3.split('.')\n",
    "y_pred = sgd.predict(test3)\n",
    "y_pred"
   ]
  },
  {
   "cell_type": "code",
   "execution_count": 918,
   "metadata": {},
   "outputs": [],
   "source": [
    "test4 = 'Measures to ensure judicial independence were partially implemented. In June, two judicial associations appealed to the Constitutional Court against a vetting law, which sought to ensure judges’ and prosecutors’ independence from organized crime.'\n",
    "test4 = test4.split('.')\n",
    "y_pred = sgd.predict(test4)\n",
    "y_pred"
   ]
  },
  {
   "cell_type": "markdown",
   "metadata": {},
   "source": [
    "# 4. 3 Using SVM to predict CIRI scores"
   ]
  },
  {
   "cell_type": "code",
   "execution_count": 1078,
   "metadata": {},
   "outputs": [
    {
     "data": {
      "text/plain": [
       "array([  2.,   0.,   1.,  nan, -77., -66.])"
      ]
     },
     "execution_count": 1078,
     "metadata": {},
     "output_type": "execute_result"
    }
   ],
   "source": [
    "data_df = pd.read_csv('../data/Custom_State_Dep_Reports/CIRI_Text_1999_2009.csv')\n",
    "data_df['POLPRIS'].unique()\n"
   ]
  },
  {
   "cell_type": "code",
   "execution_count": 996,
   "metadata": {},
   "outputs": [
    {
     "data": {
      "text/plain": [
       "Index(['Unnamed: 0', 'Country', 'Text', 'Unnamed: 0.1', 'CTRY', 'YEAR', 'CIRI',\n",
       "       'COW', 'POLITY', 'UNCTRY', 'UNREG', 'UNSUBREG', 'PHYSINT', 'DISAP',\n",
       "       'KILL', 'POLPRIS', 'TORT', 'OLD_EMPINX', 'NEW_EMPINX', 'ASSN', 'FORMOV',\n",
       "       'DOMMOV', 'OLD_MOVE', 'SPEECH', 'ELECSD', 'OLD_RELFRE', 'NEW_RELFRE',\n",
       "       'WORKER', 'WECON', 'WOPOL', 'WOSOC', 'INJUD'],\n",
       "      dtype='object')"
      ]
     },
     "execution_count": 996,
     "metadata": {},
     "output_type": "execute_result"
    }
   ],
   "source": [
    "data_df.columns"
   ]
  },
  {
   "cell_type": "code",
   "execution_count": 1072,
   "metadata": {},
   "outputs": [],
   "source": [
    "sgd = Pipeline([('vect', CountVectorizer(stop_words='english',ngram_range=(1,3))),\n",
    "                ('tfidf', TfidfTransformer()),\n",
    "                ('clf', SGDClassifier(loss='hinge', penalty='l2',alpha=1e-3, random_state=42, max_iter=30, tol=None)),\n",
    "               ])"
   ]
  },
  {
   "cell_type": "code",
   "execution_count": 1079,
   "metadata": {},
   "outputs": [
    {
     "data": {
      "image/png": "[encoded data removed]",
      "text/plain": [
       "<Figure size 432x288 with 1 Axes>"
      ]
     },
     "metadata": {
      "needs_background": "light"
     },
     "output_type": "display_data"
    }
   ],
   "source": [
    "CIRI_Label = 'POLPRIS'\n",
    "\n",
    "\n",
    "test_df = data_df[['Text',CIRI_Label]].dropna()\n",
    "test_df = test_df[test_df[CIRI_Label].isin([  0.,   1.,   2.])]\n",
    "\n",
    "test_df[CIRI_Label].plot.hist()\n",
    "X = test_df['Text'].apply(lambda x: clean_text(x))\n",
    "y = test_df[CIRI_Label]\n",
    "\n",
    "X_train, X_test, y_train, y_test = train_test_split(X, y, test_size=0.3, random_state = 42)"
   ]
  },
  {
   "cell_type": "code",
   "execution_count": 1080,
   "metadata": {},
   "outputs": [],
   "source": [
    "sgd.fit(X_train, y_train)\n",
    "y_pred = sgd.predict(X_test)"
   ]
  },
  {
   "cell_type": "code",
   "execution_count": 1075,
   "metadata": {
    "scrolled": true
   },
   "outputs": [
    {
     "name": "stdout",
     "output_type": "stream",
     "text": [
      "accuracy 0.7908256880733945\n",
      "              precision    recall  f1-score   support\n",
      "\n",
      "         0.0       0.73      0.82      0.77       122\n",
      "         1.0       0.79      0.78      0.79       268\n",
      "         2.0       0.85      0.78      0.81       155\n",
      "\n",
      "   micro avg       0.79      0.79      0.79       545\n",
      "   macro avg       0.79      0.79      0.79       545\n",
      "weighted avg       0.79      0.79      0.79       545\n",
      "\n",
      "[[100  22   0]\n",
      " [ 37 210  21]\n",
      " [  0  34 121]]\n"
     ]
    }
   ],
   "source": [
    "print('accuracy %s' % accuracy_score(y_pred, y_test))\n",
    "print(classification_report(y_test, y_pred))\n",
    "print(confusion_matrix(y_test,y_pred))"
   ]
  },
  {
   "cell_type": "code",
   "execution_count": 957,
   "metadata": {},
   "outputs": [
    {
     "name": "stdout",
     "output_type": "stream",
     "text": [
      "<class 'pandas.core.frame.DataFrame'>\n",
      "Int64Index: 139 entries, 0 to 168\n",
      "Data columns (total 2 columns):\n",
      "Text      139 non-null object\n",
      "WORKER    139 non-null float64\n",
      "dtypes: float64(1), object(1)\n",
      "memory usage: 3.3+ KB\n"
     ]
    }
   ],
   "source": [
    "# Max itter 30\n",
    "    #no stop words = 73.2\n",
    "    #with stop words = 77.8\n",
    "        # with ngram range of 1 to 3 : 79.3\n",
    "# Max itter 60    \n",
    "    #with stop words = 77.8\n",
    "        # with ngram range of 1 to 3 : 79.0"
   ]
  },
  {
   "cell_type": "code",
   "execution_count": null,
   "metadata": {},
   "outputs": [],
   "source": []
  }
 ],
 "metadata": {
  "kernelspec": {
   "display_name": "Python 3",
   "language": "python",
   "name": "python3"
  },
  "language_info": {
   "codemirror_mode": {
    "name": "ipython",
    "version": 3
   },
   "file_extension": ".py",
   "mimetype": "text/x-python",
   "name": "python",
   "nbconvert_exporter": "python",
   "pygments_lexer": "ipython3",
   "version": "3.7.2"
  }
 },
 "nbformat": 4,
 "nbformat_minor": 2
}
