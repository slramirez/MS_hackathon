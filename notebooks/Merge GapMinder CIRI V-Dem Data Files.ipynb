{
 "cells": [
  {
   "cell_type": "code",
   "execution_count": 1,
   "metadata": {},
   "outputs": [],
   "source": [
    "import os\n",
    "import sys\n",
    "import pandas as pd\n",
    "\n",
    "sys.path.append(\"..\")\n",
    "\n",
    "import m49"
   ]
  },
  {
   "cell_type": "code",
   "execution_count": 2,
   "metadata": {},
   "outputs": [],
   "source": [
    "pd.set_option(\"display.max_columns\", 2000)\n",
    "pd.set_option(\"display.max_row\", 4000)"
   ]
  },
  {
   "cell_type": "markdown",
   "metadata": {},
   "source": [
    "### Country / Codes"
   ]
  },
  {
   "cell_type": "code",
   "execution_count": 3,
   "metadata": {},
   "outputs": [],
   "source": [
    "m = m49.M49(code_file='../data/M49_country_codes.txt')"
   ]
  },
  {
   "cell_type": "markdown",
   "metadata": {},
   "source": [
    "### Individual GapMinder CSVs"
   ]
  },
  {
   "cell_type": "raw",
   "metadata": {},
   "source": [
    "gm_fp = './data/GapMinder_Raw_CSVs/'"
   ]
  },
  {
   "cell_type": "raw",
   "metadata": {},
   "source": [
    "files = [f for f in os.listdir(gm_fp) if os.path.isfile(os.path.join(gm_fp, f))]\n",
    "files"
   ]
  },
  {
   "cell_type": "raw",
   "metadata": {},
   "source": [
    "for f in files:\n",
    "    df = pd.read_csv('./data/GapMinder_Raw_CSVs/' + f)"
   ]
  },
  {
   "cell_type": "markdown",
   "metadata": {},
   "source": [
    "### Combined GapMinder CSVs"
   ]
  },
  {
   "cell_type": "code",
   "execution_count": 4,
   "metadata": {},
   "outputs": [],
   "source": [
    "fp_gmc = \"../data/GapminderData.csv\""
   ]
  },
  {
   "cell_type": "code",
   "execution_count": 5,
   "metadata": {},
   "outputs": [
    {
     "data": {
      "text/html": [
       "<div>\n",
       "<style scoped>\n",
       "    .dataframe tbody tr th:only-of-type {\n",
       "        vertical-align: middle;\n",
       "    }\n",
       "\n",
       "    .dataframe tbody tr th {\n",
       "        vertical-align: top;\n",
       "    }\n",
       "\n",
       "    .dataframe thead th {\n",
       "        text-align: right;\n",
       "    }\n",
       "</style>\n",
       "<table border=\"1\" class=\"dataframe\">\n",
       "  <thead>\n",
       "    <tr style=\"text-align: right;\">\n",
       "      <th></th>\n",
       "      <th>country</th>\n",
       "      <th>Date</th>\n",
       "      <th>POPULATION</th>\n",
       "      <th>UNCTRY</th>\n",
       "      <th>ANNUAL_BIRTH_RATE_PER_1000</th>\n",
       "      <th>LIFE_EXP_YEARS</th>\n",
       "      <th>LIFE_EXP_YEARS_F</th>\n",
       "      <th>LIFE_EXP_YEARS_M</th>\n",
       "      <th>CHILD_MORTALITY</th>\n",
       "      <th>GDP_USD</th>\n",
       "      <th>INFLATION_PERCENT</th>\n",
       "      <th>EMPLOYMENT</th>\n",
       "      <th>GINI</th>\n",
       "      <th>AID_RECEIVED_PP</th>\n",
       "      <th>GIRLS_V_BOYS_EDU</th>\n",
       "      <th>ADULT_LIT_RATE</th>\n",
       "      <th>ADULT_LIT_RATE_F</th>\n",
       "      <th>ADULT_LIT_RATE_M</th>\n",
       "      <th>JOURNALISTS_KILLED</th>\n",
       "      <th>CELL_PHONE_PER_100</th>\n",
       "      <th>CORRUPTION_INDEX</th>\n",
       "      <th>DEMOCRACY_SCORE</th>\n",
       "      <th>HUMAN_DEV_SCORE</th>\n",
       "      <th>MURDER_PER_1000</th>\n",
       "    </tr>\n",
       "  </thead>\n",
       "  <tbody>\n",
       "    <tr>\n",
       "      <th>0</th>\n",
       "      <td>Afghanistan</td>\n",
       "      <td>1980</td>\n",
       "      <td>13200000</td>\n",
       "      <td>4</td>\n",
       "      <td>50.6</td>\n",
       "      <td>43.3</td>\n",
       "      <td>42.7</td>\n",
       "      <td>41.1</td>\n",
       "      <td>245.0</td>\n",
       "      <td>NaN</td>\n",
       "      <td>NaN</td>\n",
       "      <td>NaN</td>\n",
       "      <td>NaN</td>\n",
       "      <td>2.490</td>\n",
       "      <td>NaN</td>\n",
       "      <td>NaN</td>\n",
       "      <td>NaN</td>\n",
       "      <td>NaN</td>\n",
       "      <td>NaN</td>\n",
       "      <td>0.0</td>\n",
       "      <td>NaN</td>\n",
       "      <td>-10.0</td>\n",
       "      <td>NaN</td>\n",
       "      <td>NaN</td>\n",
       "    </tr>\n",
       "    <tr>\n",
       "      <th>1</th>\n",
       "      <td>Afghanistan</td>\n",
       "      <td>1981</td>\n",
       "      <td>13100000</td>\n",
       "      <td>4</td>\n",
       "      <td>50.5</td>\n",
       "      <td>44.1</td>\n",
       "      <td>43.4</td>\n",
       "      <td>41.7</td>\n",
       "      <td>238.0</td>\n",
       "      <td>NaN</td>\n",
       "      <td>NaN</td>\n",
       "      <td>NaN</td>\n",
       "      <td>NaN</td>\n",
       "      <td>1.830</td>\n",
       "      <td>0.243</td>\n",
       "      <td>NaN</td>\n",
       "      <td>NaN</td>\n",
       "      <td>NaN</td>\n",
       "      <td>NaN</td>\n",
       "      <td>0.0</td>\n",
       "      <td>NaN</td>\n",
       "      <td>-10.0</td>\n",
       "      <td>NaN</td>\n",
       "      <td>NaN</td>\n",
       "    </tr>\n",
       "    <tr>\n",
       "      <th>2</th>\n",
       "      <td>Afghanistan</td>\n",
       "      <td>1982</td>\n",
       "      <td>12700000</td>\n",
       "      <td>4</td>\n",
       "      <td>50.4</td>\n",
       "      <td>43.8</td>\n",
       "      <td>44.1</td>\n",
       "      <td>42.4</td>\n",
       "      <td>232.0</td>\n",
       "      <td>NaN</td>\n",
       "      <td>NaN</td>\n",
       "      <td>NaN</td>\n",
       "      <td>NaN</td>\n",
       "      <td>0.732</td>\n",
       "      <td>0.484</td>\n",
       "      <td>NaN</td>\n",
       "      <td>NaN</td>\n",
       "      <td>NaN</td>\n",
       "      <td>NaN</td>\n",
       "      <td>0.0</td>\n",
       "      <td>NaN</td>\n",
       "      <td>-10.0</td>\n",
       "      <td>NaN</td>\n",
       "      <td>NaN</td>\n",
       "    </tr>\n",
       "    <tr>\n",
       "      <th>3</th>\n",
       "      <td>Afghanistan</td>\n",
       "      <td>1983</td>\n",
       "      <td>12400000</td>\n",
       "      <td>4</td>\n",
       "      <td>50.2</td>\n",
       "      <td>42.0</td>\n",
       "      <td>44.8</td>\n",
       "      <td>43.2</td>\n",
       "      <td>225.0</td>\n",
       "      <td>NaN</td>\n",
       "      <td>NaN</td>\n",
       "      <td>NaN</td>\n",
       "      <td>NaN</td>\n",
       "      <td>1.070</td>\n",
       "      <td>NaN</td>\n",
       "      <td>NaN</td>\n",
       "      <td>NaN</td>\n",
       "      <td>NaN</td>\n",
       "      <td>NaN</td>\n",
       "      <td>0.0</td>\n",
       "      <td>NaN</td>\n",
       "      <td>-10.0</td>\n",
       "      <td>NaN</td>\n",
       "      <td>NaN</td>\n",
       "    </tr>\n",
       "    <tr>\n",
       "      <th>4</th>\n",
       "      <td>Afghanistan</td>\n",
       "      <td>1984</td>\n",
       "      <td>12000000</td>\n",
       "      <td>4</td>\n",
       "      <td>50.1</td>\n",
       "      <td>39.8</td>\n",
       "      <td>45.6</td>\n",
       "      <td>43.9</td>\n",
       "      <td>218.0</td>\n",
       "      <td>NaN</td>\n",
       "      <td>NaN</td>\n",
       "      <td>NaN</td>\n",
       "      <td>NaN</td>\n",
       "      <td>0.540</td>\n",
       "      <td>0.471</td>\n",
       "      <td>NaN</td>\n",
       "      <td>NaN</td>\n",
       "      <td>NaN</td>\n",
       "      <td>NaN</td>\n",
       "      <td>0.0</td>\n",
       "      <td>NaN</td>\n",
       "      <td>-10.0</td>\n",
       "      <td>NaN</td>\n",
       "      <td>NaN</td>\n",
       "    </tr>\n",
       "  </tbody>\n",
       "</table>\n",
       "</div>"
      ],
      "text/plain": [
       "       country  Date  POPULATION  UNCTRY  ANNUAL_BIRTH_RATE_PER_1000  \\\n",
       "0  Afghanistan  1980    13200000       4                        50.6   \n",
       "1  Afghanistan  1981    13100000       4                        50.5   \n",
       "2  Afghanistan  1982    12700000       4                        50.4   \n",
       "3  Afghanistan  1983    12400000       4                        50.2   \n",
       "4  Afghanistan  1984    12000000       4                        50.1   \n",
       "\n",
       "   LIFE_EXP_YEARS  LIFE_EXP_YEARS_F  LIFE_EXP_YEARS_M  CHILD_MORTALITY  \\\n",
       "0            43.3              42.7              41.1            245.0   \n",
       "1            44.1              43.4              41.7            238.0   \n",
       "2            43.8              44.1              42.4            232.0   \n",
       "3            42.0              44.8              43.2            225.0   \n",
       "4            39.8              45.6              43.9            218.0   \n",
       "\n",
       "   GDP_USD  INFLATION_PERCENT  EMPLOYMENT  GINI  AID_RECEIVED_PP  \\\n",
       "0      NaN                NaN         NaN   NaN            2.490   \n",
       "1      NaN                NaN         NaN   NaN            1.830   \n",
       "2      NaN                NaN         NaN   NaN            0.732   \n",
       "3      NaN                NaN         NaN   NaN            1.070   \n",
       "4      NaN                NaN         NaN   NaN            0.540   \n",
       "\n",
       "   GIRLS_V_BOYS_EDU  ADULT_LIT_RATE  ADULT_LIT_RATE_F  ADULT_LIT_RATE_M  \\\n",
       "0               NaN             NaN               NaN               NaN   \n",
       "1             0.243             NaN               NaN               NaN   \n",
       "2             0.484             NaN               NaN               NaN   \n",
       "3               NaN             NaN               NaN               NaN   \n",
       "4             0.471             NaN               NaN               NaN   \n",
       "\n",
       "   JOURNALISTS_KILLED  CELL_PHONE_PER_100  CORRUPTION_INDEX  DEMOCRACY_SCORE  \\\n",
       "0                 NaN                 0.0               NaN            -10.0   \n",
       "1                 NaN                 0.0               NaN            -10.0   \n",
       "2                 NaN                 0.0               NaN            -10.0   \n",
       "3                 NaN                 0.0               NaN            -10.0   \n",
       "4                 NaN                 0.0               NaN            -10.0   \n",
       "\n",
       "   HUMAN_DEV_SCORE  MURDER_PER_1000  \n",
       "0              NaN              NaN  \n",
       "1              NaN              NaN  \n",
       "2              NaN              NaN  \n",
       "3              NaN              NaN  \n",
       "4              NaN              NaN  "
      ]
     },
     "execution_count": 5,
     "metadata": {},
     "output_type": "execute_result"
    }
   ],
   "source": [
    "df_gm = pd.read_csv(fp_gmc)\n",
    "df_gm.drop(columns='index', inplace=True)\n",
    "df_gm.head()"
   ]
  },
  {
   "cell_type": "code",
   "execution_count": 6,
   "metadata": {},
   "outputs": [
    {
     "data": {
      "text/plain": [
       "array([1980, 1981, 1982, 1983, 1984, 1985, 1986, 1987, 1988, 1989, 1990,\n",
       "       1991, 1992, 1993, 1994, 1995, 1996, 1997, 1998, 1999, 2000, 2001,\n",
       "       2002, 2003, 2004, 2005, 2006, 2007, 2008, 2009, 2010, 2011, 2012,\n",
       "       2013, 2014, 2015, 2016, 2017], dtype=int64)"
      ]
     },
     "execution_count": 6,
     "metadata": {},
     "output_type": "execute_result"
    }
   ],
   "source": [
    "df_gm.Date.unique()"
   ]
  },
  {
   "cell_type": "code",
   "execution_count": 7,
   "metadata": {},
   "outputs": [
    {
     "data": {
      "text/plain": [
       "6346"
      ]
     },
     "execution_count": 7,
     "metadata": {},
     "output_type": "execute_result"
    }
   ],
   "source": [
    "len(df_gm)"
   ]
  },
  {
   "cell_type": "code",
   "execution_count": 8,
   "metadata": {},
   "outputs": [],
   "source": [
    "df_gm['m49'] = df_gm.country.apply(m.area_to_m49)"
   ]
  },
  {
   "cell_type": "code",
   "execution_count": 9,
   "metadata": {},
   "outputs": [],
   "source": [
    "df_gm['iso_alpha3'] = df_gm.m49.apply(m.m49_to_iso_alpha3)"
   ]
  },
  {
   "cell_type": "code",
   "execution_count": 10,
   "metadata": {},
   "outputs": [],
   "source": [
    "df_gm['iso_alpha_year'] = df_gm.iso_alpha3 + \"_\" + df_gm.Date.astype(str)"
   ]
  },
  {
   "cell_type": "code",
   "execution_count": 11,
   "metadata": {},
   "outputs": [],
   "source": [
    "df_gm_merge = df_gm[['POPULATION', 'UNCTRY', 'ANNUAL_BIRTH_RATE_PER_1000',\n",
    "       'LIFE_EXP_YEARS', 'LIFE_EXP_YEARS_F', 'LIFE_EXP_YEARS_M',\n",
    "       'CHILD_MORTALITY', 'GDP_USD', 'INFLATION_PERCENT', 'EMPLOYMENT', 'GINI',\n",
    "       'AID_RECEIVED_PP', 'GIRLS_V_BOYS_EDU', 'ADULT_LIT_RATE',\n",
    "       'ADULT_LIT_RATE_F', 'ADULT_LIT_RATE_M', 'JOURNALISTS_KILLED',\n",
    "       'CELL_PHONE_PER_100', 'CORRUPTION_INDEX', 'DEMOCRACY_SCORE',\n",
    "       'HUMAN_DEV_SCORE', 'MURDER_PER_1000',\n",
    "       'iso_alpha_year']]"
   ]
  },
  {
   "cell_type": "markdown",
   "metadata": {},
   "source": [
    "### CIRI Data 1981-2011"
   ]
  },
  {
   "cell_type": "code",
   "execution_count": 12,
   "metadata": {},
   "outputs": [],
   "source": [
    "fp_ciri = \"../data/CIRI_Data_1981_2011.csv\""
   ]
  },
  {
   "cell_type": "code",
   "execution_count": 13,
   "metadata": {},
   "outputs": [
    {
     "data": {
      "text/html": [
       "<div>\n",
       "<style scoped>\n",
       "    .dataframe tbody tr th:only-of-type {\n",
       "        vertical-align: middle;\n",
       "    }\n",
       "\n",
       "    .dataframe tbody tr th {\n",
       "        vertical-align: top;\n",
       "    }\n",
       "\n",
       "    .dataframe thead th {\n",
       "        text-align: right;\n",
       "    }\n",
       "</style>\n",
       "<table border=\"1\" class=\"dataframe\">\n",
       "  <thead>\n",
       "    <tr style=\"text-align: right;\">\n",
       "      <th></th>\n",
       "      <th>CTRY</th>\n",
       "      <th>YEAR</th>\n",
       "      <th>CIRI</th>\n",
       "      <th>COW</th>\n",
       "      <th>POLITY</th>\n",
       "      <th>UNCTRY</th>\n",
       "      <th>UNREG</th>\n",
       "      <th>UNSUBREG</th>\n",
       "      <th>PHYSINT</th>\n",
       "      <th>DISAP</th>\n",
       "      <th>KILL</th>\n",
       "      <th>POLPRIS</th>\n",
       "      <th>TORT</th>\n",
       "      <th>OLD_EMPINX</th>\n",
       "      <th>NEW_EMPINX</th>\n",
       "      <th>ASSN</th>\n",
       "      <th>FORMOV</th>\n",
       "      <th>DOMMOV</th>\n",
       "      <th>OLD_MOVE</th>\n",
       "      <th>SPEECH</th>\n",
       "      <th>ELECSD</th>\n",
       "      <th>OLD_RELFRE</th>\n",
       "      <th>NEW_RELFRE</th>\n",
       "      <th>WORKER</th>\n",
       "      <th>WECON</th>\n",
       "      <th>WOPOL</th>\n",
       "      <th>WOSOC</th>\n",
       "      <th>INJUD</th>\n",
       "    </tr>\n",
       "  </thead>\n",
       "  <tbody>\n",
       "    <tr>\n",
       "      <th>0</th>\n",
       "      <td>Afghanistan</td>\n",
       "      <td>1981</td>\n",
       "      <td>101</td>\n",
       "      <td>700.0</td>\n",
       "      <td>700.0</td>\n",
       "      <td>4.0</td>\n",
       "      <td>142</td>\n",
       "      <td>62</td>\n",
       "      <td>0.0</td>\n",
       "      <td>0.0</td>\n",
       "      <td>0.0</td>\n",
       "      <td>0.0</td>\n",
       "      <td>0.0</td>\n",
       "      <td>0.0</td>\n",
       "      <td>2.0</td>\n",
       "      <td>0.0</td>\n",
       "      <td>0.0</td>\n",
       "      <td>1.0</td>\n",
       "      <td>0.0</td>\n",
       "      <td>0.0</td>\n",
       "      <td>0.0</td>\n",
       "      <td>0.0</td>\n",
       "      <td>1.0</td>\n",
       "      <td>0.0</td>\n",
       "      <td>0.0</td>\n",
       "      <td>0.0</td>\n",
       "      <td>0.0</td>\n",
       "      <td>0.0</td>\n",
       "    </tr>\n",
       "    <tr>\n",
       "      <th>1</th>\n",
       "      <td>Afghanistan</td>\n",
       "      <td>1982</td>\n",
       "      <td>101</td>\n",
       "      <td>700.0</td>\n",
       "      <td>700.0</td>\n",
       "      <td>4.0</td>\n",
       "      <td>142</td>\n",
       "      <td>62</td>\n",
       "      <td>0.0</td>\n",
       "      <td>0.0</td>\n",
       "      <td>0.0</td>\n",
       "      <td>0.0</td>\n",
       "      <td>0.0</td>\n",
       "      <td>2.0</td>\n",
       "      <td>1.0</td>\n",
       "      <td>0.0</td>\n",
       "      <td>0.0</td>\n",
       "      <td>0.0</td>\n",
       "      <td>0.0</td>\n",
       "      <td>0.0</td>\n",
       "      <td>0.0</td>\n",
       "      <td>1.0</td>\n",
       "      <td>1.0</td>\n",
       "      <td>0.0</td>\n",
       "      <td>0.0</td>\n",
       "      <td>1.0</td>\n",
       "      <td>0.0</td>\n",
       "      <td>0.0</td>\n",
       "    </tr>\n",
       "    <tr>\n",
       "      <th>2</th>\n",
       "      <td>Afghanistan</td>\n",
       "      <td>1983</td>\n",
       "      <td>101</td>\n",
       "      <td>700.0</td>\n",
       "      <td>700.0</td>\n",
       "      <td>4.0</td>\n",
       "      <td>142</td>\n",
       "      <td>62</td>\n",
       "      <td>0.0</td>\n",
       "      <td>0.0</td>\n",
       "      <td>0.0</td>\n",
       "      <td>0.0</td>\n",
       "      <td>0.0</td>\n",
       "      <td>0.0</td>\n",
       "      <td>0.0</td>\n",
       "      <td>0.0</td>\n",
       "      <td>0.0</td>\n",
       "      <td>0.0</td>\n",
       "      <td>0.0</td>\n",
       "      <td>0.0</td>\n",
       "      <td>0.0</td>\n",
       "      <td>0.0</td>\n",
       "      <td>0.0</td>\n",
       "      <td>0.0</td>\n",
       "      <td>0.0</td>\n",
       "      <td>1.0</td>\n",
       "      <td>0.0</td>\n",
       "      <td>0.0</td>\n",
       "    </tr>\n",
       "    <tr>\n",
       "      <th>3</th>\n",
       "      <td>Afghanistan</td>\n",
       "      <td>1984</td>\n",
       "      <td>101</td>\n",
       "      <td>700.0</td>\n",
       "      <td>700.0</td>\n",
       "      <td>4.0</td>\n",
       "      <td>142</td>\n",
       "      <td>62</td>\n",
       "      <td>0.0</td>\n",
       "      <td>0.0</td>\n",
       "      <td>0.0</td>\n",
       "      <td>0.0</td>\n",
       "      <td>0.0</td>\n",
       "      <td>1.0</td>\n",
       "      <td>1.0</td>\n",
       "      <td>0.0</td>\n",
       "      <td>0.0</td>\n",
       "      <td>0.0</td>\n",
       "      <td>0.0</td>\n",
       "      <td>0.0</td>\n",
       "      <td>1.0</td>\n",
       "      <td>0.0</td>\n",
       "      <td>0.0</td>\n",
       "      <td>0.0</td>\n",
       "      <td>0.0</td>\n",
       "      <td>1.0</td>\n",
       "      <td>0.0</td>\n",
       "      <td>0.0</td>\n",
       "    </tr>\n",
       "    <tr>\n",
       "      <th>4</th>\n",
       "      <td>Afghanistan</td>\n",
       "      <td>1985</td>\n",
       "      <td>101</td>\n",
       "      <td>700.0</td>\n",
       "      <td>700.0</td>\n",
       "      <td>4.0</td>\n",
       "      <td>142</td>\n",
       "      <td>62</td>\n",
       "      <td>0.0</td>\n",
       "      <td>0.0</td>\n",
       "      <td>0.0</td>\n",
       "      <td>0.0</td>\n",
       "      <td>0.0</td>\n",
       "      <td>0.0</td>\n",
       "      <td>0.0</td>\n",
       "      <td>0.0</td>\n",
       "      <td>0.0</td>\n",
       "      <td>0.0</td>\n",
       "      <td>0.0</td>\n",
       "      <td>0.0</td>\n",
       "      <td>0.0</td>\n",
       "      <td>0.0</td>\n",
       "      <td>0.0</td>\n",
       "      <td>0.0</td>\n",
       "      <td>0.0</td>\n",
       "      <td>1.0</td>\n",
       "      <td>0.0</td>\n",
       "      <td>0.0</td>\n",
       "    </tr>\n",
       "  </tbody>\n",
       "</table>\n",
       "</div>"
      ],
      "text/plain": [
       "          CTRY  YEAR  CIRI    COW  POLITY  UNCTRY  UNREG  UNSUBREG  PHYSINT  \\\n",
       "0  Afghanistan  1981   101  700.0   700.0     4.0    142        62      0.0   \n",
       "1  Afghanistan  1982   101  700.0   700.0     4.0    142        62      0.0   \n",
       "2  Afghanistan  1983   101  700.0   700.0     4.0    142        62      0.0   \n",
       "3  Afghanistan  1984   101  700.0   700.0     4.0    142        62      0.0   \n",
       "4  Afghanistan  1985   101  700.0   700.0     4.0    142        62      0.0   \n",
       "\n",
       "   DISAP  KILL  POLPRIS  TORT  OLD_EMPINX  NEW_EMPINX  ASSN  FORMOV  DOMMOV  \\\n",
       "0    0.0   0.0      0.0   0.0         0.0         2.0   0.0     0.0     1.0   \n",
       "1    0.0   0.0      0.0   0.0         2.0         1.0   0.0     0.0     0.0   \n",
       "2    0.0   0.0      0.0   0.0         0.0         0.0   0.0     0.0     0.0   \n",
       "3    0.0   0.0      0.0   0.0         1.0         1.0   0.0     0.0     0.0   \n",
       "4    0.0   0.0      0.0   0.0         0.0         0.0   0.0     0.0     0.0   \n",
       "\n",
       "   OLD_MOVE  SPEECH  ELECSD  OLD_RELFRE  NEW_RELFRE  WORKER  WECON  WOPOL  \\\n",
       "0       0.0     0.0     0.0         0.0         1.0     0.0    0.0    0.0   \n",
       "1       0.0     0.0     0.0         1.0         1.0     0.0    0.0    1.0   \n",
       "2       0.0     0.0     0.0         0.0         0.0     0.0    0.0    1.0   \n",
       "3       0.0     0.0     1.0         0.0         0.0     0.0    0.0    1.0   \n",
       "4       0.0     0.0     0.0         0.0         0.0     0.0    0.0    1.0   \n",
       "\n",
       "   WOSOC  INJUD  \n",
       "0    0.0    0.0  \n",
       "1    0.0    0.0  \n",
       "2    0.0    0.0  \n",
       "3    0.0    0.0  \n",
       "4    0.0    0.0  "
      ]
     },
     "execution_count": 13,
     "metadata": {},
     "output_type": "execute_result"
    }
   ],
   "source": [
    "df_ciri = pd.read_csv(fp_ciri)\n",
    "df_ciri.head()"
   ]
  },
  {
   "cell_type": "code",
   "execution_count": 14,
   "metadata": {},
   "outputs": [
    {
     "data": {
      "text/plain": [
       "array(['Kosovo', 'Soviet Union', 'Taiwan', 'Yemen, South'], dtype=object)"
      ]
     },
     "execution_count": 14,
     "metadata": {},
     "output_type": "execute_result"
    }
   ],
   "source": [
    "# countries that do not have UN Country Codes in CIRI\n",
    "df_ciri[df_ciri.UNCTRY.isnull()].CTRY.unique()"
   ]
  },
  {
   "cell_type": "code",
   "execution_count": 15,
   "metadata": {},
   "outputs": [],
   "source": [
    "df_ciri = df_ciri[df_ciri.UNCTRY.notnull()].copy()"
   ]
  },
  {
   "cell_type": "code",
   "execution_count": 16,
   "metadata": {},
   "outputs": [],
   "source": [
    "df_ciri['m49'] = df_ciri.UNCTRY.astype(int)"
   ]
  },
  {
   "cell_type": "code",
   "execution_count": 17,
   "metadata": {},
   "outputs": [
    {
     "name": "stdout",
     "output_type": "stream",
     "text": [
      "17\n",
      "17\n",
      "17\n",
      "17\n",
      "17\n",
      "17\n",
      "17\n",
      "17\n",
      "17\n",
      "17\n",
      "17\n",
      "17\n",
      "17\n",
      "17\n",
      "17\n",
      "17\n",
      "17\n",
      "17\n",
      "17\n",
      "17\n",
      "17\n",
      "17\n",
      "17\n",
      "17\n",
      "17\n",
      "17\n",
      "17\n",
      "17\n",
      "17\n",
      "17\n",
      "17\n",
      "891\n",
      "891\n",
      "891\n",
      "891\n",
      "891\n",
      "891\n",
      "891\n",
      "891\n",
      "891\n",
      "891\n",
      "891\n",
      "891\n",
      "891\n",
      "891\n",
      "891\n",
      "891\n",
      "891\n",
      "891\n",
      "891\n",
      "891\n",
      "891\n",
      "891\n",
      "891\n",
      "891\n",
      "891\n",
      "891\n",
      "891\n",
      "891\n",
      "891\n",
      "891\n",
      "891\n",
      "736\n",
      "736\n",
      "736\n",
      "736\n",
      "736\n",
      "736\n",
      "736\n",
      "736\n",
      "736\n",
      "736\n",
      "736\n",
      "736\n",
      "736\n",
      "736\n",
      "736\n",
      "736\n",
      "736\n",
      "736\n",
      "736\n",
      "736\n",
      "736\n",
      "736\n",
      "736\n",
      "736\n",
      "736\n",
      "736\n",
      "736\n",
      "736\n",
      "736\n",
      "736\n",
      "736\n",
      "891\n",
      "891\n",
      "891\n",
      "891\n",
      "891\n",
      "891\n",
      "891\n",
      "891\n",
      "891\n",
      "891\n",
      "891\n",
      "891\n",
      "891\n",
      "891\n",
      "891\n",
      "891\n",
      "891\n",
      "891\n",
      "891\n",
      "891\n",
      "891\n",
      "891\n",
      "891\n",
      "891\n",
      "891\n",
      "891\n",
      "891\n",
      "891\n",
      "891\n",
      "891\n",
      "891\n",
      "891\n",
      "891\n",
      "891\n",
      "891\n",
      "891\n",
      "891\n",
      "891\n",
      "891\n",
      "891\n",
      "891\n",
      "891\n",
      "891\n",
      "891\n",
      "891\n",
      "891\n",
      "891\n",
      "891\n",
      "891\n",
      "891\n",
      "891\n",
      "891\n",
      "891\n",
      "891\n",
      "891\n",
      "891\n",
      "891\n",
      "891\n",
      "891\n",
      "891\n",
      "891\n",
      "891\n"
     ]
    }
   ],
   "source": [
    "df_ciri['iso_alpha3'] = df_ciri.m49.apply(m.m49_to_iso_alpha3)"
   ]
  },
  {
   "cell_type": "code",
   "execution_count": 18,
   "metadata": {},
   "outputs": [],
   "source": [
    "df_ciri['iso_alpha_year'] = df_ciri.iso_alpha3 + \"_\" + df_ciri.YEAR.astype(str)"
   ]
  },
  {
   "cell_type": "code",
   "execution_count": 19,
   "metadata": {},
   "outputs": [],
   "source": [
    "df_ciri_merge = df_ciri[['CIRI', 'COW', 'POLITY', 'UNCTRY', 'UNREG', 'UNSUBREG',\n",
    "       'PHYSINT', 'DISAP', 'KILL', 'POLPRIS', 'TORT', 'OLD_EMPINX',\n",
    "       'NEW_EMPINX', 'ASSN', 'FORMOV', 'DOMMOV', 'OLD_MOVE', 'SPEECH',\n",
    "       'ELECSD', 'OLD_RELFRE', 'NEW_RELFRE', 'WORKER', 'WECON', 'WOPOL',\n",
    "       'WOSOC', 'INJUD', 'iso_alpha_year']]"
   ]
  },
  {
   "cell_type": "markdown",
   "metadata": {},
   "source": [
    "### Country-Year: V-Dem Full + Others\n",
    "All 450+ V-Dem indicators and indices + 59 other indicators from other data sources."
   ]
  },
  {
   "cell_type": "code",
   "execution_count": 20,
   "metadata": {},
   "outputs": [
    {
     "name": "stderr",
     "output_type": "stream",
     "text": [
      "C:\\Users\\colin\\miniconda3\\envs\\ai4good\\lib\\site-packages\\IPython\\core\\interactiveshell.py:3049: DtypeWarning: Columns (507,509,510,793,794,1055,2791,3007,3008,3063,3065,3069,3070,3072,3073,3833,3834,3836) have mixed types. Specify dtype option on import or set low_memory=False.\n",
      "  interactivity=interactivity, compiler=compiler, result=result)\n"
     ]
    }
   ],
   "source": [
    "df_vd = pd.read_csv(\"../data/V-Dem-CY-Full+Others-v9.csv\")"
   ]
  },
  {
   "cell_type": "code",
   "execution_count": 21,
   "metadata": {},
   "outputs": [
    {
     "data": {
      "text/plain": [
       "26834"
      ]
     },
     "execution_count": 21,
     "metadata": {},
     "output_type": "execute_result"
    }
   ],
   "source": [
    "len(df_vd)"
   ]
  },
  {
   "cell_type": "code",
   "execution_count": 22,
   "metadata": {},
   "outputs": [
    {
     "data": {
      "text/plain": [
       "['BDN',\n",
       " 'BRW',\n",
       " 'BVR',\n",
       " 'DDR',\n",
       " 'HDM',\n",
       " 'HKS',\n",
       " 'HRG',\n",
       " 'HVR',\n",
       " 'MCL',\n",
       " 'MDN',\n",
       " 'NSS',\n",
       " 'OLD',\n",
       " 'PPS',\n",
       " 'PRM',\n",
       " 'PSB',\n",
       " 'PSG',\n",
       " 'SAX',\n",
       " 'SML',\n",
       " 'SPD',\n",
       " 'SXN',\n",
       " 'TSC',\n",
       " 'TWN',\n",
       " 'TWS',\n",
       " 'VDR',\n",
       " 'WRG',\n",
       " 'XKX',\n",
       " 'YMD',\n",
       " 'ZZB']"
      ]
     },
     "execution_count": 22,
     "metadata": {},
     "output_type": "execute_result"
    }
   ],
   "source": [
    "# these country codes will be dropped\n",
    "[x for x in df_vd.country_text_id.unique() if x not in m.iso_alpha3]"
   ]
  },
  {
   "cell_type": "code",
   "execution_count": 23,
   "metadata": {},
   "outputs": [],
   "source": [
    "df_vd = df_vd[~df_vd.country_text_id.isin(m.iso_alpha3)]"
   ]
  },
  {
   "cell_type": "code",
   "execution_count": 24,
   "metadata": {},
   "outputs": [],
   "source": [
    "df_vd['iso_alpha3'] = df_vd.country_text_id"
   ]
  },
  {
   "cell_type": "code",
   "execution_count": 25,
   "metadata": {},
   "outputs": [],
   "source": [
    "df_vd['iso_alpha_year'] = df_vd.iso_alpha3 + \"_\" + df_vd.year.astype(str)"
   ]
  },
  {
   "cell_type": "code",
   "execution_count": 26,
   "metadata": {},
   "outputs": [],
   "source": [
    "df = df_vd.merge(right=df_gm, how='outer', on='iso_alpha_year',\n",
    "                 suffixes=['vd', 'gm'])"
   ]
  },
  {
   "cell_type": "code",
   "execution_count": 27,
   "metadata": {},
   "outputs": [],
   "source": [
    "df = df.merge(right=df_ciri, how='outer', on='iso_alpha_year',\n",
    "              suffixes=['vdgm', 'ci'])"
   ]
  },
  {
   "cell_type": "code",
   "execution_count": 28,
   "metadata": {},
   "outputs": [],
   "source": [
    "df['year'] = df.iso_alpha_year.str.split('_', expand=True)[1].astype(int)"
   ]
  },
  {
   "cell_type": "code",
   "execution_count": 29,
   "metadata": {},
   "outputs": [
    {
     "data": {
      "text/plain": [
       "9553"
      ]
     },
     "execution_count": 29,
     "metadata": {},
     "output_type": "execute_result"
    }
   ],
   "source": [
    "len(df)"
   ]
  },
  {
   "cell_type": "code",
   "execution_count": 30,
   "metadata": {},
   "outputs": [
    {
     "name": "stdout",
     "output_type": "stream",
     "text": [
      "1990 records:  205\n",
      "1991 records:  204\n",
      "1992 records:  204\n",
      "1993 records:  204\n",
      "1994 records:  204\n",
      "1995 records:  204\n",
      "1996 records:  204\n",
      "1997 records:  204\n",
      "1998 records:  204\n",
      "1999 records:  205\n",
      "2000 records:  205\n",
      "2001 records:  205\n",
      "2002 records:  205\n",
      "2003 records:  205\n",
      "2004 records:  205\n",
      "2005 records:  205\n",
      "2006 records:  205\n",
      "2007 records:  206\n",
      "2008 records:  206\n",
      "2009 records:  206\n",
      "2010 records:  206\n",
      "2011 records:  206\n",
      "2012 records:  172\n",
      "2013 records:  172\n",
      "2014 records:  172\n",
      "2015 records:  172\n",
      "2016 records:  172\n",
      "2017 records:  172\n",
      "2018 records:  5\n"
     ]
    }
   ],
   "source": [
    "for y in range(1990, 2019):\n",
    "    _df = df[df.year == y]\n",
    "    print(y, 'records: ', len(_df))"
   ]
  },
  {
   "cell_type": "code",
   "execution_count": 35,
   "metadata": {},
   "outputs": [],
   "source": [
    "df.to_csv('../data/gapminder_ciri_v-dem_merged.csv')"
   ]
  }
 ],
 "metadata": {
  "kernelspec": {
   "display_name": "Python 3",
   "language": "python",
   "name": "python3"
  },
  "language_info": {
   "codemirror_mode": {
    "name": "ipython",
    "version": 3
   },
   "file_extension": ".py",
   "mimetype": "text/x-python",
   "name": "python",
   "nbconvert_exporter": "python",
   "pygments_lexer": "ipython3",
   "version": "3.6.8"
  }
 },
 "nbformat": 4,
 "nbformat_minor": 2
}
