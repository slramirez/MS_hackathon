{
 "cells": [
  {
   "cell_type": "code",
   "execution_count": 1,
   "metadata": {
    "collapsed": true
   },
   "outputs": [],
   "source": [
    "import time\n",
    "import requests\n",
    "import numpy as np\n",
    "import pandas as pd\n",
    "\n",
    "from bs4 import BeautifulSoup"
   ]
  },
  {
   "cell_type": "code",
   "execution_count": 2,
   "metadata": {
    "collapsed": true
   },
   "outputs": [],
   "source": [
    "pd.set_option(\"display.max_columns\", 2000)\n",
    "pd.set_option(\"display.max_rows\", 2000)"
   ]
  },
  {
   "cell_type": "code",
   "execution_count": 3,
   "metadata": {
    "collapsed": true
   },
   "outputs": [],
   "source": [
    "section_names = ['Africa', 'East Asia and the Pacific',\n",
    "                 'Europe and Eurasia', 'Near East and North Africa',\n",
    "                 'South Asia', 'Western Hemisphere']"
   ]
  },
  {
   "cell_type": "raw",
   "metadata": {},
   "source": [
    "[(x.contents, x.get('href')) for x in soup.find_all('a', href=True) if x.contents[0] in section_names]"
   ]
  },
  {
   "cell_type": "code",
   "execution_count": 4,
   "metadata": {},
   "outputs": [],
   "source": [
    "def scrape_indexes(year, verbose=False):\n",
    "    \n",
    "    url = 'https://www.state.gov/j/drl/rls/hrrpt/{}/index.htm'.format(year)\n",
    "    if verbose:\n",
    "        print(\"Scraping Data from: \", url)\n",
    "    \n",
    "    r = requests.get(url)\n",
    "    text = r.text\n",
    "    soup = BeautifulSoup(text, \"html5lib\")\n",
    "\n",
    "    section_links = []\n",
    "    ignore_sections = ['Appendices', 'Appendixes', 'Front', \n",
    "                       'Material', 'Preface', 'Overview',\n",
    "                       'Acknowledgements', 'Introduction']\n",
    "    \n",
    "    for link in soup.find('ul',{\"class\": \"menu\"}).find_all('a'):\n",
    "        text = link.text\n",
    "        url = link.get('href')\n",
    "        if verbose:\n",
    "            print(\"Found Link: \", text, url)\n",
    "        section_links.append([text, url])\n",
    "\n",
    "    keep_section_links = []\n",
    "    for text, url in section_links:\n",
    "        keep = True    \n",
    "        for i in ignore_sections:\n",
    "            if verbose:\n",
    "                print(i, '>>>', text, '>>>', i in text)\n",
    "            if i in text:\n",
    "                keep = False\n",
    "        if keep:\n",
    "            keep_section_links.append([text, url])\n",
    "\n",
    "    return keep_section_links"
   ]
  },
  {
   "cell_type": "code",
   "execution_count": 5,
   "metadata": {},
   "outputs": [
    {
     "data": {
      "text/plain": [
       "[['Africa', 'http://www.state.gov/j/drl/rls/hrrpt/2005/c17092.htm'],\n",
       " ['East Asia and the Pacific',\n",
       "  'http://www.state.gov/j/drl/rls/hrrpt/2005/c17093.htm'],\n",
       " ['Europe and Eurasia',\n",
       "  'http://www.state.gov/j/drl/rls/hrrpt/2005/c17094.htm'],\n",
       " ['Near East and North Africa',\n",
       "  'http://www.state.gov/j/drl/rls/hrrpt/2005/c17095.htm'],\n",
       " ['South Asia', 'http://www.state.gov/j/drl/rls/hrrpt/2005/c17097.htm'],\n",
       " ['Western Hemisphere',\n",
       "  'http://www.state.gov/j/drl/rls/hrrpt/2005/c17099.htm']]"
      ]
     },
     "execution_count": 5,
     "metadata": {},
     "output_type": "execute_result"
    }
   ],
   "source": [
    "x = scrape_indexes(2005)\n",
    "x"
   ]
  },
  {
   "cell_type": "code",
   "execution_count": 6,
   "metadata": {},
   "outputs": [],
   "source": [
    "def scrape_sections(year, section_url, \n",
    "                    base_url = 'https://www.state.gov', verbose=False,\n",
    "                    delay=0.1):\n",
    "    \n",
    "    year = str(year)\n",
    "    \n",
    "    if verbose:\n",
    "        print(\"Scraping Data from: \", section_url)\n",
    "    time.sleep(delay)\n",
    "    r = requests.get(section_url)\n",
    "    text = r.text\n",
    "    soup = BeautifulSoup(text, \"html5lib\")\n",
    "\n",
    "    country_links = []\n",
    "    \n",
    "    for link in soup.find_all('a',{\"target\":\"_self\"}):\n",
    "        text = link.text\n",
    "        url = link.get('href')\n",
    "        if verbose:\n",
    "            print(\"Found Link: \", text, url)\n",
    "        if url is not None:\n",
    "            if year in url:\n",
    "                country_links.append([year, text, base_url + url])\n",
    "\n",
    "    return country_links"
   ]
  },
  {
   "cell_type": "code",
   "execution_count": 7,
   "metadata": {
    "collapsed": true
   },
   "outputs": [],
   "source": [
    "verbose=False"
   ]
  },
  {
   "cell_type": "code",
   "execution_count": 8,
   "metadata": {},
   "outputs": [],
   "source": [
    "years = list(range(1999, 2019))"
   ]
  },
  {
   "cell_type": "code",
   "execution_count": 9,
   "metadata": {
    "scrolled": false
   },
   "outputs": [],
   "source": [
    "all_links = []\n",
    "for year in years:\n",
    "    section_urls = scrape_indexes(year=year, verbose=verbose)\n",
    "    for text, url in section_urls:\n",
    "        if verbose:\n",
    "            print(text, '>>>', url)\n",
    "        all_links = all_links + scrape_sections(year=year, \n",
    "                                                section_url=url, \n",
    "                                                verbose=verbose)"
   ]
  },
  {
   "cell_type": "code",
   "execution_count": 10,
   "metadata": {
    "collapsed": true
   },
   "outputs": [],
   "source": [
    "df = pd.DataFrame(all_links, columns=['year', 'country', 'url'])"
   ]
  },
  {
   "cell_type": "code",
   "execution_count": 11,
   "metadata": {},
   "outputs": [
    {
     "data": {
      "text/html": [
       "<div>\n",
       "<style>\n",
       "    .dataframe thead tr:only-child th {\n",
       "        text-align: right;\n",
       "    }\n",
       "\n",
       "    .dataframe thead th {\n",
       "        text-align: left;\n",
       "    }\n",
       "\n",
       "    .dataframe tbody tr th {\n",
       "        vertical-align: top;\n",
       "    }\n",
       "</style>\n",
       "<table border=\"1\" class=\"dataframe\">\n",
       "  <thead>\n",
       "    <tr style=\"text-align: right;\">\n",
       "      <th></th>\n",
       "      <th>year</th>\n",
       "      <th>country</th>\n",
       "      <th>url</th>\n",
       "    </tr>\n",
       "  </thead>\n",
       "  <tbody>\n",
       "    <tr>\n",
       "      <th>0</th>\n",
       "      <td>1999</td>\n",
       "      <td>Angola</td>\n",
       "      <td>https://www.state.gov/j/drl/rls/hrrpt/1999/223...</td>\n",
       "    </tr>\n",
       "    <tr>\n",
       "      <th>1</th>\n",
       "      <td>1999</td>\n",
       "      <td>Benin</td>\n",
       "      <td>https://www.state.gov/j/drl/rls/hrrpt/1999/227...</td>\n",
       "    </tr>\n",
       "    <tr>\n",
       "      <th>2</th>\n",
       "      <td>1999</td>\n",
       "      <td>Botswana</td>\n",
       "      <td>https://www.state.gov/j/drl/rls/hrrpt/1999/228...</td>\n",
       "    </tr>\n",
       "    <tr>\n",
       "      <th>3</th>\n",
       "      <td>1999</td>\n",
       "      <td>Burkina Faso</td>\n",
       "      <td>https://www.state.gov/j/drl/rls/hrrpt/1999/229...</td>\n",
       "    </tr>\n",
       "    <tr>\n",
       "      <th>4</th>\n",
       "      <td>1999</td>\n",
       "      <td>Burundi</td>\n",
       "      <td>https://www.state.gov/j/drl/rls/hrrpt/1999/230...</td>\n",
       "    </tr>\n",
       "  </tbody>\n",
       "</table>\n",
       "</div>"
      ],
      "text/plain": [
       "   year       country                                                url\n",
       "0  1999        Angola  https://www.state.gov/j/drl/rls/hrrpt/1999/223...\n",
       "1  1999         Benin  https://www.state.gov/j/drl/rls/hrrpt/1999/227...\n",
       "2  1999      Botswana  https://www.state.gov/j/drl/rls/hrrpt/1999/228...\n",
       "3  1999  Burkina Faso  https://www.state.gov/j/drl/rls/hrrpt/1999/229...\n",
       "4  1999       Burundi  https://www.state.gov/j/drl/rls/hrrpt/1999/230..."
      ]
     },
     "execution_count": 11,
     "metadata": {},
     "output_type": "execute_result"
    }
   ],
   "source": [
    "df.head()"
   ]
  },
  {
   "cell_type": "code",
   "execution_count": 12,
   "metadata": {},
   "outputs": [],
   "source": [
    "def scrape_country(url):\n",
    "    r = requests.get(url)\n",
    "    data = r.text\n",
    "    soup = BeautifulSoup(data, \"html5lib\")\n",
    "    return soup.find(\"div\", {\"id\": \"centerblock\"}).text"
   ]
  },
  {
   "cell_type": "code",
   "execution_count": 13,
   "metadata": {},
   "outputs": [
    {
     "data": {
      "text/plain": [
       "'Angola'"
      ]
     },
     "execution_count": 13,
     "metadata": {},
     "output_type": "execute_result"
    }
   ],
   "source": [
    "all_links[0][1]"
   ]
  },
  {
   "cell_type": "code",
   "execution_count": 14,
   "metadata": {
    "collapsed": true
   },
   "outputs": [],
   "source": [
    "df['text'] = df.url.apply(scrape_country)"
   ]
  },
  {
   "cell_type": "raw",
   "metadata": {},
   "source": [
    "df.to_csv('un_reports_1999_2018.csv')"
   ]
  },
  {
   "cell_type": "code",
   "execution_count": 15,
   "metadata": {},
   "outputs": [
    {
     "data": {
      "text/html": [
       "<div>\n",
       "<style>\n",
       "    .dataframe thead tr:only-child th {\n",
       "        text-align: right;\n",
       "    }\n",
       "\n",
       "    .dataframe thead th {\n",
       "        text-align: left;\n",
       "    }\n",
       "\n",
       "    .dataframe tbody tr th {\n",
       "        vertical-align: top;\n",
       "    }\n",
       "</style>\n",
       "<table border=\"1\" class=\"dataframe\">\n",
       "  <thead>\n",
       "    <tr style=\"text-align: right;\">\n",
       "      <th></th>\n",
       "      <th>year</th>\n",
       "      <th>country</th>\n",
       "      <th>url</th>\n",
       "      <th>text</th>\n",
       "    </tr>\n",
       "  </thead>\n",
       "  <tbody>\n",
       "    <tr>\n",
       "      <th>0</th>\n",
       "      <td>1999</td>\n",
       "      <td>Angola</td>\n",
       "      <td>https://www.state.gov/j/drl/rls/hrrpt/1999/223...</td>\n",
       "      <td>The Republic of Angola's transition from a sin...</td>\n",
       "    </tr>\n",
       "    <tr>\n",
       "      <th>1</th>\n",
       "      <td>1999</td>\n",
       "      <td>Benin</td>\n",
       "      <td>https://www.state.gov/j/drl/rls/hrrpt/1999/227...</td>\n",
       "      <td>The Republic of Benin is a constitutional demo...</td>\n",
       "    </tr>\n",
       "    <tr>\n",
       "      <th>2</th>\n",
       "      <td>1999</td>\n",
       "      <td>Botswana</td>\n",
       "      <td>https://www.state.gov/j/drl/rls/hrrpt/1999/228...</td>\n",
       "      <td>Botswana is a longstanding, multiparty democra...</td>\n",
       "    </tr>\n",
       "    <tr>\n",
       "      <th>3</th>\n",
       "      <td>1999</td>\n",
       "      <td>Burkina Faso</td>\n",
       "      <td>https://www.state.gov/j/drl/rls/hrrpt/1999/229...</td>\n",
       "      <td>President Blaise Compaore continued to dominat...</td>\n",
       "    </tr>\n",
       "    <tr>\n",
       "      <th>4</th>\n",
       "      <td>1999</td>\n",
       "      <td>Burundi</td>\n",
       "      <td>https://www.state.gov/j/drl/rls/hrrpt/1999/230...</td>\n",
       "      <td>Burundi is ruled by an authoritarian military ...</td>\n",
       "    </tr>\n",
       "  </tbody>\n",
       "</table>\n",
       "</div>"
      ],
      "text/plain": [
       "   year       country                                                url  \\\n",
       "0  1999        Angola  https://www.state.gov/j/drl/rls/hrrpt/1999/223...   \n",
       "1  1999         Benin  https://www.state.gov/j/drl/rls/hrrpt/1999/227...   \n",
       "2  1999      Botswana  https://www.state.gov/j/drl/rls/hrrpt/1999/228...   \n",
       "3  1999  Burkina Faso  https://www.state.gov/j/drl/rls/hrrpt/1999/229...   \n",
       "4  1999       Burundi  https://www.state.gov/j/drl/rls/hrrpt/1999/230...   \n",
       "\n",
       "                                                text  \n",
       "0  The Republic of Angola's transition from a sin...  \n",
       "1  The Republic of Benin is a constitutional demo...  \n",
       "2  Botswana is a longstanding, multiparty democra...  \n",
       "3  President Blaise Compaore continued to dominat...  \n",
       "4  Burundi is ruled by an authoritarian military ...  "
      ]
     },
     "execution_count": 15,
     "metadata": {},
     "output_type": "execute_result"
    }
   ],
   "source": [
    "df.head()"
   ]
  },
  {
   "cell_type": "markdown",
   "metadata": {},
   "source": [
    "### Gapminder Names to UN Codes"
   ]
  },
  {
   "cell_type": "code",
   "execution_count": 16,
   "metadata": {
    "collapsed": true
   },
   "outputs": [],
   "source": [
    "fp = \"../data/GapMinder_Raw_CSVs/UNCTRY_CODES_GapMinderNames.csv\"\n",
    "df_un = pd.read_csv(fp)"
   ]
  },
  {
   "cell_type": "code",
   "execution_count": 17,
   "metadata": {},
   "outputs": [],
   "source": [
    "df_un.rename(columns={'CTRY':'country', 'UNCTRY':'code'}, inplace=True)"
   ]
  },
  {
   "cell_type": "code",
   "execution_count": 18,
   "metadata": {},
   "outputs": [],
   "source": [
    "country_un_mapper = {k:v for k,v in zip(df_un.country, df_un.code)}"
   ]
  },
  {
   "cell_type": "code",
   "execution_count": 19,
   "metadata": {
    "collapsed": true
   },
   "outputs": [],
   "source": [
    "def apply_mapper(country_name):\n",
    "    try:\n",
    "        return country_un_mapper[country_name]\n",
    "    except:\n",
    "        return -1"
   ]
  },
  {
   "cell_type": "markdown",
   "metadata": {},
   "source": [
    "### US State Department Country Names"
   ]
  },
  {
   "cell_type": "code",
   "execution_count": 20,
   "metadata": {
    "collapsed": true
   },
   "outputs": [],
   "source": [
    "fp_state = \"../data/Custom_State_Dep_Reports/state_dept_country_names.csv\"\n",
    "df_state = pd.read_csv(fp_state)"
   ]
  },
  {
   "cell_type": "code",
   "execution_count": 21,
   "metadata": {},
   "outputs": [],
   "source": [
    "df_state = df_state[['country', 'simple']].copy()\n",
    "df_state.reset_index(inplace=True, drop=True)\n",
    "df_state.rename(columns={'country': 'country_full', 'simple':'country'}, \n",
    "                inplace=True)"
   ]
  },
  {
   "cell_type": "code",
   "execution_count": 22,
   "metadata": {},
   "outputs": [],
   "source": [
    "df_state['code_full'] = df_state.country_full.apply(apply_mapper)"
   ]
  },
  {
   "cell_type": "code",
   "execution_count": 23,
   "metadata": {
    "collapsed": true
   },
   "outputs": [],
   "source": [
    "df_state['code_short'] = df_state.country.apply(apply_mapper)"
   ]
  },
  {
   "cell_type": "code",
   "execution_count": 24,
   "metadata": {},
   "outputs": [],
   "source": [
    "df_state['code'] = df_state[['code_full','code_short']].apply(max, axis=1)"
   ]
  },
  {
   "cell_type": "code",
   "execution_count": 25,
   "metadata": {
    "collapsed": true
   },
   "outputs": [],
   "source": [
    "# check that all country names are handled (in some way)\n",
    "for cu in df.country.unique():\n",
    "    cu = cu.strip()\n",
    "    _df_cu = df_state[df_state.country == cu]\n",
    "    _df_cu_f = df_state[df_state.country_full == cu]\n",
    "    if (len(_df_cu) == 0) & (len(_df_cu_f) == 0):\n",
    "        print(cu)"
   ]
  },
  {
   "cell_type": "markdown",
   "metadata": {},
   "source": [
    "Make a name to code mapper"
   ]
  },
  {
   "cell_type": "code",
   "execution_count": 26,
   "metadata": {
    "collapsed": true
   },
   "outputs": [],
   "source": [
    "_df_state = df_state[[\"country_full\",\"code\"]].copy()\n",
    "_df_state.rename(columns={\"country_full\":\"country\"}, inplace=True)"
   ]
  },
  {
   "cell_type": "code",
   "execution_count": 27,
   "metadata": {},
   "outputs": [],
   "source": [
    "_df_state.append(df_state[[\"country\", \"code\"]], ignore_index=True)\n",
    "_df_state = _df_state.drop_duplicates()"
   ]
  },
  {
   "cell_type": "code",
   "execution_count": 28,
   "metadata": {
    "collapsed": true
   },
   "outputs": [],
   "source": [
    "state_codes1 = [(k,v) for k, v in zip(df_state.country, _df_state.code)]\n",
    "state_codes2 = [(k,v) for k, v in zip(df_state.country_full, _df_state.code)]"
   ]
  },
  {
   "cell_type": "code",
   "execution_count": 29,
   "metadata": {},
   "outputs": [],
   "source": [
    "mapper_state = {k:v for k,v in set(state_codes1 + state_codes2)}"
   ]
  },
  {
   "cell_type": "markdown",
   "metadata": {},
   "source": [
    "Apply to State Department Sraping"
   ]
  },
  {
   "cell_type": "code",
   "execution_count": 30,
   "metadata": {
    "collapsed": true
   },
   "outputs": [],
   "source": [
    "df.country = df.country.str.strip()"
   ]
  },
  {
   "cell_type": "code",
   "execution_count": 31,
   "metadata": {},
   "outputs": [],
   "source": [
    "df.code = df.country.map(mapper_state)"
   ]
  },
  {
   "cell_type": "code",
   "execution_count": 32,
   "metadata": {},
   "outputs": [
    {
     "data": {
      "text/html": [
       "<div>\n",
       "<style>\n",
       "    .dataframe thead tr:only-child th {\n",
       "        text-align: right;\n",
       "    }\n",
       "\n",
       "    .dataframe thead th {\n",
       "        text-align: left;\n",
       "    }\n",
       "\n",
       "    .dataframe tbody tr th {\n",
       "        vertical-align: top;\n",
       "    }\n",
       "</style>\n",
       "<table border=\"1\" class=\"dataframe\">\n",
       "  <thead>\n",
       "    <tr style=\"text-align: right;\">\n",
       "      <th></th>\n",
       "      <th>year</th>\n",
       "      <th>country</th>\n",
       "      <th>url</th>\n",
       "      <th>text</th>\n",
       "    </tr>\n",
       "  </thead>\n",
       "  <tbody>\n",
       "    <tr>\n",
       "      <th>0</th>\n",
       "      <td>1999</td>\n",
       "      <td>Angola</td>\n",
       "      <td>https://www.state.gov/j/drl/rls/hrrpt/1999/223...</td>\n",
       "      <td>The Republic of Angola's transition from a sin...</td>\n",
       "    </tr>\n",
       "    <tr>\n",
       "      <th>1</th>\n",
       "      <td>1999</td>\n",
       "      <td>Benin</td>\n",
       "      <td>https://www.state.gov/j/drl/rls/hrrpt/1999/227...</td>\n",
       "      <td>The Republic of Benin is a constitutional demo...</td>\n",
       "    </tr>\n",
       "    <tr>\n",
       "      <th>2</th>\n",
       "      <td>1999</td>\n",
       "      <td>Botswana</td>\n",
       "      <td>https://www.state.gov/j/drl/rls/hrrpt/1999/228...</td>\n",
       "      <td>Botswana is a longstanding, multiparty democra...</td>\n",
       "    </tr>\n",
       "    <tr>\n",
       "      <th>3</th>\n",
       "      <td>1999</td>\n",
       "      <td>Burkina Faso</td>\n",
       "      <td>https://www.state.gov/j/drl/rls/hrrpt/1999/229...</td>\n",
       "      <td>President Blaise Compaore continued to dominat...</td>\n",
       "    </tr>\n",
       "    <tr>\n",
       "      <th>4</th>\n",
       "      <td>1999</td>\n",
       "      <td>Burundi</td>\n",
       "      <td>https://www.state.gov/j/drl/rls/hrrpt/1999/230...</td>\n",
       "      <td>Burundi is ruled by an authoritarian military ...</td>\n",
       "    </tr>\n",
       "  </tbody>\n",
       "</table>\n",
       "</div>"
      ],
      "text/plain": [
       "   year       country                                                url  \\\n",
       "0  1999        Angola  https://www.state.gov/j/drl/rls/hrrpt/1999/223...   \n",
       "1  1999         Benin  https://www.state.gov/j/drl/rls/hrrpt/1999/227...   \n",
       "2  1999      Botswana  https://www.state.gov/j/drl/rls/hrrpt/1999/228...   \n",
       "3  1999  Burkina Faso  https://www.state.gov/j/drl/rls/hrrpt/1999/229...   \n",
       "4  1999       Burundi  https://www.state.gov/j/drl/rls/hrrpt/1999/230...   \n",
       "\n",
       "                                                text  \n",
       "0  The Republic of Angola's transition from a sin...  \n",
       "1  The Republic of Benin is a constitutional demo...  \n",
       "2  Botswana is a longstanding, multiparty democra...  \n",
       "3  President Blaise Compaore continued to dominat...  \n",
       "4  Burundi is ruled by an authoritarian military ...  "
      ]
     },
     "execution_count": 32,
     "metadata": {},
     "output_type": "execute_result"
    }
   ],
   "source": [
    "df.head()"
   ]
  },
  {
   "cell_type": "code",
   "execution_count": 33,
   "metadata": {},
   "outputs": [
    {
     "data": {
      "text/html": [
       "<div>\n",
       "<style>\n",
       "    .dataframe thead tr:only-child th {\n",
       "        text-align: right;\n",
       "    }\n",
       "\n",
       "    .dataframe thead th {\n",
       "        text-align: left;\n",
       "    }\n",
       "\n",
       "    .dataframe tbody tr th {\n",
       "        vertical-align: top;\n",
       "    }\n",
       "</style>\n",
       "<table border=\"1\" class=\"dataframe\">\n",
       "  <thead>\n",
       "    <tr style=\"text-align: right;\">\n",
       "      <th></th>\n",
       "      <th>year</th>\n",
       "      <th>country</th>\n",
       "      <th>url</th>\n",
       "      <th>text</th>\n",
       "    </tr>\n",
       "  </thead>\n",
       "  <tbody>\n",
       "    <tr>\n",
       "      <th>3869</th>\n",
       "      <td>2018</td>\n",
       "      <td>Saint Vincent and the Grenadines</td>\n",
       "      <td>https://www.state.gov/j/drl/rls/hrrpt/2018/wha...</td>\n",
       "      <td>\\n\\nPDF\\n\\n\\n    \\n\\n\\nPermalink: http://www.s...</td>\n",
       "    </tr>\n",
       "    <tr>\n",
       "      <th>3870</th>\n",
       "      <td>2018</td>\n",
       "      <td>Suriname</td>\n",
       "      <td>https://www.state.gov/j/drl/rls/hrrpt/2018/wha...</td>\n",
       "      <td>\\n\\nPDF\\n\\n\\n    \\n\\n\\nPermalink: http://www.s...</td>\n",
       "    </tr>\n",
       "    <tr>\n",
       "      <th>3871</th>\n",
       "      <td>2018</td>\n",
       "      <td>Trinidad and Tobago</td>\n",
       "      <td>https://www.state.gov/j/drl/rls/hrrpt/2018/wha...</td>\n",
       "      <td>\\n\\nPDF    \\nPermalink: http://www.state.gov/j...</td>\n",
       "    </tr>\n",
       "    <tr>\n",
       "      <th>3872</th>\n",
       "      <td>2018</td>\n",
       "      <td>Uruguay</td>\n",
       "      <td>https://www.state.gov/j/drl/rls/hrrpt/2018/wha...</td>\n",
       "      <td>\\n\\nPDF    \\nPermalink: http://www.state.gov/j...</td>\n",
       "    </tr>\n",
       "    <tr>\n",
       "      <th>3873</th>\n",
       "      <td>2018</td>\n",
       "      <td>Venezuela</td>\n",
       "      <td>https://www.state.gov/j/drl/rls/hrrpt/2018/wha...</td>\n",
       "      <td>\\n\\nPDF    \\nPermalink: http://www.state.gov/j...</td>\n",
       "    </tr>\n",
       "  </tbody>\n",
       "</table>\n",
       "</div>"
      ],
      "text/plain": [
       "      year                           country  \\\n",
       "3869  2018  Saint Vincent and the Grenadines   \n",
       "3870  2018                          Suriname   \n",
       "3871  2018               Trinidad and Tobago   \n",
       "3872  2018                           Uruguay   \n",
       "3873  2018                         Venezuela   \n",
       "\n",
       "                                                    url  \\\n",
       "3869  https://www.state.gov/j/drl/rls/hrrpt/2018/wha...   \n",
       "3870  https://www.state.gov/j/drl/rls/hrrpt/2018/wha...   \n",
       "3871  https://www.state.gov/j/drl/rls/hrrpt/2018/wha...   \n",
       "3872  https://www.state.gov/j/drl/rls/hrrpt/2018/wha...   \n",
       "3873  https://www.state.gov/j/drl/rls/hrrpt/2018/wha...   \n",
       "\n",
       "                                                   text  \n",
       "3869  \\n\\nPDF\\n\\n\\n    \\n\\n\\nPermalink: http://www.s...  \n",
       "3870  \\n\\nPDF\\n\\n\\n    \\n\\n\\nPermalink: http://www.s...  \n",
       "3871  \\n\\nPDF    \\nPermalink: http://www.state.gov/j...  \n",
       "3872  \\n\\nPDF    \\nPermalink: http://www.state.gov/j...  \n",
       "3873  \\n\\nPDF    \\nPermalink: http://www.state.gov/j...  "
      ]
     },
     "execution_count": 33,
     "metadata": {},
     "output_type": "execute_result"
    }
   ],
   "source": [
    "df.tail()"
   ]
  },
  {
   "cell_type": "code",
   "execution_count": 34,
   "metadata": {
    "collapsed": true
   },
   "outputs": [],
   "source": [
    "df.to_csv('us_state_dept_reports_1999_2018.csv', index=False)"
   ]
  },
  {
   "cell_type": "markdown",
   "metadata": {},
   "source": [
    "##### Missing / Error Codes"
   ]
  },
  {
   "cell_type": "markdown",
   "metadata": {},
   "source": [
    "Code == 9000  \n",
    "States Added, but UN / US State Department category does not exist"
   ]
  },
  {
   "cell_type": "code",
   "execution_count": 35,
   "metadata": {},
   "outputs": [
    {
     "data": {
      "text/html": [
       "<div>\n",
       "<style>\n",
       "    .dataframe thead tr:only-child th {\n",
       "        text-align: right;\n",
       "    }\n",
       "\n",
       "    .dataframe thead th {\n",
       "        text-align: left;\n",
       "    }\n",
       "\n",
       "    .dataframe tbody tr th {\n",
       "        vertical-align: top;\n",
       "    }\n",
       "</style>\n",
       "<table border=\"1\" class=\"dataframe\">\n",
       "  <thead>\n",
       "    <tr style=\"text-align: right;\">\n",
       "      <th></th>\n",
       "      <th>country_full</th>\n",
       "      <th>country</th>\n",
       "      <th>code_full</th>\n",
       "      <th>code_short</th>\n",
       "      <th>code</th>\n",
       "    </tr>\n",
       "  </thead>\n",
       "  <tbody>\n",
       "    <tr>\n",
       "      <th>55</th>\n",
       "      <td>Hong Kong</td>\n",
       "      <td>Hong Kong</td>\n",
       "      <td>9000</td>\n",
       "      <td>9000</td>\n",
       "      <td>9000</td>\n",
       "    </tr>\n",
       "    <tr>\n",
       "      <th>60</th>\n",
       "      <td>Macau</td>\n",
       "      <td>Macau</td>\n",
       "      <td>9000</td>\n",
       "      <td>9000</td>\n",
       "      <td>9000</td>\n",
       "    </tr>\n",
       "    <tr>\n",
       "      <th>76</th>\n",
       "      <td>Taiwan</td>\n",
       "      <td>Taiwan</td>\n",
       "      <td>9000</td>\n",
       "      <td>9000</td>\n",
       "      <td>9000</td>\n",
       "    </tr>\n",
       "    <tr>\n",
       "      <th>185</th>\n",
       "      <td>Western Sahara</td>\n",
       "      <td>Western Sahara</td>\n",
       "      <td>-1</td>\n",
       "      <td>9000</td>\n",
       "      <td>9000</td>\n",
       "    </tr>\n",
       "    <tr>\n",
       "      <th>217</th>\n",
       "      <td>Yugoslavia, Federal Republic of</td>\n",
       "      <td>Yugoslavia</td>\n",
       "      <td>-1</td>\n",
       "      <td>9000</td>\n",
       "      <td>9000</td>\n",
       "    </tr>\n",
       "    <tr>\n",
       "      <th>226</th>\n",
       "      <td>Western Sahara</td>\n",
       "      <td>Western Sahara</td>\n",
       "      <td>9000</td>\n",
       "      <td>9000</td>\n",
       "      <td>9000</td>\n",
       "    </tr>\n",
       "    <tr>\n",
       "      <th>248</th>\n",
       "      <td>Kosovo</td>\n",
       "      <td>Kosovo</td>\n",
       "      <td>9000</td>\n",
       "      <td>9000</td>\n",
       "      <td>9000</td>\n",
       "    </tr>\n",
       "    <tr>\n",
       "      <th>252</th>\n",
       "      <td>Kosovo</td>\n",
       "      <td>Kosovo</td>\n",
       "      <td>9000</td>\n",
       "      <td>9000</td>\n",
       "      <td>9000</td>\n",
       "    </tr>\n",
       "    <tr>\n",
       "      <th>255</th>\n",
       "      <td>Western Sahara</td>\n",
       "      <td>Morocco</td>\n",
       "      <td>9000</td>\n",
       "      <td>504</td>\n",
       "      <td>9000</td>\n",
       "    </tr>\n",
       "    <tr>\n",
       "      <th>266</th>\n",
       "      <td>Cabo Verde</td>\n",
       "      <td>Cabo Verde</td>\n",
       "      <td>9000</td>\n",
       "      <td>9000</td>\n",
       "      <td>9000</td>\n",
       "    </tr>\n",
       "  </tbody>\n",
       "</table>\n",
       "</div>"
      ],
      "text/plain": [
       "                        country_full         country  code_full  code_short  \\\n",
       "55                         Hong Kong       Hong Kong       9000        9000   \n",
       "60                             Macau           Macau       9000        9000   \n",
       "76                            Taiwan          Taiwan       9000        9000   \n",
       "185                  Western Sahara   Western Sahara         -1        9000   \n",
       "217  Yugoslavia, Federal Republic of      Yugoslavia         -1        9000   \n",
       "226                   Western Sahara  Western Sahara       9000        9000   \n",
       "248                           Kosovo          Kosovo       9000        9000   \n",
       "252                           Kosovo          Kosovo       9000        9000   \n",
       "255                   Western Sahara         Morocco       9000         504   \n",
       "266                       Cabo Verde      Cabo Verde       9000        9000   \n",
       "\n",
       "     code  \n",
       "55   9000  \n",
       "60   9000  \n",
       "76   9000  \n",
       "185  9000  \n",
       "217  9000  \n",
       "226  9000  \n",
       "248  9000  \n",
       "252  9000  \n",
       "255  9000  \n",
       "266  9000  "
      ]
     },
     "execution_count": 35,
     "metadata": {},
     "output_type": "execute_result"
    }
   ],
   "source": [
    "df_state[df_state.code  == 9000]"
   ]
  },
  {
   "cell_type": "markdown",
   "metadata": {},
   "source": [
    "Code == -1  \n",
    "A parsing or labeling error from the scraping steps.  In this case, some yearly editions contained prefaces and introductions."
   ]
  },
  {
   "cell_type": "code",
   "execution_count": 36,
   "metadata": {},
   "outputs": [
    {
     "data": {
      "text/html": [
       "<div>\n",
       "<style>\n",
       "    .dataframe thead tr:only-child th {\n",
       "        text-align: right;\n",
       "    }\n",
       "\n",
       "    .dataframe thead th {\n",
       "        text-align: left;\n",
       "    }\n",
       "\n",
       "    .dataframe tbody tr th {\n",
       "        vertical-align: top;\n",
       "    }\n",
       "</style>\n",
       "<table border=\"1\" class=\"dataframe\">\n",
       "  <thead>\n",
       "    <tr style=\"text-align: right;\">\n",
       "      <th></th>\n",
       "      <th>country_full</th>\n",
       "      <th>country</th>\n",
       "      <th>code_full</th>\n",
       "      <th>code_short</th>\n",
       "      <th>code</th>\n",
       "    </tr>\n",
       "  </thead>\n",
       "  <tbody>\n",
       "    <tr>\n",
       "      <th>240</th>\n",
       "      <td>Preface</td>\n",
       "      <td>Preface</td>\n",
       "      <td>-1</td>\n",
       "      <td>-1</td>\n",
       "      <td>-1</td>\n",
       "    </tr>\n",
       "    <tr>\n",
       "      <th>241</th>\n",
       "      <td>Introduction</td>\n",
       "      <td>Introduction</td>\n",
       "      <td>-1</td>\n",
       "      <td>-1</td>\n",
       "      <td>-1</td>\n",
       "    </tr>\n",
       "  </tbody>\n",
       "</table>\n",
       "</div>"
      ],
      "text/plain": [
       "     country_full       country  code_full  code_short  code\n",
       "240       Preface       Preface         -1          -1    -1\n",
       "241  Introduction  Introduction         -1          -1    -1"
      ]
     },
     "execution_count": 36,
     "metadata": {},
     "output_type": "execute_result"
    }
   ],
   "source": [
    "df_state[df_state.code  == -1]"
   ]
  }
 ],
 "metadata": {
  "kernelspec": {
   "display_name": "Python 3",
   "language": "python",
   "name": "python3"
  },
  "language_info": {
   "codemirror_mode": {
    "name": "ipython",
    "version": 3
   },
   "file_extension": ".py",
   "mimetype": "text/x-python",
   "name": "python",
   "nbconvert_exporter": "python",
   "pygments_lexer": "ipython3",
   "version": "3.6.2"
  }
 },
 "nbformat": 4,
 "nbformat_minor": 2
}
