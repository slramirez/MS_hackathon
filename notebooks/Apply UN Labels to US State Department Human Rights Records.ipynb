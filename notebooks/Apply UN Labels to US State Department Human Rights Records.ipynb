{
 "cells": [
  {
   "cell_type": "code",
   "execution_count": 1,
   "metadata": {},
   "outputs": [],
   "source": [
    "import time\n",
    "import requests\n",
    "import numpy as np\n",
    "import pandas as pd\n",
    "\n",
    "from bs4 import BeautifulSoup"
   ]
  },
  {
   "cell_type": "code",
   "execution_count": 2,
   "metadata": {},
   "outputs": [],
   "source": [
    "pd.set_option(\"display.max_columns\", 2000)\n",
    "pd.set_option(\"display.max_rows\", 2000)"
   ]
  },
  {
   "cell_type": "code",
   "execution_count": 3,
   "metadata": {},
   "outputs": [],
   "source": [
    "df = pd.read_csv(\"../data/us_state_dept_hr_reports.csv\")"
   ]
  },
  {
   "cell_type": "markdown",
   "metadata": {},
   "source": [
    "### Gapminder Names to UN Codes"
   ]
  },
  {
   "cell_type": "code",
   "execution_count": 4,
   "metadata": {},
   "outputs": [],
   "source": [
    "fp = \"../data/GapMinder_Raw_CSVs/UNCTRY_CODES_GapMinderNames.csv\"\n",
    "df_un = pd.read_csv(fp)"
   ]
  },
  {
   "cell_type": "code",
   "execution_count": 5,
   "metadata": {},
   "outputs": [],
   "source": [
    "df_un.rename(columns={'CTRY':'country', 'UNCTRY':'code'}, inplace=True)"
   ]
  },
  {
   "cell_type": "code",
   "execution_count": 6,
   "metadata": {},
   "outputs": [],
   "source": [
    "country_un_mapper = {k:v for k,v in zip(df_un.country, df_un.code)}"
   ]
  },
  {
   "cell_type": "code",
   "execution_count": 7,
   "metadata": {},
   "outputs": [],
   "source": [
    "def apply_mapper(country_name):\n",
    "    try:\n",
    "        return country_un_mapper[country_name]\n",
    "    except:\n",
    "        return -1"
   ]
  },
  {
   "cell_type": "markdown",
   "metadata": {},
   "source": [
    "### US State Department Country Names"
   ]
  },
  {
   "cell_type": "code",
   "execution_count": 8,
   "metadata": {},
   "outputs": [],
   "source": [
    "fp_state = \"../data/Custom_State_Dep_Reports/state_dept_country_names.csv\"\n",
    "df_state = pd.read_csv(fp_state)"
   ]
  },
  {
   "cell_type": "code",
   "execution_count": 9,
   "metadata": {},
   "outputs": [],
   "source": [
    "df_state = df_state[['country', 'simple']].copy()\n",
    "df_state.reset_index(inplace=True, drop=True)\n",
    "df_state.rename(columns={'country': 'country_full', 'simple':'country'}, \n",
    "                inplace=True)"
   ]
  },
  {
   "cell_type": "code",
   "execution_count": 10,
   "metadata": {},
   "outputs": [],
   "source": [
    "df_state['code_full'] = df_state.country_full.apply(apply_mapper)"
   ]
  },
  {
   "cell_type": "code",
   "execution_count": 11,
   "metadata": {},
   "outputs": [],
   "source": [
    "df_state['code_short'] = df_state.country.apply(apply_mapper)"
   ]
  },
  {
   "cell_type": "code",
   "execution_count": 12,
   "metadata": {},
   "outputs": [],
   "source": [
    "df_state['code'] = df_state[['code_full','code_short']].apply(max, axis=1)"
   ]
  },
  {
   "cell_type": "code",
   "execution_count": 13,
   "metadata": {},
   "outputs": [],
   "source": [
    "# check that all country names are handled (in some way)\n",
    "for cu in df.country.unique():\n",
    "    cu = cu.strip()\n",
    "    _df_cu = df_state[df_state.country == cu]\n",
    "    _df_cu_f = df_state[df_state.country_full == cu]\n",
    "    if (len(_df_cu) == 0) & (len(_df_cu_f) == 0):\n",
    "        print(cu)"
   ]
  },
  {
   "cell_type": "markdown",
   "metadata": {},
   "source": [
    "Make a name to code mapper"
   ]
  },
  {
   "cell_type": "code",
   "execution_count": 14,
   "metadata": {},
   "outputs": [],
   "source": [
    "_df_state = df_state[[\"country_full\",\"code\"]].copy()\n",
    "_df_state.rename(columns={\"country_full\":\"country\"}, inplace=True)"
   ]
  },
  {
   "cell_type": "code",
   "execution_count": 15,
   "metadata": {},
   "outputs": [],
   "source": [
    "_df_state.append(df_state[[\"country\", \"code\"]], ignore_index=True)\n",
    "_df_state = _df_state.drop_duplicates()"
   ]
  },
  {
   "cell_type": "code",
   "execution_count": 16,
   "metadata": {},
   "outputs": [],
   "source": [
    "state_codes1 = [(k,v) for k, v in zip(df_state.country, _df_state.code)]\n",
    "state_codes2 = [(k,v) for k, v in zip(df_state.country_full, _df_state.code)]"
   ]
  },
  {
   "cell_type": "code",
   "execution_count": 17,
   "metadata": {},
   "outputs": [],
   "source": [
    "mapper_state = {k:v for k,v in set(state_codes1 + state_codes2)}"
   ]
  },
  {
   "cell_type": "markdown",
   "metadata": {},
   "source": [
    "Apply to State Department Sraping"
   ]
  },
  {
   "cell_type": "code",
   "execution_count": 18,
   "metadata": {},
   "outputs": [],
   "source": [
    "df.country = df.country.str.strip()"
   ]
  },
  {
   "cell_type": "code",
   "execution_count": 19,
   "metadata": {},
   "outputs": [],
   "source": [
    "df['code'] = df.country.map(mapper_state)"
   ]
  },
  {
   "cell_type": "code",
   "execution_count": 20,
   "metadata": {},
   "outputs": [
    {
     "data": {
      "text/html": [
       "<div>\n",
       "<style scoped>\n",
       "    .dataframe tbody tr th:only-of-type {\n",
       "        vertical-align: middle;\n",
       "    }\n",
       "\n",
       "    .dataframe tbody tr th {\n",
       "        vertical-align: top;\n",
       "    }\n",
       "\n",
       "    .dataframe thead th {\n",
       "        text-align: right;\n",
       "    }\n",
       "</style>\n",
       "<table border=\"1\" class=\"dataframe\">\n",
       "  <thead>\n",
       "    <tr style=\"text-align: right;\">\n",
       "      <th></th>\n",
       "      <th>Unnamed: 0</th>\n",
       "      <th>year</th>\n",
       "      <th>country</th>\n",
       "      <th>url</th>\n",
       "      <th>text</th>\n",
       "      <th>code</th>\n",
       "    </tr>\n",
       "  </thead>\n",
       "  <tbody>\n",
       "    <tr>\n",
       "      <th>0</th>\n",
       "      <td>0</td>\n",
       "      <td>1999</td>\n",
       "      <td>Angola</td>\n",
       "      <td>https://www.state.gov/j/drl/rls/hrrpt/1999/223...</td>\n",
       "      <td>The Republic of Angola's transition from a sin...</td>\n",
       "      <td>24.0</td>\n",
       "    </tr>\n",
       "    <tr>\n",
       "      <th>1</th>\n",
       "      <td>1</td>\n",
       "      <td>1999</td>\n",
       "      <td>Benin</td>\n",
       "      <td>https://www.state.gov/j/drl/rls/hrrpt/1999/227...</td>\n",
       "      <td>The Republic of Benin is a constitutional demo...</td>\n",
       "      <td>204.0</td>\n",
       "    </tr>\n",
       "    <tr>\n",
       "      <th>2</th>\n",
       "      <td>2</td>\n",
       "      <td>1999</td>\n",
       "      <td>Botswana</td>\n",
       "      <td>https://www.state.gov/j/drl/rls/hrrpt/1999/228...</td>\n",
       "      <td>Botswana is a longstanding, multiparty democra...</td>\n",
       "      <td>72.0</td>\n",
       "    </tr>\n",
       "    <tr>\n",
       "      <th>3</th>\n",
       "      <td>3</td>\n",
       "      <td>1999</td>\n",
       "      <td>Burkina Faso</td>\n",
       "      <td>https://www.state.gov/j/drl/rls/hrrpt/1999/229...</td>\n",
       "      <td>President Blaise Compaore continued to dominat...</td>\n",
       "      <td>854.0</td>\n",
       "    </tr>\n",
       "    <tr>\n",
       "      <th>4</th>\n",
       "      <td>4</td>\n",
       "      <td>1999</td>\n",
       "      <td>Burundi</td>\n",
       "      <td>https://www.state.gov/j/drl/rls/hrrpt/1999/230...</td>\n",
       "      <td>Burundi is ruled by an authoritarian military ...</td>\n",
       "      <td>108.0</td>\n",
       "    </tr>\n",
       "  </tbody>\n",
       "</table>\n",
       "</div>"
      ],
      "text/plain": [
       "   Unnamed: 0  year       country  \\\n",
       "0           0  1999        Angola   \n",
       "1           1  1999         Benin   \n",
       "2           2  1999      Botswana   \n",
       "3           3  1999  Burkina Faso   \n",
       "4           4  1999       Burundi   \n",
       "\n",
       "                                                 url  \\\n",
       "0  https://www.state.gov/j/drl/rls/hrrpt/1999/223...   \n",
       "1  https://www.state.gov/j/drl/rls/hrrpt/1999/227...   \n",
       "2  https://www.state.gov/j/drl/rls/hrrpt/1999/228...   \n",
       "3  https://www.state.gov/j/drl/rls/hrrpt/1999/229...   \n",
       "4  https://www.state.gov/j/drl/rls/hrrpt/1999/230...   \n",
       "\n",
       "                                                text   code  \n",
       "0  The Republic of Angola's transition from a sin...   24.0  \n",
       "1  The Republic of Benin is a constitutional demo...  204.0  \n",
       "2  Botswana is a longstanding, multiparty democra...   72.0  \n",
       "3  President Blaise Compaore continued to dominat...  854.0  \n",
       "4  Burundi is ruled by an authoritarian military ...  108.0  "
      ]
     },
     "execution_count": 20,
     "metadata": {},
     "output_type": "execute_result"
    }
   ],
   "source": [
    "df.head()"
   ]
  },
  {
   "cell_type": "code",
   "execution_count": 21,
   "metadata": {},
   "outputs": [
    {
     "data": {
      "text/html": [
       "<div>\n",
       "<style scoped>\n",
       "    .dataframe tbody tr th:only-of-type {\n",
       "        vertical-align: middle;\n",
       "    }\n",
       "\n",
       "    .dataframe tbody tr th {\n",
       "        vertical-align: top;\n",
       "    }\n",
       "\n",
       "    .dataframe thead th {\n",
       "        text-align: right;\n",
       "    }\n",
       "</style>\n",
       "<table border=\"1\" class=\"dataframe\">\n",
       "  <thead>\n",
       "    <tr style=\"text-align: right;\">\n",
       "      <th></th>\n",
       "      <th>Unnamed: 0</th>\n",
       "      <th>year</th>\n",
       "      <th>country</th>\n",
       "      <th>url</th>\n",
       "      <th>text</th>\n",
       "      <th>code</th>\n",
       "    </tr>\n",
       "  </thead>\n",
       "  <tbody>\n",
       "    <tr>\n",
       "      <th>3869</th>\n",
       "      <td>3869</td>\n",
       "      <td>2018</td>\n",
       "      <td>Saint Vincent and the Grenadines</td>\n",
       "      <td>https://www.state.gov/j/drl/rls/hrrpt/2018/wha...</td>\n",
       "      <td>\\n\\nPDF\\n\\n\\n    \\n\\n\\nPermalink: http://www.s...</td>\n",
       "      <td>670.0</td>\n",
       "    </tr>\n",
       "    <tr>\n",
       "      <th>3870</th>\n",
       "      <td>3870</td>\n",
       "      <td>2018</td>\n",
       "      <td>Suriname</td>\n",
       "      <td>https://www.state.gov/j/drl/rls/hrrpt/2018/wha...</td>\n",
       "      <td>\\n\\nPDF\\n\\n\\n    \\n\\n\\nPermalink: http://www.s...</td>\n",
       "      <td>NaN</td>\n",
       "    </tr>\n",
       "    <tr>\n",
       "      <th>3871</th>\n",
       "      <td>3871</td>\n",
       "      <td>2018</td>\n",
       "      <td>Trinidad and Tobago</td>\n",
       "      <td>https://www.state.gov/j/drl/rls/hrrpt/2018/wha...</td>\n",
       "      <td>\\n\\nPDF    \\nPermalink: http://www.state.gov/j...</td>\n",
       "      <td>780.0</td>\n",
       "    </tr>\n",
       "    <tr>\n",
       "      <th>3872</th>\n",
       "      <td>3872</td>\n",
       "      <td>2018</td>\n",
       "      <td>Uruguay</td>\n",
       "      <td>https://www.state.gov/j/drl/rls/hrrpt/2018/wha...</td>\n",
       "      <td>\\n\\nPDF    \\nPermalink: http://www.state.gov/j...</td>\n",
       "      <td>858.0</td>\n",
       "    </tr>\n",
       "    <tr>\n",
       "      <th>3873</th>\n",
       "      <td>3873</td>\n",
       "      <td>2018</td>\n",
       "      <td>Venezuela</td>\n",
       "      <td>https://www.state.gov/j/drl/rls/hrrpt/2018/wha...</td>\n",
       "      <td>\\n\\nPDF    \\nPermalink: http://www.state.gov/j...</td>\n",
       "      <td>862.0</td>\n",
       "    </tr>\n",
       "  </tbody>\n",
       "</table>\n",
       "</div>"
      ],
      "text/plain": [
       "      Unnamed: 0  year                           country  \\\n",
       "3869        3869  2018  Saint Vincent and the Grenadines   \n",
       "3870        3870  2018                          Suriname   \n",
       "3871        3871  2018               Trinidad and Tobago   \n",
       "3872        3872  2018                           Uruguay   \n",
       "3873        3873  2018                         Venezuela   \n",
       "\n",
       "                                                    url  \\\n",
       "3869  https://www.state.gov/j/drl/rls/hrrpt/2018/wha...   \n",
       "3870  https://www.state.gov/j/drl/rls/hrrpt/2018/wha...   \n",
       "3871  https://www.state.gov/j/drl/rls/hrrpt/2018/wha...   \n",
       "3872  https://www.state.gov/j/drl/rls/hrrpt/2018/wha...   \n",
       "3873  https://www.state.gov/j/drl/rls/hrrpt/2018/wha...   \n",
       "\n",
       "                                                   text   code  \n",
       "3869  \\n\\nPDF\\n\\n\\n    \\n\\n\\nPermalink: http://www.s...  670.0  \n",
       "3870  \\n\\nPDF\\n\\n\\n    \\n\\n\\nPermalink: http://www.s...    NaN  \n",
       "3871  \\n\\nPDF    \\nPermalink: http://www.state.gov/j...  780.0  \n",
       "3872  \\n\\nPDF    \\nPermalink: http://www.state.gov/j...  858.0  \n",
       "3873  \\n\\nPDF    \\nPermalink: http://www.state.gov/j...  862.0  "
      ]
     },
     "execution_count": 21,
     "metadata": {},
     "output_type": "execute_result"
    }
   ],
   "source": [
    "df.tail()"
   ]
  },
  {
   "cell_type": "code",
   "execution_count": 22,
   "metadata": {},
   "outputs": [],
   "source": [
    "df.to_csv('../data/us_state_dept_hr_reports_un_coded_1999_2018.csv', \n",
    "          index=False)"
   ]
  },
  {
   "cell_type": "code",
   "execution_count": 23,
   "metadata": {},
   "outputs": [
    {
     "data": {
      "text/plain": [
       "1999"
      ]
     },
     "execution_count": 23,
     "metadata": {},
     "output_type": "execute_result"
    }
   ],
   "source": [
    "df.year.min()"
   ]
  },
  {
   "cell_type": "code",
   "execution_count": null,
   "metadata": {},
   "outputs": [],
   "source": []
  },
  {
   "cell_type": "markdown",
   "metadata": {},
   "source": [
    "##### Missing / Error Codes"
   ]
  },
  {
   "cell_type": "markdown",
   "metadata": {},
   "source": [
    "Code == 9000  \n",
    "States Added, but UN / US State Department category does not exist"
   ]
  },
  {
   "cell_type": "code",
   "execution_count": 24,
   "metadata": {},
   "outputs": [
    {
     "data": {
      "text/html": [
       "<div>\n",
       "<style scoped>\n",
       "    .dataframe tbody tr th:only-of-type {\n",
       "        vertical-align: middle;\n",
       "    }\n",
       "\n",
       "    .dataframe tbody tr th {\n",
       "        vertical-align: top;\n",
       "    }\n",
       "\n",
       "    .dataframe thead th {\n",
       "        text-align: right;\n",
       "    }\n",
       "</style>\n",
       "<table border=\"1\" class=\"dataframe\">\n",
       "  <thead>\n",
       "    <tr style=\"text-align: right;\">\n",
       "      <th></th>\n",
       "      <th>country_full</th>\n",
       "      <th>country</th>\n",
       "      <th>code_full</th>\n",
       "      <th>code_short</th>\n",
       "      <th>code</th>\n",
       "    </tr>\n",
       "  </thead>\n",
       "  <tbody>\n",
       "    <tr>\n",
       "      <th>55</th>\n",
       "      <td>Hong Kong</td>\n",
       "      <td>Hong Kong</td>\n",
       "      <td>9000</td>\n",
       "      <td>9000</td>\n",
       "      <td>9000</td>\n",
       "    </tr>\n",
       "    <tr>\n",
       "      <th>60</th>\n",
       "      <td>Macau</td>\n",
       "      <td>Macau</td>\n",
       "      <td>9000</td>\n",
       "      <td>9000</td>\n",
       "      <td>9000</td>\n",
       "    </tr>\n",
       "    <tr>\n",
       "      <th>76</th>\n",
       "      <td>Taiwan</td>\n",
       "      <td>Taiwan</td>\n",
       "      <td>9000</td>\n",
       "      <td>9000</td>\n",
       "      <td>9000</td>\n",
       "    </tr>\n",
       "    <tr>\n",
       "      <th>185</th>\n",
       "      <td>Western Sahara</td>\n",
       "      <td>Western Sahara</td>\n",
       "      <td>-1</td>\n",
       "      <td>9000</td>\n",
       "      <td>9000</td>\n",
       "    </tr>\n",
       "    <tr>\n",
       "      <th>217</th>\n",
       "      <td>Yugoslavia, Federal Republic of</td>\n",
       "      <td>Yugoslavia</td>\n",
       "      <td>-1</td>\n",
       "      <td>9000</td>\n",
       "      <td>9000</td>\n",
       "    </tr>\n",
       "    <tr>\n",
       "      <th>226</th>\n",
       "      <td>Western Sahara</td>\n",
       "      <td>Western Sahara</td>\n",
       "      <td>9000</td>\n",
       "      <td>9000</td>\n",
       "      <td>9000</td>\n",
       "    </tr>\n",
       "    <tr>\n",
       "      <th>248</th>\n",
       "      <td>Kosovo</td>\n",
       "      <td>Kosovo</td>\n",
       "      <td>9000</td>\n",
       "      <td>9000</td>\n",
       "      <td>9000</td>\n",
       "    </tr>\n",
       "    <tr>\n",
       "      <th>252</th>\n",
       "      <td>Kosovo</td>\n",
       "      <td>Kosovo</td>\n",
       "      <td>9000</td>\n",
       "      <td>9000</td>\n",
       "      <td>9000</td>\n",
       "    </tr>\n",
       "    <tr>\n",
       "      <th>255</th>\n",
       "      <td>Western Sahara</td>\n",
       "      <td>Morocco</td>\n",
       "      <td>9000</td>\n",
       "      <td>504</td>\n",
       "      <td>9000</td>\n",
       "    </tr>\n",
       "    <tr>\n",
       "      <th>266</th>\n",
       "      <td>Cabo Verde</td>\n",
       "      <td>Cabo Verde</td>\n",
       "      <td>9000</td>\n",
       "      <td>9000</td>\n",
       "      <td>9000</td>\n",
       "    </tr>\n",
       "  </tbody>\n",
       "</table>\n",
       "</div>"
      ],
      "text/plain": [
       "                        country_full         country  code_full  code_short  \\\n",
       "55                         Hong Kong       Hong Kong       9000        9000   \n",
       "60                             Macau           Macau       9000        9000   \n",
       "76                            Taiwan          Taiwan       9000        9000   \n",
       "185                  Western Sahara   Western Sahara         -1        9000   \n",
       "217  Yugoslavia, Federal Republic of      Yugoslavia         -1        9000   \n",
       "226                   Western Sahara  Western Sahara       9000        9000   \n",
       "248                           Kosovo          Kosovo       9000        9000   \n",
       "252                           Kosovo          Kosovo       9000        9000   \n",
       "255                   Western Sahara         Morocco       9000         504   \n",
       "266                       Cabo Verde      Cabo Verde       9000        9000   \n",
       "\n",
       "     code  \n",
       "55   9000  \n",
       "60   9000  \n",
       "76   9000  \n",
       "185  9000  \n",
       "217  9000  \n",
       "226  9000  \n",
       "248  9000  \n",
       "252  9000  \n",
       "255  9000  \n",
       "266  9000  "
      ]
     },
     "execution_count": 24,
     "metadata": {},
     "output_type": "execute_result"
    }
   ],
   "source": [
    "df_state[df_state.code  == 9000]"
   ]
  },
  {
   "cell_type": "markdown",
   "metadata": {},
   "source": [
    "Code == -1  \n",
    "A parsing or labeling error from the scraping steps.  In this case, some yearly editions contained prefaces and introductions."
   ]
  },
  {
   "cell_type": "code",
   "execution_count": 25,
   "metadata": {},
   "outputs": [
    {
     "data": {
      "text/html": [
       "<div>\n",
       "<style scoped>\n",
       "    .dataframe tbody tr th:only-of-type {\n",
       "        vertical-align: middle;\n",
       "    }\n",
       "\n",
       "    .dataframe tbody tr th {\n",
       "        vertical-align: top;\n",
       "    }\n",
       "\n",
       "    .dataframe thead th {\n",
       "        text-align: right;\n",
       "    }\n",
       "</style>\n",
       "<table border=\"1\" class=\"dataframe\">\n",
       "  <thead>\n",
       "    <tr style=\"text-align: right;\">\n",
       "      <th></th>\n",
       "      <th>country_full</th>\n",
       "      <th>country</th>\n",
       "      <th>code_full</th>\n",
       "      <th>code_short</th>\n",
       "      <th>code</th>\n",
       "    </tr>\n",
       "  </thead>\n",
       "  <tbody>\n",
       "    <tr>\n",
       "      <th>240</th>\n",
       "      <td>Preface</td>\n",
       "      <td>Preface</td>\n",
       "      <td>-1</td>\n",
       "      <td>-1</td>\n",
       "      <td>-1</td>\n",
       "    </tr>\n",
       "    <tr>\n",
       "      <th>241</th>\n",
       "      <td>Introduction</td>\n",
       "      <td>Introduction</td>\n",
       "      <td>-1</td>\n",
       "      <td>-1</td>\n",
       "      <td>-1</td>\n",
       "    </tr>\n",
       "  </tbody>\n",
       "</table>\n",
       "</div>"
      ],
      "text/plain": [
       "     country_full       country  code_full  code_short  code\n",
       "240       Preface       Preface         -1          -1    -1\n",
       "241  Introduction  Introduction         -1          -1    -1"
      ]
     },
     "execution_count": 25,
     "metadata": {},
     "output_type": "execute_result"
    }
   ],
   "source": [
    "df_state[df_state.code  == -1]"
   ]
  }
 ],
 "metadata": {
  "kernelspec": {
   "display_name": "Python 3",
   "language": "python",
   "name": "python3"
  },
  "language_info": {
   "codemirror_mode": {
    "name": "ipython",
    "version": 3
   },
   "file_extension": ".py",
   "mimetype": "text/x-python",
   "name": "python",
   "nbconvert_exporter": "python",
   "pygments_lexer": "ipython3",
   "version": "3.6.8"
  }
 },
 "nbformat": 4,
 "nbformat_minor": 2
}
