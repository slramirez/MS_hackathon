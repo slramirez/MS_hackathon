{
 "cells": [
  {
   "cell_type": "markdown",
   "metadata": {},
   "source": [
    "## Parsing Amnesty International Annual Reports\n",
    "This data came with information on 159 countries in a single .pdf file. I translated them to .txt files. My aim in this notebook is to parse information on each individual country into a row."
   ]
  },
  {
   "cell_type": "code",
   "execution_count": 1,
   "metadata": {},
   "outputs": [],
   "source": [
    "## Importing needed libraries\n",
    "import pandas as pd\n",
    "import re"
   ]
  },
  {
   "cell_type": "code",
   "execution_count": 2,
   "metadata": {},
   "outputs": [],
   "source": [
    "## Loading data\n",
    "with open('../data/Amnesty_reports/Amnesty_2018.txt') as file:\n",
    "    Amnesty2018 = file.read()"
   ]
  },
  {
   "cell_type": "code",
   "execution_count": 3,
   "metadata": {},
   "outputs": [
    {
     "data": {
      "text/plain": [
       "'AFGHANISTAN Islamic Republic of Afghanistan Head of state and government: Muhammad Ashraf Ghani The civilian population suffered widespread human rights abuses as a result of the continuing conflict. Conflict-related violence led to deaths, injuries and displacement. Civilian casualties continued to be high; the majority were killed or injured by armed insurgent groups, but a significant minority by pro-government forces. The number of people internally displaced by conflict rose to more than  million; about . million Afghan refugees lived outside the country. Gender-based violence against women and girls persisted by state and non-state actors. An increase in public punishments of women by armed groups applying Shari’a law was reported. Human rights defenders received threats from both state and non-state actors; journalists faced violence and censorship. Death sentences continued to be imposed; five people were executed in November. Members of the Hazara minority group and Shi’a cont'"
      ]
     },
     "execution_count": 3,
     "metadata": {},
     "output_type": "execute_result"
    }
   ],
   "source": [
    "# Deleting troublesome regexes and other ancillary phrases/words\n",
    "data_clean = Amnesty2018.replace('\\n',' ')      # deleting all instances of \"\\n\"\n",
    "data_clean = data_clean.replace('Amnesty International Report 2017/18',' ')   # delete all instances of this phrase \n",
    "                                                                              # that appeared on each page of the report\n",
    "\n",
    "data_clean = re.sub(\"\\d+\", \"\", data_clean)    # deleting all numbers\n",
    "data_clean [:1000]                  # snapshot of cleaned data"
   ]
  },
  {
   "cell_type": "markdown",
   "metadata": {},
   "source": [
    "Now comes the actual chore of parsing the data. I had to manualy code in the countries. The code if case specific, that is why there is a mixture of upper and lower cases for different countries."
   ]
  },
  {
   "cell_type": "code",
   "execution_count": 4,
   "metadata": {
    "scrolled": false
   },
   "outputs": [
    {
     "name": "stdout",
     "output_type": "stream",
     "text": [
      "(159, 1)\n"
     ]
    },
    {
     "data": {
      "text/html": [
       "<div>\n",
       "<style scoped>\n",
       "    .dataframe tbody tr th:only-of-type {\n",
       "        vertical-align: middle;\n",
       "    }\n",
       "\n",
       "    .dataframe tbody tr th {\n",
       "        vertical-align: top;\n",
       "    }\n",
       "\n",
       "    .dataframe thead th {\n",
       "        text-align: right;\n",
       "    }\n",
       "</style>\n",
       "<table border=\"1\" class=\"dataframe\">\n",
       "  <thead>\n",
       "    <tr style=\"text-align: right;\">\n",
       "      <th></th>\n",
       "      <th>Report_2018</th>\n",
       "    </tr>\n",
       "  </thead>\n",
       "  <tbody>\n",
       "    <tr>\n",
       "      <th>0</th>\n",
       "      <td>AFGHANISTAN Islamic Republic of Afghanistan He...</td>\n",
       "    </tr>\n",
       "    <tr>\n",
       "      <th>1</th>\n",
       "      <td>ALBANIA Republic of Albania Head of state: Ili...</td>\n",
       "    </tr>\n",
       "    <tr>\n",
       "      <th>2</th>\n",
       "      <td>ALGERIA People’s Democratic Republic of Algeri...</td>\n",
       "    </tr>\n",
       "    <tr>\n",
       "      <th>3</th>\n",
       "      <td>ANGOLA Republic of Angola Head of state and go...</td>\n",
       "    </tr>\n",
       "    <tr>\n",
       "      <th>4</th>\n",
       "      <td>ARGENTINA Argentine Republic Head of state and...</td>\n",
       "    </tr>\n",
       "  </tbody>\n",
       "</table>\n",
       "</div>"
      ],
      "text/plain": [
       "                                         Report_2018\n",
       "0  AFGHANISTAN Islamic Republic of Afghanistan He...\n",
       "1  ALBANIA Republic of Albania Head of state: Ili...\n",
       "2  ALGERIA People’s Democratic Republic of Algeri...\n",
       "3  ANGOLA Republic of Angola Head of state and go...\n",
       "4  ARGENTINA Argentine Republic Head of state and..."
      ]
     },
     "execution_count": 4,
     "metadata": {},
     "output_type": "execute_result"
    }
   ],
   "source": [
    "countries = re.split(' (?=AFGHANISTAN|ALBANIA|ALGERIA|ANGOLA|ARGENTINA|ARMENIA|AUSTRALIA|AUSTRIA|AZERBAIJAN|\\\n",
    "BAHRAIN|BANGLADESH|BELARUS|BELGIUM|BENIN|BOLIVIA|BOSNIA|BOTSWANA|BRAZIL|BRUNEI|BULGARIA|BURKINA|BURUNDI|\\\n",
    "CAMBODIA|CAMEROON|CANADA|CENTRAL|CHAD|CHILE|CHINA|COLOMBIA|CÔTE|CROATIA|CUBA|CYPRUS|CZECH|CONGO|DENMARK|\\\n",
    "DOMINICAN|ECUADOR|EGYPT|EL SALVADOR|EQUATORIAL|ERITREA|ESTONIA|ETHIOPIA|FIJI|FINLAND|FRANCE|GABON|GAMBIA|\\\n",
    "GEORGIA|GERMANY|GHANA|GREECE|GUATEMALA|Republic of Guinea|HAITI|HONDURAS|HUNGARY|INDIA|INDONESIA|\\\n",
    "Islamic Republic of Iran Head|Republic of Iraq|REPUBLIC OF IRELAND|State of Israel|ITALY|JAMAICA|JAPAN|\\\n",
    "JORDAN|KAZAKHSTAN|KENYA|KOREA|KUWAIT|KYRGYZSTAN|LAOS|LATVIA|LEBANON|LESOTHO|LIBERIA|State of Libya|\\\n",
    "LITHUANIA|MACEDONIA|MADAGASCAR|MALAWI|MALAYSIA|MALDIVES|MALI|MALTA|MAURITANIA|MEXICO|MOLDOVA|\\\n",
    "MONGOLIA|MONTENEGRO|Kingdom of Morocco|MOZAMBIQUE|MYANMAR|NAMIBIA|NAURU|NEPAL|NETHERLANDS|NEW ZEALAND|\\\n",
    "NICARAGUA|NIGER|NIGERIA|NORWAY|OMAN|PAKISTAN|State of Palestine Head|Independent State of Papua New Guinea|\\\n",
    "PARAGUAY|PERU|PHILIPPINES|POLAND|PORTUGAL|PUERTO|QATAR|ROMANIA|RUSSIAN|RWANDA|Kingdom of Saudi Arabia|\\\n",
    "SENEGAL|SERBIA|SIERRA|SINGAPORE|SLOVAKIA|SLOVENIA|SOMALIA|SOUTH AFRICA|SOUTH SUDAN|SPAIN|SRI LANKA|\\\n",
    "Republic of the Sudan|SWAZILAND|SWEDEN|SWITZERLAND|Syrian Arab Republic|TAIWAN|TAJIKISTAN|TANZANIA|THAILAND|\\\n",
    "TIMOR-LESTE|TOGO|TUNISIA|TURKEY|TURKMENISTAN|UGANDA|UKRAINE|UNITED ARAB EMIRATES|UNITED KINGDOM|\\\n",
    "UNITED STATES OF AMERICA|URUGUAY|UZBEKISTAN|VENEZUELA|VIET|YEMEN|ZAMBIA|ZIMBABWE)', data_clean)\n",
    "\n",
    "countries = pd.DataFrame(countries)\n",
    "countries.columns= ['Report_2018']\n",
    "print(countries.shape)\n",
    "countries.head()"
   ]
  },
  {
   "cell_type": "markdown",
   "metadata": {},
   "source": [
    "Now, I wanted to somehow merge this data with CIRI's code for the countries, as well as the division into regions and sub-regions. That is what I have done below:"
   ]
  },
  {
   "cell_type": "code",
   "execution_count": 5,
   "metadata": {},
   "outputs": [
    {
     "data": {
      "text/html": [
       "<div>\n",
       "<style scoped>\n",
       "    .dataframe tbody tr th:only-of-type {\n",
       "        vertical-align: middle;\n",
       "    }\n",
       "\n",
       "    .dataframe tbody tr th {\n",
       "        vertical-align: top;\n",
       "    }\n",
       "\n",
       "    .dataframe thead th {\n",
       "        text-align: right;\n",
       "    }\n",
       "</style>\n",
       "<table border=\"1\" class=\"dataframe\">\n",
       "  <thead>\n",
       "    <tr style=\"text-align: right;\">\n",
       "      <th></th>\n",
       "      <th>COUNTRY</th>\n",
       "      <th>CODE</th>\n",
       "    </tr>\n",
       "  </thead>\n",
       "  <tbody>\n",
       "    <tr>\n",
       "      <th>0</th>\n",
       "      <td>Afghanistan</td>\n",
       "      <td>101</td>\n",
       "    </tr>\n",
       "    <tr>\n",
       "      <th>1</th>\n",
       "      <td>Albania</td>\n",
       "      <td>104</td>\n",
       "    </tr>\n",
       "    <tr>\n",
       "      <th>2</th>\n",
       "      <td>Algeria</td>\n",
       "      <td>107</td>\n",
       "    </tr>\n",
       "    <tr>\n",
       "      <th>3</th>\n",
       "      <td>Angola</td>\n",
       "      <td>113</td>\n",
       "    </tr>\n",
       "    <tr>\n",
       "      <th>4</th>\n",
       "      <td>Argentina</td>\n",
       "      <td>119</td>\n",
       "    </tr>\n",
       "  </tbody>\n",
       "</table>\n",
       "</div>"
      ],
      "text/plain": [
       "       COUNTRY  CODE\n",
       "0  Afghanistan   101\n",
       "1      Albania   104\n",
       "2      Algeria   107\n",
       "3       Angola   113\n",
       "4    Argentina   119"
      ]
     },
     "execution_count": 5,
     "metadata": {},
     "output_type": "execute_result"
    }
   ],
   "source": [
    "cntry = pd.read_csv('../data/Amnesty_reports/CountryCodes.csv')\n",
    "cntry = cntry.drop(cntry.columns[0], axis=1)\n",
    "cntry.head()"
   ]
  },
  {
   "cell_type": "code",
   "execution_count": 6,
   "metadata": {},
   "outputs": [
    {
     "name": "stdout",
     "output_type": "stream",
     "text": [
      "Equal length dataframes, looks good to merge\n"
     ]
    }
   ],
   "source": [
    "if len(cntry) == len(countries):\n",
    "    print ('Equal length dataframes, looks good to merge')\n",
    "    \n",
    "else:\n",
    "        print('MISMATCHED LENGTHS! Check dataframes again')\n"
   ]
  },
  {
   "cell_type": "code",
   "execution_count": 9,
   "metadata": {},
   "outputs": [
    {
     "data": {
      "text/html": [
       "<div>\n",
       "<style scoped>\n",
       "    .dataframe tbody tr th:only-of-type {\n",
       "        vertical-align: middle;\n",
       "    }\n",
       "\n",
       "    .dataframe tbody tr th {\n",
       "        vertical-align: top;\n",
       "    }\n",
       "\n",
       "    .dataframe thead th {\n",
       "        text-align: right;\n",
       "    }\n",
       "</style>\n",
       "<table border=\"1\" class=\"dataframe\">\n",
       "  <thead>\n",
       "    <tr style=\"text-align: right;\">\n",
       "      <th></th>\n",
       "      <th>COUNTRY</th>\n",
       "      <th>CODE</th>\n",
       "      <th>Report_2018</th>\n",
       "    </tr>\n",
       "  </thead>\n",
       "  <tbody>\n",
       "    <tr>\n",
       "      <th>0</th>\n",
       "      <td>Afghanistan</td>\n",
       "      <td>101</td>\n",
       "      <td>AFGHANISTAN Islamic Republic of Afghanistan He...</td>\n",
       "    </tr>\n",
       "    <tr>\n",
       "      <th>1</th>\n",
       "      <td>Albania</td>\n",
       "      <td>104</td>\n",
       "      <td>ALBANIA Republic of Albania Head of state: Ili...</td>\n",
       "    </tr>\n",
       "    <tr>\n",
       "      <th>2</th>\n",
       "      <td>Algeria</td>\n",
       "      <td>107</td>\n",
       "      <td>ALGERIA People’s Democratic Republic of Algeri...</td>\n",
       "    </tr>\n",
       "    <tr>\n",
       "      <th>3</th>\n",
       "      <td>Angola</td>\n",
       "      <td>113</td>\n",
       "      <td>ANGOLA Republic of Angola Head of state and go...</td>\n",
       "    </tr>\n",
       "    <tr>\n",
       "      <th>4</th>\n",
       "      <td>Argentina</td>\n",
       "      <td>119</td>\n",
       "      <td>ARGENTINA Argentine Republic Head of state and...</td>\n",
       "    </tr>\n",
       "  </tbody>\n",
       "</table>\n",
       "</div>"
      ],
      "text/plain": [
       "       COUNTRY  CODE                                        Report_2018\n",
       "0  Afghanistan   101  AFGHANISTAN Islamic Republic of Afghanistan He...\n",
       "1      Albania   104  ALBANIA Republic of Albania Head of state: Ili...\n",
       "2      Algeria   107  ALGERIA People’s Democratic Republic of Algeri...\n",
       "3       Angola   113  ANGOLA Republic of Angola Head of state and go...\n",
       "4    Argentina   119  ARGENTINA Argentine Republic Head of state and..."
      ]
     },
     "execution_count": 9,
     "metadata": {},
     "output_type": "execute_result"
    }
   ],
   "source": [
    "Countries = pd.concat([cntry,countries], axis=1)\n",
    "Countries.head()"
   ]
  },
  {
   "cell_type": "code",
   "execution_count": 10,
   "metadata": {},
   "outputs": [
    {
     "data": {
      "text/html": [
       "<div>\n",
       "<style scoped>\n",
       "    .dataframe tbody tr th:only-of-type {\n",
       "        vertical-align: middle;\n",
       "    }\n",
       "\n",
       "    .dataframe tbody tr th {\n",
       "        vertical-align: top;\n",
       "    }\n",
       "\n",
       "    .dataframe thead th {\n",
       "        text-align: right;\n",
       "    }\n",
       "</style>\n",
       "<table border=\"1\" class=\"dataframe\">\n",
       "  <thead>\n",
       "    <tr style=\"text-align: right;\">\n",
       "      <th></th>\n",
       "      <th>CTRY</th>\n",
       "      <th>YEARS</th>\n",
       "      <th>CIRI</th>\n",
       "      <th>REGION_code</th>\n",
       "      <th>REGION</th>\n",
       "      <th>SUBREGION_code</th>\n",
       "      <th>SUBREGION</th>\n",
       "    </tr>\n",
       "  </thead>\n",
       "  <tbody>\n",
       "    <tr>\n",
       "      <th>0</th>\n",
       "      <td>Afghanistan</td>\n",
       "      <td>1981-2011</td>\n",
       "      <td>101</td>\n",
       "      <td>142</td>\n",
       "      <td>Asia</td>\n",
       "      <td>62</td>\n",
       "      <td>South-central Asia</td>\n",
       "    </tr>\n",
       "    <tr>\n",
       "      <th>1</th>\n",
       "      <td>Albania</td>\n",
       "      <td>1981-2011</td>\n",
       "      <td>104</td>\n",
       "      <td>150</td>\n",
       "      <td>Europe</td>\n",
       "      <td>39</td>\n",
       "      <td>Southern Europe</td>\n",
       "    </tr>\n",
       "    <tr>\n",
       "      <th>2</th>\n",
       "      <td>Algeria</td>\n",
       "      <td>1981-2011</td>\n",
       "      <td>107</td>\n",
       "      <td>2</td>\n",
       "      <td>Africa</td>\n",
       "      <td>15</td>\n",
       "      <td>Northern Africa</td>\n",
       "    </tr>\n",
       "    <tr>\n",
       "      <th>3</th>\n",
       "      <td>Andorra</td>\n",
       "      <td>1993-2011</td>\n",
       "      <td>110</td>\n",
       "      <td>150</td>\n",
       "      <td>Europe</td>\n",
       "      <td>39</td>\n",
       "      <td>Southern Europe</td>\n",
       "    </tr>\n",
       "    <tr>\n",
       "      <th>4</th>\n",
       "      <td>Angola</td>\n",
       "      <td>1981-2011</td>\n",
       "      <td>113</td>\n",
       "      <td>2</td>\n",
       "      <td>Africa</td>\n",
       "      <td>17</td>\n",
       "      <td>Middle Africa</td>\n",
       "    </tr>\n",
       "  </tbody>\n",
       "</table>\n",
       "</div>"
      ],
      "text/plain": [
       "          CTRY      YEARS  CIRI  REGION_code  REGION  SUBREGION_code  \\\n",
       "0  Afghanistan  1981-2011   101          142    Asia              62   \n",
       "1      Albania  1981-2011   104          150  Europe              39   \n",
       "2      Algeria  1981-2011   107            2  Africa              15   \n",
       "3      Andorra  1993-2011   110          150  Europe              39   \n",
       "4       Angola  1981-2011   113            2  Africa              17   \n",
       "\n",
       "            SUBREGION  \n",
       "0  South-central Asia  \n",
       "1     Southern Europe  \n",
       "2     Northern Africa  \n",
       "3     Southern Europe  \n",
       "4       Middle Africa  "
      ]
     },
     "execution_count": 10,
     "metadata": {},
     "output_type": "execute_result"
    }
   ],
   "source": [
    "CIRI = pd.read_csv('../data/Amnesty_reports/CIRI_codes.csv')\n",
    "CIRI.head()"
   ]
  },
  {
   "cell_type": "code",
   "execution_count": 11,
   "metadata": {
    "scrolled": true
   },
   "outputs": [
    {
     "data": {
      "text/html": [
       "<div>\n",
       "<style scoped>\n",
       "    .dataframe tbody tr th:only-of-type {\n",
       "        vertical-align: middle;\n",
       "    }\n",
       "\n",
       "    .dataframe tbody tr th {\n",
       "        vertical-align: top;\n",
       "    }\n",
       "\n",
       "    .dataframe thead th {\n",
       "        text-align: right;\n",
       "    }\n",
       "</style>\n",
       "<table border=\"1\" class=\"dataframe\">\n",
       "  <thead>\n",
       "    <tr style=\"text-align: right;\">\n",
       "      <th></th>\n",
       "      <th>COUNTRY</th>\n",
       "      <th>CODE</th>\n",
       "      <th>Report_2018</th>\n",
       "      <th>CTRY</th>\n",
       "      <th>YEARS</th>\n",
       "      <th>CIRI</th>\n",
       "      <th>REGION_code</th>\n",
       "      <th>REGION</th>\n",
       "      <th>SUBREGION_code</th>\n",
       "      <th>SUBREGION</th>\n",
       "    </tr>\n",
       "  </thead>\n",
       "  <tbody>\n",
       "    <tr>\n",
       "      <th>0</th>\n",
       "      <td>Afghanistan</td>\n",
       "      <td>101</td>\n",
       "      <td>AFGHANISTAN Islamic Republic of Afghanistan He...</td>\n",
       "      <td>Afghanistan</td>\n",
       "      <td>1981-2011</td>\n",
       "      <td>101</td>\n",
       "      <td>142</td>\n",
       "      <td>Asia</td>\n",
       "      <td>62</td>\n",
       "      <td>South-central Asia</td>\n",
       "    </tr>\n",
       "    <tr>\n",
       "      <th>1</th>\n",
       "      <td>Albania</td>\n",
       "      <td>104</td>\n",
       "      <td>ALBANIA Republic of Albania Head of state: Ili...</td>\n",
       "      <td>Albania</td>\n",
       "      <td>1981-2011</td>\n",
       "      <td>104</td>\n",
       "      <td>150</td>\n",
       "      <td>Europe</td>\n",
       "      <td>39</td>\n",
       "      <td>Southern Europe</td>\n",
       "    </tr>\n",
       "    <tr>\n",
       "      <th>2</th>\n",
       "      <td>Algeria</td>\n",
       "      <td>107</td>\n",
       "      <td>ALGERIA People’s Democratic Republic of Algeri...</td>\n",
       "      <td>Algeria</td>\n",
       "      <td>1981-2011</td>\n",
       "      <td>107</td>\n",
       "      <td>2</td>\n",
       "      <td>Africa</td>\n",
       "      <td>15</td>\n",
       "      <td>Northern Africa</td>\n",
       "    </tr>\n",
       "    <tr>\n",
       "      <th>3</th>\n",
       "      <td>Angola</td>\n",
       "      <td>113</td>\n",
       "      <td>ANGOLA Republic of Angola Head of state and go...</td>\n",
       "      <td>Angola</td>\n",
       "      <td>1981-2011</td>\n",
       "      <td>113</td>\n",
       "      <td>2</td>\n",
       "      <td>Africa</td>\n",
       "      <td>17</td>\n",
       "      <td>Middle Africa</td>\n",
       "    </tr>\n",
       "    <tr>\n",
       "      <th>4</th>\n",
       "      <td>Argentina</td>\n",
       "      <td>119</td>\n",
       "      <td>ARGENTINA Argentine Republic Head of state and...</td>\n",
       "      <td>Argentina</td>\n",
       "      <td>1981-2011</td>\n",
       "      <td>119</td>\n",
       "      <td>419</td>\n",
       "      <td>Latin America and the Caribbean</td>\n",
       "      <td>5</td>\n",
       "      <td>South America</td>\n",
       "    </tr>\n",
       "  </tbody>\n",
       "</table>\n",
       "</div>"
      ],
      "text/plain": [
       "       COUNTRY  CODE                                        Report_2018  \\\n",
       "0  Afghanistan   101  AFGHANISTAN Islamic Republic of Afghanistan He...   \n",
       "1      Albania   104  ALBANIA Republic of Albania Head of state: Ili...   \n",
       "2      Algeria   107  ALGERIA People’s Democratic Republic of Algeri...   \n",
       "3       Angola   113  ANGOLA Republic of Angola Head of state and go...   \n",
       "4    Argentina   119  ARGENTINA Argentine Republic Head of state and...   \n",
       "\n",
       "          CTRY      YEARS  CIRI  REGION_code                           REGION  \\\n",
       "0  Afghanistan  1981-2011   101          142                             Asia   \n",
       "1      Albania  1981-2011   104          150                           Europe   \n",
       "2      Algeria  1981-2011   107            2                           Africa   \n",
       "3       Angola  1981-2011   113            2                           Africa   \n",
       "4    Argentina  1981-2011   119          419  Latin America and the Caribbean   \n",
       "\n",
       "   SUBREGION_code           SUBREGION  \n",
       "0              62  South-central Asia  \n",
       "1              39     Southern Europe  \n",
       "2              15     Northern Africa  \n",
       "3              17       Middle Africa  \n",
       "4               5       South America  "
      ]
     },
     "execution_count": 11,
     "metadata": {},
     "output_type": "execute_result"
    }
   ],
   "source": [
    "Countries_CIRI = pd.merge(Countries, CIRI, how='left', left_on='CODE', right_on='CIRI')\n",
    "Countries_CIRI.head()"
   ]
  },
  {
   "cell_type": "code",
   "execution_count": 12,
   "metadata": {},
   "outputs": [],
   "source": [
    "Countries_CIRI.to_csv('../data/parsed_Amnesty.csv')"
   ]
  }
 ],
 "metadata": {
  "kernelspec": {
   "display_name": "Python 3",
   "language": "python",
   "name": "python3"
  },
  "language_info": {
   "codemirror_mode": {
    "name": "ipython",
    "version": 3
   },
   "file_extension": ".py",
   "mimetype": "text/x-python",
   "name": "python",
   "nbconvert_exporter": "python",
   "pygments_lexer": "ipython3",
   "version": "3.6.8"
  }
 },
 "nbformat": 4,
 "nbformat_minor": 2
}
