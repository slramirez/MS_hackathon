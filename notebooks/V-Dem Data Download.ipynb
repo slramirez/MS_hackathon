{
 "cells": [
  {
   "cell_type": "code",
   "execution_count": 1,
   "metadata": {},
   "outputs": [],
   "source": [
    "import os\n",
    "import requests\n",
    "import tarfile, zipfile"
   ]
  },
  {
   "cell_type": "code",
   "execution_count": 2,
   "metadata": {},
   "outputs": [],
   "source": [
    "def download_data(d_url, d_directory, verbose=False):\n",
    "    \"\"\"Download data to local directory\n",
    "\n",
    "    Parameters\n",
    "    ----------\n",
    "    d_directory : str, path to directory to save file\n",
    "    d_url : str, URL to download file\n",
    "    \"\"\"\n",
    "    if verbose:\n",
    "            print('Downloading data from %s...' % d_url)\n",
    "    d_file = d_url.split(\"/\")[-1]\n",
    "    d_file_target = os.path.normpath(d_directory + os.path.sep + d_file)\n",
    "    if not os.path.exists(d_file_target):\n",
    "        res = requests.get(d_url)\n",
    "        with open(d_file_target, \"wb\") as f:\n",
    "            f.write(res.content)\n",
    "        if verbose:\n",
    "            print('Data is located in %s' % d_directory)\n",
    "    else:\n",
    "        print('Download file already exists in {}'.format(d_directory))\n",
    "\n",
    "def extract_files(d_file, d_directory=\".\", verbose=False):\n",
    "    \"\"\"Extract tar or tar.gz archive files\n",
    "\n",
    "    Parameters\n",
    "    ----------\n",
    "    d_file : str, file name of archive to extract\n",
    "    d_directory : str, path to directory to save file\n",
    "    \"\"\"\n",
    "    if d_file.endswith(\"tar.gz\") or d_file.endswith(\"tgz\"):\n",
    "        tar = tarfile.open(d_file, \"r:gz\")\n",
    "        tar.extractall(path=d_directory)\n",
    "        tar.close()\n",
    "    elif d_file.endswith(\"tar\") or d_file.endswith(\"tarfile\"):\n",
    "        tar = tarfile.open(d_file, \"r:\")\n",
    "        tar.extractall(path=d_directory)\n",
    "        tar.close()\n",
    "    elif d_file.endswith(\"zip\"):\n",
    "        zip_ref = zipfile.ZipFile(d_file, 'r')\n",
    "        zip_ref.extractall(d_directory)\n",
    "        zip_ref.close()\n",
    "    if verbose:\n",
    "        print(\"Files extracted successfully to {}\".format(d_directory))\n",
    "\n",
    "def download_extract(data_url, data_directory, verbose=False):\n",
    "    \"\"\"Download and extract zip file data from a URL\"\"\"\n",
    "    download_data(data_url, data_directory, verbose)\n",
    "    data_file = data_url.split(\"/\")[-1]\n",
    "    data_file_target = os.path.normpath(data_directory + \n",
    "                                             os.path.sep + \n",
    "                                             data_file)\n",
    "    extract_files(data_file_target, data_directory, verbose)"
   ]
  },
  {
   "cell_type": "markdown",
   "metadata": {},
   "source": [
    "#### V-Dem Data Download"
   ]
  },
  {
   "cell_type": "code",
   "execution_count": 7,
   "metadata": {},
   "outputs": [],
   "source": [
    "url = \"https://alphahacakthon.file.core.windows.net/uno/v_dem_data.zip\"\n",
    "download_data(d_url=url, d_directory=os.path.normpath(\"\"))"
   ]
  },
  {
   "cell_type": "markdown",
   "metadata": {},
   "source": [
    "#### Extract Files"
   ]
  },
  {
   "cell_type": "code",
   "execution_count": 3,
   "metadata": {},
   "outputs": [],
   "source": [
    "extract_files(d_file=\"v_dem_data.zip\", d_directory=os.path.normpath(\"\"))"
   ]
  },
  {
   "cell_type": "code",
   "execution_count": 4,
   "metadata": {},
   "outputs": [
    {
     "name": "stdout",
     "output_type": "stream",
     "text": [
      " Volume in drive C has no label.\n",
      " Volume Serial Number is 5393-BAEF\n",
      "\n",
      " Directory of C:\\Users\\colin\\Google_Drive\\ilocal\\code\\MS_AI4Good\n",
      "\n",
      "04/26/2019  02:15 AM    <DIR>          .\n",
      "04/26/2019  02:15 AM    <DIR>          ..\n",
      "04/26/2019  02:09 AM    <DIR>          .ipynb_checkpoints\n",
      "04/24/2019  03:44 PM           471,953 CIRI Data 1981_2011 2014.04.14.csv\n",
      "04/26/2019  02:14 AM    <DIR>          data\n",
      "04/26/2019  01:06 AM             9,029 EDA - CIRI Data.ipynb\n",
      "04/26/2019  12:57 AM            63,698 section1a_africa_2018.csv\n",
      "04/26/2019  02:15 AM            96,022 V-Dem Cautionary Notes v9.pdf\n",
      "04/26/2019  02:15 AM         2,283,129 V-Dem Codebook v9.pdf\n",
      "04/26/2019  02:09 AM             5,374 V-Dem Data Download.ipynb\n",
      "04/26/2019  02:11 AM             1,890 V-Dem Data Import.ipynb\n",
      "04/26/2019  02:15 AM           115,205 V-Dem Suggested Citation v9.pdf\n",
      "04/26/2019  02:15 AM     1,423,189,169 V-Dem-CD-v9.csv\n",
      "04/26/2019  02:15 AM       181,472,344 V-Dem-CY-Core-v9.csv\n",
      "04/26/2019  02:15 AM       319,792,091 V-Dem-CY-Full+Others-v9.csv\n",
      "04/26/2019  02:15 AM       496,928,192 V-Dem_coder_level_ds_v9.csv\n",
      "04/26/2019  02:13 AM       111,622,883 v_dem_data.zip\n",
      "04/26/2019  02:15 AM           147,540 What's New.pdf\n",
      "              14 File(s)  2,536,198,519 bytes\n",
      "               4 Dir(s)  415,200,837,632 bytes free\n"
     ]
    }
   ],
   "source": [
    "!dir"
   ]
  },
  {
   "cell_type": "code",
   "execution_count": null,
   "metadata": {},
   "outputs": [],
   "source": []
  }
 ],
 "metadata": {
  "kernelspec": {
   "display_name": "Python 3",
   "language": "python",
   "name": "python3"
  },
  "language_info": {
   "codemirror_mode": {
    "name": "ipython",
    "version": 3
   },
   "file_extension": ".py",
   "mimetype": "text/x-python",
   "name": "python",
   "nbconvert_exporter": "python",
   "pygments_lexer": "ipython3",
   "version": "3.6.8"
  }
 },
 "nbformat": 4,
 "nbformat_minor": 2
}
