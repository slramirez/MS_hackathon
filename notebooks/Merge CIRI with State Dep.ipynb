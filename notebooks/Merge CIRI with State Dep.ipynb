{
 "cells": [
  {
   "cell_type": "markdown",
   "metadata": {},
   "source": [
    "# Merge CIRI data with scraped State Dep Reports\n",
    "## Merge on year and country name"
   ]
  },
  {
   "cell_type": "code",
   "execution_count": 1,
   "metadata": {},
   "outputs": [],
   "source": [
    "import pandas as pd"
   ]
  },
  {
   "cell_type": "code",
   "execution_count": 118,
   "metadata": {},
   "outputs": [],
   "source": [
    "# CIRI data\n",
    "ciri_df = pd.read_csv('../data/CIRI_Data_1981_2011.csv')\n",
    "# State Dept. data\n",
    "state_dep = pd.read_csv('../data/Custom_State_Dep_Reports/All_report_1999_2009.csv')\n",
    "state_dep = state_dep.drop(state_dep.columns[0],axis=1)\n",
    "# Read in reference.\n",
    "ref = pd.read_csv('../data/state_dept_country_names.csv')\n",
    "ref = ref.drop(ref.columns[0],axis=1)\n",
    "# Read in GapMinder\n",
    "codes = pd.read_csv('../data/GapMinder_Raw_CSVs/UNCTRY_CODES_GapMinderNames.csv')"
   ]
  },
  {
   "cell_type": "code",
   "execution_count": 25,
   "metadata": {},
   "outputs": [],
   "source": [
    "#!!DO NOT RUN AGAIN!!\n",
    "#Create a dataframe to quickly be cleaned manually.\n",
    "#ctry = state_dep.Country.unique()\n",
    "#ctry = pd.DataFrame({\"country\":ctry, \"simple\":ctry})\n",
    "#ctry.to_csv(\"../data/Custom_State_Dep_Reports/state_dept_country_names.csv\")"
   ]
  },
  {
   "cell_type": "code",
   "execution_count": 119,
   "metadata": {},
   "outputs": [],
   "source": [
    "# Countries in the GapMinder Data are not exactly the same as in the UN codes.\n",
    "# This function looks for the most parsimonious name link between ...\n",
    "# ... the GapMinder and UN data and return the UN codes.\n",
    "def compare(x, codes):\n",
    "    ctry = {'size':100,'un':0}\n",
    "    for i in range(len(codes)):\n",
    "        if x.lower() in codes.CTRY.iloc[i].lower():\n",
    "            if len(codes.CTRY.iloc[i]) <= ctry['size']:\n",
    "                ctry['size'] = len(codes.CTRY.iloc[i])\n",
    "                ctry['un'] = codes.UNCTRY.iloc[i]\n",
    "    return ctry"
   ]
  },
  {
   "cell_type": "code",
   "execution_count": 120,
   "metadata": {},
   "outputs": [],
   "source": [
    "# Take the simplified state deptartment country names...\n",
    "countries = ref.simple.unique()\n",
    "un = []\n",
    "# Loop through and find the GapMinder equivalent and UN number.\n",
    "for i in countries:\n",
    "    un.append(compare(i, codes)['un'])\n",
    "codes = pd.DataFrame({'CTRY':countries,'UNCTRY':un})"
   ]
  },
  {
   "cell_type": "code",
   "execution_count": 125,
   "metadata": {},
   "outputs": [],
   "source": [
    "# Associate the UN numbers by simple country name in state dept. data.\n",
    "# This has the side-effect of giving the same UN code to various spellings of countries.\n",
    "st_dpt_un = pd.merge(ref,codes,\n",
    "                     left_on='simple',\n",
    "                     right_on='CTRY',how='left').drop('simple',axis=1)"
   ]
  },
  {
   "cell_type": "code",
   "execution_count": 132,
   "metadata": {},
   "outputs": [],
   "source": [
    "# Associate complex country name with the State Dept. to include the text data.\n",
    "state_dep = pd.merge(state_dep,st_dpt_un,\n",
    "         left_on='Country',\n",
    "         right_on='country',how='left').drop(['CTRY','country'], axis=1)"
   ]
  },
  {
   "cell_type": "code",
   "execution_count": 139,
   "metadata": {},
   "outputs": [],
   "source": [
    "# Merge CIRI data with State Dept. data.\n",
    "df_text_to_ciri = pd.merge(state_dep,ciri_df,\n",
    "                           left_on=['UNCTRY','Year'],\n",
    "                           right_on=['UNCTRY',\"YEAR\"],how = 'inner').drop('Country',axis=1)"
   ]
  },
  {
   "cell_type": "code",
   "execution_count": 144,
   "metadata": {},
   "outputs": [],
   "source": [
    "# Write.\n",
    "df_text_to_ciri.to_csv('../data/Custom_State_Dep_Reports/CIRI_Text_1999_2009.csv')"
   ]
  }
 ],
 "metadata": {
  "kernelspec": {
   "display_name": "Python 3",
   "language": "python",
   "name": "python3"
  },
  "language_info": {
   "codemirror_mode": {
    "name": "ipython",
    "version": 3
   },
   "file_extension": ".py",
   "mimetype": "text/x-python",
   "name": "python",
   "nbconvert_exporter": "python",
   "pygments_lexer": "ipython3",
   "version": "3.6.7"
  }
 },
 "nbformat": 4,
 "nbformat_minor": 2
}
