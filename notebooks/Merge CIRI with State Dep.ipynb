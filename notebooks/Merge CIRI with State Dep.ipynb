{
 "cells": [
  {
   "cell_type": "markdown",
   "metadata": {},
   "source": [
    "# Merge CIRI data with scraped State Dep Reports\n",
    "## Merge on year and country name"
   ]
  },
  {
   "cell_type": "code",
   "execution_count": 1,
   "metadata": {},
   "outputs": [],
   "source": [
    "import pandas as pd"
   ]
  },
  {
   "cell_type": "code",
   "execution_count": 4,
   "metadata": {},
   "outputs": [],
   "source": [
    "# CIRI data\n",
    "ciri_df = pd.read_csv('../data/CIRI_DATA_2016.csv')\n",
    "# State Dept. data\n",
    "#state_dep = pd.read_csv('../data/Custom_State_Dep_Reports/us_state_dept_reports_1999_2018.csv')\n",
    "state_dep = pd.read_csv('../data/us_state_dept_hr_reports_un_coded_1999_2018.csv')\n",
    "#state_dep = state_dep.drop(state_dep.columns[0],axis=1)\n",
    "# Read in reference.\n",
    "\n",
    "ref = pd.read_csv('../data/Custom_State_Dep_Reports/state_dept_country_names.csv')\n",
    "\n",
    "ref = ref.drop(ref.columns[0],axis=1)\n",
    "# Read in GapMinder\n",
    "codes = pd.read_csv('../data/GapMinder_Raw_CSVs/UNCTRY_CODES_GapMinderNames.csv')"
   ]
  },
  {
   "cell_type": "code",
   "execution_count": 5,
   "metadata": {},
   "outputs": [],
   "source": [
    "#!!DO NOT RUN AGAIN!!\n",
    "#Create a dataframe to quickly be cleaned manually.\n",
    "#ctry = state_dep.Country.unique()\n",
    "#ctry = pd.DataFrame({\"country\":ctry, \"simple\":ctry})\n",
    "#ctry.to_csv(\"../data/Custom_State_Dep_Reports/state_dept_country_names.csv\")"
   ]
  },
  {
   "cell_type": "code",
   "execution_count": 6,
   "metadata": {},
   "outputs": [],
   "source": [
    "# Countries in the GapMinder Data are not exactly the same as in the UN codes.\n",
    "# This function looks for the most parsimonious name link between ...\n",
    "# ... the GapMinder and UN data and return the UN codes.\n",
    "def compare(x, codes):\n",
    "    ctry = {'size':100,'un':0}\n",
    "    for i in range(len(codes)):\n",
    "        if x.lower() in codes.CTRY.iloc[i].lower():\n",
    "            if len(codes.CTRY.iloc[i]) <= ctry['size']:\n",
    "                ctry['size'] = len(codes.CTRY.iloc[i])\n",
    "                ctry['un'] = codes.UNCTRY.iloc[i]\n",
    "    return ctry"
   ]
  },
  {
   "cell_type": "code",
   "execution_count": 7,
   "metadata": {},
   "outputs": [],
   "source": [
    "# Take the simplified state deptartment country names...\n",
    "countries = ref.simple.unique()\n",
    "un = []\n",
    "# Loop through and find the GapMinder equivalent and UN number.\n",
    "for i in countries:\n",
    "    un.append(compare(i, codes)['un'])\n",
    "codes = pd.DataFrame({'CTRY':countries,'UNCTRY':un})"
   ]
  },
  {
   "cell_type": "code",
   "execution_count": 8,
   "metadata": {},
   "outputs": [],
   "source": [
    "# Associate the UN numbers by simple country name in state dept. data.\n",
    "# This has the side-effect of giving the same UN code to various spellings of countries.\n",
    "st_dpt_un = pd.merge(ref,codes,\n",
    "                     left_on='simple',\n",
    "                     right_on='CTRY',how='left').drop('simple',axis=1)"
   ]
  },
  {
   "cell_type": "code",
   "execution_count": 9,
   "metadata": {},
   "outputs": [
    {
     "data": {
      "text/plain": [
       "Index(['Unnamed: 0', 'year', 'country', 'url', 'text', 'code'], dtype='object')"
      ]
     },
     "execution_count": 9,
     "metadata": {},
     "output_type": "execute_result"
    }
   ],
   "source": [
    "state_dep.columns"
   ]
  },
  {
   "cell_type": "code",
   "execution_count": 10,
   "metadata": {},
   "outputs": [],
   "source": [
    "# Associate complex country name with the State Dept. to include the text data.\n",
    "state_dep = pd.merge(state_dep,st_dpt_un,\n",
    "         left_on='country',\n",
    "         right_on='country',how='left').drop(['CTRY'], axis=1) #original dropped 'country' as well, leaving it in to check its working"
   ]
  },
  {
   "cell_type": "code",
   "execution_count": 11,
   "metadata": {},
   "outputs": [
    {
     "data": {
      "text/plain": [
       "Index(['Unnamed: 0', 'year', 'country', 'url', 'text', 'code', 'UNCTRY'], dtype='object')"
      ]
     },
     "execution_count": 11,
     "metadata": {},
     "output_type": "execute_result"
    }
   ],
   "source": [
    "state_dep.columns"
   ]
  },
  {
   "cell_type": "code",
   "execution_count": 12,
   "metadata": {},
   "outputs": [],
   "source": [
    "# Merge CIRI data with State Dept. data.\n",
    "df_text_to_ciri = pd.merge(state_dep,ciri_df,\n",
    "                           left_on=['UNCTRY','year'],\n",
    "                           right_on=['unctry',\"year\"],how = 'inner') #.drop('Country',axis=1)"
   ]
  },
  {
   "cell_type": "raw",
   "metadata": {},
   "source": [
    "df_text_to_ciri[['country','countryname']]"
   ]
  },
  {
   "cell_type": "code",
   "execution_count": 13,
   "metadata": {},
   "outputs": [],
   "source": [
    "# Write to file\n",
    "df_text_to_ciri.to_csv('../data/Custom_State_Dep_Reports/CIRI_Text_1999_2015.csv')"
   ]
  },
  {
   "cell_type": "raw",
   "metadata": {},
   "source": [
    "df_text_to_ciri"
   ]
  },
  {
   "cell_type": "raw",
   "metadata": {},
   "source": [
    "text = state_dep[state_dep['year']==2018].text[3679]"
   ]
  },
  {
   "cell_type": "raw",
   "metadata": {},
   "source": [
    "import re\n"
   ]
  },
  {
   "cell_type": "raw",
   "metadata": {},
   "source": [
    "text2"
   ]
  }
 ],
 "metadata": {
  "kernelspec": {
   "display_name": "Python 3",
   "language": "python",
   "name": "python3"
  },
  "language_info": {
   "codemirror_mode": {
    "name": "ipython",
    "version": 3
   },
   "file_extension": ".py",
   "mimetype": "text/x-python",
   "name": "python",
   "nbconvert_exporter": "python",
   "pygments_lexer": "ipython3",
   "version": "3.6.8"
  }
 },
 "nbformat": 4,
 "nbformat_minor": 2
}
