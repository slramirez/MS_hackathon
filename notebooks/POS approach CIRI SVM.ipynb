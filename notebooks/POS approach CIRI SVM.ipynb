{
 "cells": [
  {
   "cell_type": "raw",
   "metadata": {},
   "source": [
    "# Exploring approaches to feature engineerin and class prediction on State Department Human Rights reports\n",
    "\n",
    "## 1 : "
   ]
  },
  {
   "cell_type": "raw",
   "metadata": {},
   "source": [
    "import pandas as pd\n",
    "import sqlite3 as sql"
   ]
  },
  {
   "cell_type": "raw",
   "metadata": {},
   "source": [
    "# 0 :  Define some NLP ceanin functions for later use"
   ]
  },
  {
   "cell_type": "raw",
   "metadata": {},
   "source": [
    "from sklearn.model_selection import train_test_split\n",
    "\n",
    "import re\n",
    "import nltk\n",
    "\n",
    "nltk.download('stopwords')\n",
    "\n",
    "from nltk.corpus import stopwords\n",
    "stopWords = set(stopwords.words('english'))\n",
    "\n",
    "stopWords.add('kill')\n",
    "stopWords.add('killing')\n",
    "stopWords.add('killings')\n",
    "\n",
    "from nltk.stem import PorterStemmer\n",
    "from nltk.stem import LancasterStemmer\n",
    "from nltk.util import ngrams\n",
    "\n",
    "def convert(list): \n",
    "      \n",
    "    # Converting integer list to string list \n",
    "    s = [str(i) for i in list] \n",
    "    \n",
    "    # Join list items using join()\n",
    "    s = (\" \".join(s)) \n",
    "    \n",
    "\n",
    "    return(s) \n",
    "\n",
    "\n",
    "def clean_text(s):\n",
    "    \n",
    "    # Convert to lowercase\n",
    "    s = s.lower()\n",
    "    \n",
    "    s = s.replace('\\n',' ')\n",
    "\n",
    "    s = s.replace( \"\\\"\", '' )\n",
    "    \n",
    "    # Remove aposrphe\n",
    "    s =s.replace(\"'\", \"\")\n",
    "    \n",
    "    # Replace all none alphanumeric characters with spaces\n",
    "    s = re.sub(r'[^a-zA-Z0-9\\s]', ' ', s)\n",
    "\n",
    "    # Repace all punctuatin with spaces\n",
    "    s = re.sub(r'[^\\w\\s]',' ',s)\n",
    "\n",
    "    # replace all double spaces, tabes, and returns\n",
    "    s= re.sub(' +', ' ',s)\n",
    "    \n",
    "    \n",
    "    \n",
    "    return(s)\n",
    "\n",
    "\n",
    "\n",
    "def stem_word(text):\n",
    "    \n",
    "    stemmed = []\n",
    "    stemmer = LancasterStemmer()\n",
    "    \n",
    "    for w in text:\n",
    "        stemmed.append(stemmer.stem(w))\n",
    "        \n",
    "    return (stemmed)\n",
    "\n",
    "\n",
    "def generate_ngrams(st, n):\n",
    "    \n",
    "   \n",
    "    # Break sentence in the token, remove empty tokens\n",
    "    tokens = [token for token in s.split(\" \") if token != \"\"]\n",
    "    #tokens = remove_stops(tokens)\n",
    "    #tokens = stem_word(tokens)\n",
    "    \n",
    "    # Use the zip function to help us generate n-grams\n",
    "    # Concatentate the tokens into ngrams and return\n",
    "    ngrams = zip(*[token[i:] for i in range(n)])\n",
    "    return [\" \".join(ngram) for ngram in ngrams]\n",
    "\n",
    "\n",
    "\n",
    "\n",
    "def word_grams(words, min=1, max=4):\n",
    "    s = []\n",
    "    for n in range(min, max):\n",
    "        for ngram in ngrams(words, n):\n",
    "            s.append(' '.join(str(i) for i in ngram))\n",
    "    return s\n",
    "\n",
    "\n",
    "import spacy\n",
    "from spacy import displacy\n",
    "from collections import Counter\n",
    "import en_core_web_sm\n",
    "nlp = en_core_web_sm.load()\n",
    "\n",
    "def remove_location_ents(text):\n",
    "    global texts_done\n",
    "    texts_done  += 1\n",
    "    print (\"\\r Analysing document  \".format(texts_done)+str(texts_done), end=\"\")\n",
    "    \n",
    "    doc= nlp(text)\n",
    "    drops = ['GPE','NORP','ORG','PERSON']\n",
    "    GPEs = [x.text for x in doc.ents if x.label_ in drops]\n",
    "    \n",
    "    for word in GPEs:\n",
    "        text = text.replace(word, \" \")\n",
    "    return text\n",
    "\n",
    "\n",
    "\n",
    "def get_data(CIRI_Label,start,end,remove_ents=True):  #function to extract train_test_split data from DB for given CIRI label\n",
    "    \n",
    "    global texts_done\n",
    "    global total_texts\n",
    "    \n",
    "    texts_done  = 1\n",
    "    total_texts = 0\n",
    "    \n",
    "    print(\"   Extracting Data\")  \n",
    "    test_df = data_df[data_df['YEAR'].between(start,end)]\n",
    "    test_df = test_df[['Text',CIRI_Label]].dropna()\n",
    "    \n",
    "    states = data_df[CIRI_Label].unique()\n",
    "    to_drop = [ -77.0, -66.0,-999.]\n",
    "    new_states = [x for x in states if x not in to_drop]\n",
    "    test_df = test_df[test_df[CIRI_Label].isin(new_states)]\n",
    "    \n",
    "    if remove_ents:\n",
    "        print(\"      Removing named entities from\" + str(len(test_df['Text'])) + \" Documents\")\n",
    "        test_df['Text'] = test_df['Text'].apply(lambda x: remove_location_ents(x))\n",
    "    \n",
    "    print(\"      Cleaning text\")\n",
    "    test_df['Text'] = test_df['Text'].apply(lambda x: clean_text(x))\n",
    "    \n",
    "    X_train, X_test, y_train, y_test = train_test_split(test_df['Text'], test_df[CIRI_Label], test_size=0.3, random_state = 42)\n",
    "    return( X_train, X_test, y_train, y_test)"
   ]
  },
  {
   "cell_type": "raw",
   "metadata": {},
   "source": [
    "# 1.0: Import 1a Africa Data"
   ]
  },
  {
   "cell_type": "raw",
   "metadata": {},
   "source": [
    "# connect to MS_hackathon.db within the data/ directory, makes it if it doesn't exist\n",
    "conn = sql.connect('../data/MS_hackathon.db')"
   ]
  },
  {
   "cell_type": "raw",
   "metadata": {},
   "source": [
    "c = conn.cursor()\n",
    "c.execute(\"SELECT name FROM sqlite_master WHERE type='table';\")\n",
    "print(c.fetchall())"
   ]
  },
  {
   "cell_type": "raw",
   "metadata": {},
   "source": [
    "\n",
    "c.execute('select * from section1a_africa;')\n",
    "names = list(map(lambda x: x[0], c.description))\n",
    "print(names)\n",
    "\n",
    "\n"
   ]
  },
  {
   "cell_type": "raw",
   "metadata": {},
   "source": [
    "c.execute(\"SELECT * FROM section1a_africa;\")\n",
    "section_corpus = c.fetchall()\n",
    "selection = pd.DataFrame(section_corpus)\n",
    "\n",
    "selection.loc[:,2] = selection.loc[:,2].apply(lambda x: clean_text(x))\n"
   ]
  },
  {
   "cell_type": "raw",
   "metadata": {},
   "source": [
    "## 1.2: Clean 1a data"
   ]
  },
  {
   "cell_type": "raw",
   "metadata": {},
   "source": [
    "#master_corpus = clean_text(master_corpus)\n",
    "#master_corpus = remove_stops(master_corpus)\n"
   ]
  },
  {
   "cell_type": "raw",
   "metadata": {},
   "source": [
    "## 1.1: Vectorise 1a data"
   ]
  },
  {
   "cell_type": "raw",
   "metadata": {},
   "source": [
    "from sklearn.feature_extraction.text import CountVectorizer"
   ]
  },
  {
   "cell_type": "raw",
   "metadata": {},
   "source": [
    "section_corpus = convert(selection.loc[:,2])\n",
    "\n",
    "#playing with n_gram range and max features to get a feel of what count vectoriser produces\n",
    "count_vec = CountVectorizer(ngram_range=(1,2), max_features=25,stop_words = 'english')\n",
    "matrix = count_vec.fit_transform([section_corpus])\n",
    "\n",
    "count_vec_df = pd.DataFrame(matrix.toarray(), columns=count_vec.get_feature_names())\n",
    "count_vec_df"
   ]
  },
  {
   "cell_type": "raw",
   "metadata": {},
   "source": [
    "from sklearn.feature_extraction.text import TfidfVectorizer\n",
    "\n",
    "section_corpus = selection.loc[:,2]\n",
    "\n",
    "\n",
    "tf_vectorizer = TfidfVectorizer(ngram_range=(1,2), max_features=25,stop_words = 'english')\n",
    "matrix = tf_vectorizer.fit_transform(section_corpus)\n",
    "\n",
    "tf_idf_df = pd.DataFrame(matrix.toarray(), columns=tf_vectorizer.get_feature_names())\n",
    "tf_idf_df.head()"
   ]
  },
  {
   "cell_type": "raw",
   "metadata": {},
   "source": [
    "# 2.0 Trying out word clouds"
   ]
  },
  {
   "cell_type": "raw",
   "metadata": {},
   "source": [
    "from wordcloud import WordCloud, STOPWORDS\n",
    "import matplotlib.pyplot as plt\n",
    "stopwords = set(STOPWORDS)\n",
    "\n",
    "def show_wordcloud(data, title = None):\n",
    "    wordcloud = WordCloud(\n",
    "        background_color='white',\n",
    "        stopwords=stopwords,\n",
    "        max_words=200,\n",
    "        max_font_size=40, \n",
    "        scale=3,\n",
    "        random_state=1 # chosen at random by flipping a coin; it was heads\n",
    "    ).generate(str(data))\n",
    "\n",
    "    fig = plt.figure(1, figsize=(12, 12))\n",
    "    plt.axis('off')\n",
    "    if title: \n",
    "        fig.suptitle(title, fontsize=20)\n",
    "        fig.subplots_adjust(top=2.3)\n",
    "\n",
    "    plt.imshow(wordcloud)\n",
    "    plt.show()"
   ]
  },
  {
   "cell_type": "raw",
   "metadata": {},
   "source": [
    "\n",
    "\n",
    "show_wordcloud(section_corpus)"
   ]
  },
  {
   "cell_type": "raw",
   "metadata": {},
   "source": [
    "# 3. 0: Part of Speach (POS) analysis on word 'reports'"
   ]
  },
  {
   "cell_type": "raw",
   "metadata": {},
   "source": [
    "## 3.1 Import 2018 all of africa reports"
   ]
  },
  {
   "cell_type": "raw",
   "metadata": {},
   "source": [
    "# import all text for Africa\n",
    "\n",
    "text_folder = '../data/Custom_State_Dep_Reports/'\n",
    "\n",
    "with open(text_folder+'2018_all_sections_africa.txt', 'r') as myfile:\n",
    "  master_corpus = myfile.read()\n"
   ]
  },
  {
   "cell_type": "raw",
   "metadata": {},
   "source": [
    "# covert sentences into list items\n",
    "text = master_corpus.replace('\\n',' ') \n",
    "text =text.split('.')\n",
    "text = [clean_text(i) for i in text]\n",
    "\n",
    "# creat list of sentences with 'reports' mentioned\n",
    "subs='reports'\n",
    "res = [i for i in text if subs in i]\n",
    "len(res)"
   ]
  },
  {
   "cell_type": "raw",
   "metadata": {},
   "source": [
    "# download some additional nltk packages\n",
    "nltk.download('punkt')\n",
    "nltk.download('averaged_perceptron_tagger')"
   ]
  },
  {
   "cell_type": "raw",
   "metadata": {},
   "source": [
    "## 3.2: Try analysing sentences with 'reports'"
   ]
  },
  {
   "cell_type": "raw",
   "metadata": {},
   "source": [
    "\n",
    "\n",
    "\n",
    "def return_qualifiers(sentence2,scan_breadth):\n",
    "    \n",
    "    # Tokenise sentence\n",
    "    tokens = nltk.word_tokenize(sentence2)\n",
    "    POS_data   = nltk.pos_tag(tokens)\n",
    "    \n",
    "    \n",
    "    # Determin words prior to keyword to sample\n",
    "    keyword_position = tokens.index('reports')\n",
    "    scan_breadth       = max(0, keyword_position-scan_breadth)\n",
    "    words_prior      = POS_data[scan_breadth:keyword_position]\n",
    "\n",
    "    #search through these words for verbs, adjectives and determiners which qualify keyword\n",
    "    \n",
    "    POS_before=['RB','EX','VBN','VBD','DT','JJ','NN','NNS','according'] # civil soc orgs; also see https://www.clips.uantwerpen.be/pages/mbsp-tags\n",
    "    result=[]\n",
    "    for j in POS_before:\n",
    "        match = [i for i in words_prior if j in i]\n",
    "        result.append(match)\n",
    "    \n",
    "    # an addional search for verbs after reports (reports indicated, reports confired)\n",
    "    \n",
    "    verb_list = ['VB','VBN','VBZ','VBD']\n",
    "    \n",
    "    for verb in verb_list:   \n",
    "        try:\n",
    "            if POS_data[keyword_position+1][1] == verb:\n",
    "                result.append(POS_data[keyword_position+1])\n",
    "        except:\n",
    "            pass\n",
    "  \n",
    "\n",
    "    return(result)\n",
    "\n",
    "#VBD,VB\n",
    "#print(Before_report)\n",
    "#print(POS_data)\n",
    "\n",
    "\n",
    "def return_details(sentence,scan_breadth):\n",
    "    # Tokenise sentence\n",
    "    tokens = nltk.word_tokenize(sentence)\n",
    "    POS_data   = nltk.pos_tag(tokens)\n",
    "    \n",
    "    # Determin words after keyword to sample\n",
    "    #keyword_position = tokens.index('reports')\n",
    "    #scan_breadth = min(len(POS_data),keyword_position+scan_breadth)\n",
    "    #words_after = POS_data[keyword_position+1:scan_breadth]\n",
    "\n",
    "    # scan forwards for nouns NN, NNS, and Adjectives JJ and verbs VB VBD to describe report content\n",
    "    POS_after=['NN','NNS','JJ','VBD','VBG'] # see see https://www.clips.uantwerpen.be/pages/mbsp-tags\n",
    "    result=[]\n",
    "    for j in POS_after:\n",
    "        match = [i for i in POS_data if j in i]\n",
    "        result.append(match)\n",
    "    return(result)\n",
    "\n",
    "print(return_qualifiers(res[1002],4))\n",
    "\n",
    "print(return_details(res[1002],15))\n",
    "\n"
   ]
  },
  {
   "cell_type": "raw",
   "metadata": {},
   "source": [
    "# 4.0 Use SVM to classify text"
   ]
  },
  {
   "cell_type": "raw",
   "metadata": {},
   "source": [
    "### Import neccesary packages"
   ]
  },
  {
   "cell_type": "raw",
   "metadata": {},
   "source": [
    "import matplotlib.pyplot as plt\n",
    "import numpy as np\n",
    "\n",
    "from sklearn.pipeline import Pipeline\n",
    "\n",
    "from sklearn.metrics import accuracy_score, confusion_matrix,precision_score,recall_score,classification_report\n",
    "from sklearn.model_selection import train_test_split\n",
    "from sklearn.feature_extraction.text import TfidfTransformer\n",
    "from sklearn.feature_extraction.text import CountVectorizer\n",
    "\n",
    "from sklearn.linear_model import SGDClassifier\n",
    "from sklearn.svm import LinearSVC\n",
    "\n"
   ]
  },
  {
   "cell_type": "raw",
   "metadata": {},
   "source": [
    "### Define functions to measure performance"
   ]
  },
  {
   "cell_type": "raw",
   "metadata": {},
   "source": [
    "\n",
    "\n",
    "def performance_report(df, CIRI_label):\n",
    "    df= df[df['Class']==CIRI_label]\n",
    "    print('accuracy %s' % accuracy_score(df['y_pred'], df['y_test']))\n",
    "    print(classification_report(df['y_test'],df['y_pred']))\n",
    "    print(confusion_matrix(df['y_test'],df['y_pred']))\n",
    "    \n",
    "def generate_performance_db(df):\n",
    "    labels = df['Class'].unique()\n",
    "    df_performance =pd.DataFrame(columns = ['Class','Accuracy','Precision','Recall'])\n",
    "    \n",
    "    for i in range(len(labels)):\n",
    "        label = labels[i]     \n",
    "        df_of_int= df[df['Class']==label]\n",
    "        \n",
    "        df_performance.loc[i,'Class']     =  str(label)\n",
    "        df_performance.loc[i,'Accuracy']  =  accuracy_score(df_of_int['y_pred'], df_of_int['y_test'])\n",
    "        df_performance.loc[i,'Precision'] =  precision_score(df_of_int['y_pred'], df_of_int['y_test'],average='micro')\n",
    "        df_performance.loc[i,'Recall']    =  recall_score(df_of_int['y_test'],df_of_int['y_pred'],average='micro')\n",
    "        \n",
    "    return df_performance"
   ]
  },
  {
   "cell_type": "raw",
   "metadata": {},
   "source": [
    "### Define piplines to explore different models approaches"
   ]
  },
  {
   "cell_type": "raw",
   "metadata": {},
   "source": [
    "\n",
    "\n",
    "\n",
    "sgd = Pipeline([('vect', CountVectorizer()),('model', SGDClassifier(loss='hinge', penalty='l2',alpha=1e-3, random_state=42, max_iter=30, tol=None)),])\n",
    "\n",
    "sgd_ngrams = Pipeline([('vect', CountVectorizer(strip_accents= 'unicode', stop_words='english',ngram_range=(1,3))),\n",
    "                ('tfidf', TfidfTransformer()),\n",
    "                ('model', SGDClassifier(class_weight = 'balanced', loss='hinge', penalty='l2', random_state=42, max_iter=30, tol=None)), #alpha=1e-3,\n",
    "               ])\n",
    "\n",
    "sgd_ngrams_tfidf = Pipeline([('vect', CountVectorizer(strip_accents= 'unicode', stop_words='english',ngram_range=(1,3))),\n",
    "                ('tfidf', TfidfTransformer()),\n",
    "                ('model', SGDClassifier(class_weight = 'balanced', loss='hinge', penalty='l2', random_state=42, max_iter=30, tol=None)), #alpha=1e-3,\n",
    "               ])\n",
    "\n",
    "svm = Pipeline([('vect', CountVectorizer(strip_accents= 'unicode', stop_words='english')),\n",
    "                ('model', LinearSVC()),])\n",
    "\n",
    "\n",
    "svm_ngrams = Pipeline([('vect', CountVectorizer(strip_accents= 'unicode', stop_words='english',ngram_range=(1,3))),\n",
    "                ('model', LinearSVC()),])\n",
    "\n",
    "\n",
    "svm_ngrams_tfidf = Pipeline([('vect', CountVectorizer(strip_accents= 'unicode', stop_words='english',ngram_range=(1,3))),\n",
    "                ('tfidf', TfidfTransformer()),\n",
    "                ('model', LinearSVC()),])\n"
   ]
  },
  {
   "cell_type": "raw",
   "metadata": {},
   "source": [
    "## 4.1 Use SGD to classify reports vs no reports"
   ]
  },
  {
   "cell_type": "raw",
   "metadata": {},
   "source": [
    "Using some labeled data I put together manually, this classfies sentences with 'reports' in the sentence as positive or negaitve"
   ]
  },
  {
   "cell_type": "raw",
   "metadata": {},
   "source": [
    "### 4.1.1 Import labled training data and all of africa 2018 text"
   ]
  },
  {
   "cell_type": "raw",
   "metadata": {},
   "source": [
    "\n",
    "training_df=pd.read_csv('../data/NLP_training_set.csv')\n",
    "training_df = training_df.drop(columns=['Unnamed: 0'])\n",
    "training_df['Basic_Class']=training_df['Class']\n",
    "training_df['Basic_Class'].replace(1,0,inplace=True)\n",
    "training_df['Basic_Class'].replace(2,1,inplace=True)\n",
    "training_df['Basic_Class'].replace(3,1,inplace=True)\n"
   ]
  },
  {
   "cell_type": "raw",
   "metadata": {},
   "source": [
    "### 4.1.2 Apply SVM classifier"
   ]
  },
  {
   "cell_type": "raw",
   "metadata": {},
   "source": [
    "X = training_df['String']\n",
    "y = training_df['Basic_Class']\n",
    "X_train, X_test, y_train, y_test = train_test_split(X, y, test_size=0.3, random_state = 42)\n",
    "\n",
    "sgd.fit(X_train, y_train)\n",
    "y_pred = sgd.predict(X_test)\n"
   ]
  },
  {
   "cell_type": "raw",
   "metadata": {},
   "source": [
    "### 4.1.3 Evaluate SVM classifier"
   ]
  },
  {
   "cell_type": "raw",
   "metadata": {},
   "source": [
    "print('accuracy %s' % accuracy_score(y_pred, y_test))\n",
    "print(classification_report(y_test, y_pred))\n",
    "print(confusion_matrix(y_test,y_pred))"
   ]
  },
  {
   "cell_type": "raw",
   "metadata": {},
   "source": [
    "## 4.2 Use SVM to predict report section membership (hence type of offence)"
   ]
  },
  {
   "cell_type": "raw",
   "metadata": {},
   "source": [
    "now that Marie has pacred the africa section, I can look at how SVM performs on recognising types of transgessions"
   ]
  },
  {
   "cell_type": "raw",
   "metadata": {},
   "source": [
    "df_all_africa = pd.read_csv('../data/Custom_State_Dep_Reports/2018_all_sections_africa_PARCED.csv')"
   ]
  },
  {
   "cell_type": "raw",
   "metadata": {},
   "source": [
    "df_train=pd.DataFrame(columns=['text','label'])\n",
    "\n",
    "for i in range(len(df_all_africa.columns)-3): \n",
    "    df_extract = pd.DataFrame(columns=['text','label'])\n",
    "    df_all_africa.iloc[:,i+3] = df_all_africa.iloc[:,i+3].astype(str)\n",
    "    df_extract['text']=' '.join(df_all_africa.iloc[:,i+3]).replace('\\n',' ').split('.')\n",
    "    df_extract['label'] = df_all_africa.columns[i+3]\n",
    "    df_train= df_train.append(df_extract)\n"
   ]
  },
  {
   "cell_type": "raw",
   "metadata": {},
   "source": [
    "X = df_train['text']\n",
    "y = df_train['label']\n",
    "\n",
    "X_train, X_test, y_train, y_test = train_test_split(X, y, test_size=0.3, random_state = 42)"
   ]
  },
  {
   "cell_type": "raw",
   "metadata": {},
   "source": [
    "sgd.fit(X_train, y_train)\n",
    "y_pred = sgd.predict(X_test)"
   ]
  },
  {
   "cell_type": "raw",
   "metadata": {},
   "source": [
    "### 4.2.1: Evaluate model"
   ]
  },
  {
   "cell_type": "raw",
   "metadata": {},
   "source": [
    "print('accuracy %s' % accuracy_score(y_pred, y_test))\n",
    "print(classification_report(y_test, y_pred))\n",
    "#print(confusion_matrix(y_test,y_pred))"
   ]
  },
  {
   "cell_type": "raw",
   "metadata": {},
   "source": [
    "Performs better on some cataories than others, this is without text cleaning or parameter tuning, so it feels promissing"
   ]
  },
  {
   "cell_type": "raw",
   "metadata": {},
   "source": [
    "####  testing on classifying sections of Amnesty International"
   ]
  },
  {
   "cell_type": "raw",
   "metadata": {},
   "source": [
    "test = \"Reports of domestic violence increased; immediate protection orders had been issued by 1 June. In August, Judge Fildeze Hafizi was shot and killed in her car by her former husband. She had been granted a protection order in 2015 after he had beaten her. He was convicted and imprisoned in April 2016, but released in early 2017 under a general amnesty.\"\n",
    "test = test.split('.')\n",
    "y_pred = sgd.predict(test)\n",
    "y_pred"
   ]
  },
  {
   "cell_type": "raw",
   "metadata": {},
   "source": [
    "test2 = 'Physical attacks against investigative journalists were perpetrated by organized criminals, or owners of private companies. In March, journalist Elvi Fundo was beaten in the capital, Tirana, by assailants believed to be associated with organized crime. In June, TV channel owner Erven Hyseni was shot dead in Vlora, along with a government official. In July, journalists claimed that defamation proceedings brought against two media outlets by High Court Judge Gjin Gjoni and his wife, businesswoman Elona Caushi, aimed to intimidate investigative journalists and encourage self-censorship.'\n",
    "test2 = test2.split('.')\n",
    "y_pred = sgd.predict(test2)\n",
    "y_pred"
   ]
  },
  {
   "cell_type": "raw",
   "metadata": {},
   "source": [
    "test3 = 'No measures were taken to locate the body of Remzi Hoxha, a Macedonian Albanian who was forcibly disappeared by National Intelligence Service officials in 1995. No progress was reported towards the exhumation of the remains of around 6,000 people who had disappeared between 1945 and 1991.'\n",
    "test3 = test3.split('.')\n",
    "y_pred = sgd.predict(test3)\n",
    "y_pred"
   ]
  },
  {
   "cell_type": "raw",
   "metadata": {},
   "source": [
    "test4 = 'Measures to ensure judicial independence were partially implemented. In June, two judicial associations appealed to the Constitutional Court against a vetting law, which sought to ensure judges’ and prosecutors’ independence from organized crime.'\n",
    "test4 = test4.split('.')\n",
    "y_pred = sgd.predict(test4)\n",
    "y_pred"
   ]
  },
  {
   "cell_type": "markdown",
   "metadata": {},
   "source": [
    "# 4. 3 Using SVM to predict CIRI scores"
   ]
  },
  {
   "cell_type": "code",
   "execution_count": 4,
   "metadata": {},
   "outputs": [],
   "source": [
    "data_df = pd.read_csv('../data/Custom_State_Dep_Reports/CIRI_Text_1999_2009.csv')\n"
   ]
  },
  {
   "cell_type": "code",
   "execution_count": 1179,
   "metadata": {},
   "outputs": [
    {
     "name": "stdout",
     "output_type": "stream",
     "text": [
      "V2 Analysing: PHYSINT\n",
      "   Extracting Data\n",
      "   Fitting model\n",
      "   Accuracy: 0.5219683655536028\n",
      "V2 Analysing: DISAP\n",
      "   Extracting Data\n",
      "   Fitting model\n",
      "   Accuracy: 0.8787346221441125\n",
      "V2 Analysing: KILL\n",
      "   Extracting Data\n",
      "   Fitting model\n",
      "   Accuracy: 0.7631578947368421\n",
      "V2 Analysing: POLPRIS\n",
      "   Extracting Data\n",
      "   Fitting model\n",
      "   Accuracy: 0.8087719298245614\n",
      "V2 Analysing: TORT\n",
      "   Extracting Data\n",
      "   Fitting model\n",
      "   Accuracy: 0.8052631578947368\n",
      "V2 Analysing: OLD_EMPINX\n",
      "   Extracting Data\n",
      "   Fitting model\n",
      "   Accuracy: 0.5384615384615384\n",
      "V2 Analysing: NEW_EMPINX\n",
      "   Extracting Data\n",
      "   Fitting model\n",
      "   Accuracy: 0.39824561403508774\n",
      "V2 Analysing: ASSN\n",
      "   Extracting Data\n",
      "   Fitting model\n",
      "   Accuracy: 0.7929824561403509\n",
      "V2 Analysing: FORMOV\n",
      "   Extracting Data\n",
      "   Fitting model\n",
      "   Accuracy: 0.8712374581939799\n",
      "V2 Analysing: DOMMOV\n",
      "   Extracting Data\n",
      "   Fitting model\n",
      "   Accuracy: 0.8729096989966555\n",
      "V2 Analysing: OLD_MOVE\n",
      "   Extracting Data\n",
      "   Fitting model\n",
      "   Accuracy: 0.9112709832134293\n",
      "V2 Analysing: SPEECH\n",
      "   Extracting Data\n",
      "   Fitting model\n",
      "   Accuracy: 0.7929824561403509\n",
      "V2 Analysing: ELECSD\n",
      "   Extracting Data\n",
      "   Fitting model\n",
      "   Accuracy: 0.7982456140350878\n",
      "V2 Analysing: OLD_RELFRE\n",
      "   Extracting Data\n",
      "   Fitting model\n",
      "   Accuracy: 0.9471153846153846\n",
      "V2 Analysing: NEW_RELFRE\n",
      "   Extracting Data\n",
      "   Fitting model\n",
      "   Accuracy: 0.8127090301003345\n",
      "V2 Analysing: WORKER\n",
      "   Extracting Data\n",
      "   Fitting model\n",
      "   Accuracy: 0.7842105263157895\n",
      "V2 Analysing: WECON\n",
      "   Extracting Data\n",
      "   Fitting model\n",
      "   Accuracy: 0.7803163444639719\n",
      "V2 Analysing: WOPOL\n",
      "   Extracting Data\n",
      "   Fitting model\n",
      "   Accuracy: 0.8576449912126538\n",
      "V2 Analysing: WOSOC\n",
      "   Extracting Data\n",
      "   Fitting model\n",
      "   Accuracy: 0.7764350453172205\n",
      "V2 Analysing: INJUD\n",
      "   Extracting Data\n",
      "   Fitting model\n",
      "   Accuracy: 0.9061976549413735\n"
     ]
    }
   ],
   "source": [
    "CIRI_Labels_Predict = ['PHYSINT', 'DISAP','KILL', 'POLPRIS', 'TORT', 'OLD_EMPINX', 'NEW_EMPINX', 'ASSN', 'FORMOV','DOMMOV', 'OLD_MOVE', 'SPEECH', 'ELECSD', 'OLD_RELFRE', 'NEW_RELFRE','WORKER', 'WECON', 'WOPOL', 'WOSOC', 'INJUD']\n",
    "\n",
    "df_model_perform = pd.DataFrame(columns =['Class','y_test','y_pred'])\n",
    "\n",
    "\n",
    "\n",
    "\n",
    "for C_label in CIRI_Labels_Predict:\n",
    "    \n",
    "    print('V2 Analysing: ' + str(C_label))\n",
    "    \n",
    "\n",
    "    df_code_perform = pd.DataFrame(columns =['Class','y_test','y_pred'])\n",
    "\n",
    "    X_train, X_test, y_train, y_test= get_data(C_label)\n",
    "    print('   Fitting model')\n",
    "    sgd_tfidf.fit(X_train, y_train)\n",
    "    y_pred = sgd_tfidf.predict(X_test)\n",
    "    print('   Accuracy: %s' % accuracy_score(y_pred, y_test))\n",
    "    \n",
    "    df_code_perform['y_test'] =  y_test\n",
    "    df_code_perform['y_pred'] = y_pred\n",
    "    df_code_perform['Class'] = str(C_label)\n",
    "    df_model_perform = df_model_perform.append(df_code_perform)"
   ]
  },
  {
   "cell_type": "code",
   "execution_count": 1183,
   "metadata": {},
   "outputs": [],
   "source": [
    "df_model_perform.to_csv('model_performance_report.csv')"
   ]
  },
  {
   "cell_type": "code",
   "execution_count": 1240,
   "metadata": {},
   "outputs": [
    {
     "data": {
      "text/plain": [
       "[Text(0, 0, 'PHYSINT'),\n",
       " Text(0, 0, 'DISAP'),\n",
       " Text(0, 0, 'KILL'),\n",
       " Text(0, 0, 'POLPRIS'),\n",
       " Text(0, 0, 'TORT'),\n",
       " Text(0, 0, 'OLD_EMPINX'),\n",
       " Text(0, 0, 'NEW_EMPINX'),\n",
       " Text(0, 0, 'ASSN'),\n",
       " Text(0, 0, 'FORMOV'),\n",
       " Text(0, 0, 'DOMMOV'),\n",
       " Text(0, 0, 'OLD_MOVE'),\n",
       " Text(0, 0, 'SPEECH'),\n",
       " Text(0, 0, 'ELECSD'),\n",
       " Text(0, 0, 'OLD_RELFRE'),\n",
       " Text(0, 0, 'NEW_RELFRE'),\n",
       " Text(0, 0, 'WORKER'),\n",
       " Text(0, 0, 'WECON'),\n",
       " Text(0, 0, 'WOPOL'),\n",
       " Text(0, 0, 'WOSOC'),\n",
       " Text(0, 0, 'INJUD')]"
      ]
     },
     "execution_count": 1240,
     "metadata": {},
     "output_type": "execute_result"
    },
    {
     "data": {
      "image/png": "[encoded data removed]",
      "text/plain": [
       "<Figure size 432x288 with 1 Axes>"
      ]
     },
     "metadata": {
      "needs_background": "light"
     },
     "output_type": "display_data"
    }
   ],
   "source": [
    "from seaborn import barplot\n",
    "\n",
    "performance = generate_performance_db(df_model_perform)\n",
    "\n",
    "results = barplot(x=performance['Class'],y=performance['Accuracy'])\n",
    "results.set_xticklabels(results.get_xticklabels(), rotation=90)"
   ]
  },
  {
   "cell_type": "code",
   "execution_count": 1146,
   "metadata": {
    "scrolled": true
   },
   "outputs": [
    {
     "name": "stdout",
     "output_type": "stream",
     "text": [
      "accuracy 0.7929824561403509\n",
      "              precision    recall  f1-score   support\n",
      "\n",
      "         0.0       0.82      0.75      0.78       127\n",
      "         1.0       0.65      0.75      0.70       172\n",
      "         2.0       0.89      0.84      0.86       271\n",
      "\n",
      "   micro avg       0.79      0.79      0.79       570\n",
      "   macro avg       0.79      0.78      0.78       570\n",
      "weighted avg       0.80      0.79      0.80       570\n",
      "\n",
      "[[ 95  31   1]\n",
      " [ 15 129  28]\n",
      " [  6  37 228]]\n"
     ]
    }
   ],
   "source": [
    "print('accuracy %s' % accuracy_score(y_pred, y_test))\n",
    "print(classification_report(y_test, y_pred))\n",
    "print(confusion_matrix(y_test,y_pred))\n",
    "\n",
    "\n"
   ]
  },
  {
   "cell_type": "markdown",
   "metadata": {},
   "source": [
    "### Plot performance matrix for PHYSINT\n",
    "\n"
   ]
  },
  {
   "cell_type": "code",
   "execution_count": 1252,
   "metadata": {},
   "outputs": [
    {
     "data": {
      "text/plain": [
       "<matplotlib.axes._subplots.AxesSubplot at 0x1a52aa3c18>"
      ]
     },
     "execution_count": 1252,
     "metadata": {},
     "output_type": "execute_result"
    },
    {
     "data": {
      "image/png": "[encoded data removed]",
      "text/plain": [
       "<Figure size 432x288 with 2 Axes>"
      ]
     },
     "metadata": {},
     "output_type": "display_data"
    }
   ],
   "source": [
    "import seaborn as sn\n",
    "df= df_model_perform[df_model_perform['Class']=='PHYSINT']\n",
    "array = confusion_matrix(df['y_test'],df['y_pred'])\n",
    "df_cm = pd.DataFrame(array, range(9),\n",
    "                  range(9))\n",
    "#plt.figure(figsize = (10,7))\n",
    "sn.set(font_scale=1.4)#for label size\n",
    "sn.heatmap(df_cm, annot=True,annot_kws={\"size\": 20})# font size\n",
    "\n",
    "\n",
    "\n"
   ]
  },
  {
   "cell_type": "markdown",
   "metadata": {},
   "source": [
    "# Extracting feature importance from SGD"
   ]
  },
  {
   "cell_type": "code",
   "execution_count": 110,
   "metadata": {},
   "outputs": [],
   "source": [
    "\n",
    "def plot_coefficients(classifier, feature_names, top_features=20):\n",
    "    coef = classifier.coef_[0].ravel()  # I think you need to index for each class within the lable\n",
    "    \n",
    "    top_positive_coefficients = np.argsort(coef)[-top_features:]\n",
    "    #print('Top Positive Coefficients: ' + str(top_positive_coefficients))\n",
    "    \n",
    "    top_negative_coefficients = np.argsort(coef)[:top_features]\n",
    "    #print('Top Negative Coefficients: ' + str(top_negative_coefficients))\n",
    "    \n",
    "    top_coefficients = np.hstack([top_negative_coefficients, top_positive_coefficients])\n",
    "    # create plot\n",
    "    plt.figure(figsize=(15, 5))\n",
    "    colors = ['red' if c < 0 else 'blue' for c in coef[top_coefficients]] \n",
    "    plt.bar(np.arange(2 * top_features), coef[top_coefficients], color=colors)\n",
    "    feature_names = np.array(feature_names)\n",
    "    #print('Feature Names: ' + str(feature_names))\n",
    "    plt.xticks(np.arange(1, 1 + 2 * top_features), feature_names[top_coefficients], rotation=60, ha='right')\n",
    "    plt.show()\n",
    "    \n",
    "\n",
    "def fit_model_report_features(pipe):\n",
    "    \n",
    "    pipe.fit(X_train, y_train)\n",
    "    y_pred = pipe.predict(X_test)\n",
    "\n",
    "    feature_names = pipe.named_steps['vect'].get_feature_names()\n",
    "    model = pipe.named_steps['model']\n",
    "\n",
    "    plot_coefficients(model, feature_names)\n",
    "    print('   Accuracy: %s' % accuracy_score(y_pred, y_test))\n",
    "    "
   ]
  },
  {
   "cell_type": "markdown",
   "metadata": {},
   "source": [
    "## Using and example of free speech indicator"
   ]
  },
  {
   "cell_type": "code",
   "execution_count": null,
   "metadata": {},
   "outputs": [],
   "source": [
    "X_train, X_test, y_train, y_test= get_data('SPEECH',1999,2009, False)"
   ]
  },
  {
   "cell_type": "markdown",
   "metadata": {},
   "source": [
    "#### Basic SVM"
   ]
  },
  {
   "cell_type": "code",
   "execution_count": 115,
   "metadata": {},
   "outputs": [
    {
     "data": {
      "image/png": "[encoded data removed]",
      "text/plain": [
       "<Figure size 1080x360 with 1 Axes>"
      ]
     },
     "metadata": {
      "needs_background": "light"
     },
     "output_type": "display_data"
    },
    {
     "name": "stdout",
     "output_type": "stream",
     "text": [
      "   Accuracy: 0.7771929824561403\n"
     ]
    }
   ],
   "source": [
    "fit_model_report_features(svm)"
   ]
  },
  {
   "cell_type": "markdown",
   "metadata": {},
   "source": [
    "#### SVM with ngrams"
   ]
  },
  {
   "cell_type": "code",
   "execution_count": 118,
   "metadata": {},
   "outputs": [
    {
     "data": {
      "image/png": "[encoded data removed]",
      "text/plain": [
       "<Figure size 1080x360 with 1 Axes>"
      ]
     },
     "metadata": {
      "needs_background": "light"
     },
     "output_type": "display_data"
    },
    {
     "name": "stdout",
     "output_type": "stream",
     "text": [
      "   Accuracy: 0.7912280701754386\n"
     ]
    }
   ],
   "source": [
    "fit_model_report_features(svm_ngrams)"
   ]
  },
  {
   "cell_type": "markdown",
   "metadata": {},
   "source": [
    "#### SVM with ngrams and tfidf"
   ]
  },
  {
   "cell_type": "code",
   "execution_count": 119,
   "metadata": {},
   "outputs": [
    {
     "data": {
      "image/png": "[encoded data removed]",
      "text/plain": [
       "<Figure size 1080x360 with 1 Axes>"
      ]
     },
     "metadata": {
      "needs_background": "light"
     },
     "output_type": "display_data"
    },
    {
     "name": "stdout",
     "output_type": "stream",
     "text": [
      "   Accuracy: 0.7964912280701755\n"
     ]
    }
   ],
   "source": [
    "fit_model_report_features(svm_ngrams_tfidf)"
   ]
  },
  {
   "cell_type": "markdown",
   "metadata": {},
   "source": [
    "#### SGD no ngrams or tf idf"
   ]
  },
  {
   "cell_type": "code",
   "execution_count": 116,
   "metadata": {},
   "outputs": [
    {
     "data": {
      "image/png": "[encoded data removed]",
      "text/plain": [
       "<Figure size 1080x360 with 1 Axes>"
      ]
     },
     "metadata": {
      "needs_background": "light"
     },
     "output_type": "display_data"
    },
    {
     "name": "stdout",
     "output_type": "stream",
     "text": [
      "   Accuracy: 0.7666666666666667\n"
     ]
    }
   ],
   "source": [
    "fit_model_report_features(sgd)\n"
   ]
  },
  {
   "cell_type": "code",
   "execution_count": 106,
   "metadata": {},
   "outputs": [
    {
     "data": {
      "text/plain": [
       "['00',\n",
       " '00 00',\n",
       " '00 00 authorities',\n",
       " '00 00 balboa',\n",
       " '00 00 balboas',\n",
       " '00 00 bring',\n",
       " '00 00 day',\n",
       " '00 00 desire',\n",
       " '00 00 employers',\n",
       " '00 00 hour',\n",
       " '00 00 joint',\n",
       " '00 00 labor',\n",
       " '00 00 ministry',\n",
       " '00 00 order',\n",
       " '00 00 persons',\n",
       " '00 00 routinely',\n",
       " '00 00 sbli',\n",
       " '00 00 section',\n",
       " '00 00 security',\n",
       " '00 00 written',\n",
       " '00 000',\n",
       " '00 000 00',\n",
       " '00 000 amd',\n",
       " '00 000 cfa',\n",
       " '00 000 drams',\n",
       " '00 000 huf',\n",
       " '00 000 naira',\n",
       " '00 000 rubles',\n",
       " '00 000 shillings',\n",
       " '00 050',\n",
       " '00 050 cedis',\n",
       " '00 10',\n",
       " '00 10 00',\n",
       " '00 12',\n",
       " '00 12 30',\n",
       " '00 12 500',\n",
       " '00 130',\n",
       " '00 130 pesos',\n",
       " '00 132',\n",
       " '00 132 000',\n",
       " '00 17',\n",
       " '00 17 lempiras',\n",
       " '00 18',\n",
       " '00 18 65',\n",
       " '00 20',\n",
       " '00 20 000',\n",
       " '00 200',\n",
       " '00 200 000',\n",
       " '00 2006',\n",
       " '00 2006 recent',\n",
       " '00 253',\n",
       " '00 253 000',\n",
       " '00 26',\n",
       " '00 26 percent',\n",
       " '00 27',\n",
       " '00 27 000',\n",
       " '00 30',\n",
       " '00 30 security',\n",
       " '00 300',\n",
       " '00 300 dinars',\n",
       " '00 300 dirhams',\n",
       " '00 31',\n",
       " '00 31 200',\n",
       " '00 35',\n",
       " '00 35 euros',\n",
       " '00 370',\n",
       " '00 370 new',\n",
       " '00 44',\n",
       " '00 44 374',\n",
       " '00 44 50',\n",
       " '00 440',\n",
       " '00 440 lei',\n",
       " '00 49',\n",
       " '00 49 50',\n",
       " '00 50',\n",
       " '00 50 bds',\n",
       " '00 50 minimum',\n",
       " '00 50 older',\n",
       " '00 50 pesos',\n",
       " '00 500',\n",
       " '00 500 000',\n",
       " '00 500 cook',\n",
       " '00 500 huf',\n",
       " '00 52',\n",
       " '00 52 pounds',\n",
       " '00 59',\n",
       " '00 59 hour',\n",
       " '00 60',\n",
       " '00 60 50',\n",
       " '00 60 ld',\n",
       " '00 60 pesos',\n",
       " '00 600',\n",
       " '00 600 kyats',\n",
       " '00 656',\n",
       " '00 656 child',\n",
       " '00 668',\n",
       " '00 668 pesos',\n",
       " '00 70',\n",
       " '00 70 000',\n",
       " '00 70 gourdes',\n",
       " '00 800',\n",
       " '00 800 cedis',\n",
       " '00 85',\n",
       " '00 85 hour',\n",
       " '00 968',\n",
       " '00 968 maximum',\n",
       " '00 approximately',\n",
       " '00 approximately 30',\n",
       " '00 authorities',\n",
       " '00 authorities bring',\n",
       " '00 balboa',\n",
       " '00 balboa tourist',\n",
       " '00 balboas',\n",
       " '00 balboas day',\n",
       " '00 blz',\n",
       " '00 blz 50',\n",
       " '00 blz manual',\n",
       " '00 blz minimum',\n",
       " '00 bring',\n",
       " '00 bring detainee',\n",
       " '00 bz',\n",
       " '00 bz 00',\n",
       " '00 cdn',\n",
       " '00 cdn 10',\n",
       " '00 cedis',\n",
       " '00 cedis 53',\n",
       " '00 cfa',\n",
       " '00 cfa francs',\n",
       " '00 child',\n",
       " '00 child prostitutes',\n",
       " '00 colones',\n",
       " '00 colones commercial',\n",
       " '00 commercial',\n",
       " '00 commercial industrial',\n",
       " '00 curfew',\n",
       " '00 curfew directed',\n",
       " '00 curfew unaccompanied',\n",
       " '00 day',\n",
       " '00 day 600',\n",
       " '00 day banana',\n",
       " '00 day constitution',\n",
       " '00 day editor',\n",
       " '00 day government',\n",
       " '00 day inmate',\n",
       " '00 day ntrc',\n",
       " '00 day reports',\n",
       " '00 days',\n",
       " '00 days law',\n",
       " '00 december',\n",
       " '00 december 25',\n",
       " '00 desire',\n",
       " '00 desire tanoe',\n",
       " '00 employers',\n",
       " '00 employers estimated',\n",
       " '00 employers frequently',\n",
       " '00 end',\n",
       " '00 end 2008',\n",
       " '00 estimated',\n",
       " '00 estimated returned',\n",
       " '00 evening',\n",
       " '00 evening attempt',\n",
       " '00 extended',\n",
       " '00 extended end',\n",
       " '00 family',\n",
       " '00 family viewing',\n",
       " '00 ff',\n",
       " '00 ff crime',\n",
       " '00 ff fines',\n",
       " '00 following',\n",
       " '00 following day',\n",
       " '00 government',\n",
       " '00 government 35',\n",
       " '00 government did',\n",
       " '00 government registered',\n",
       " '00 hour',\n",
       " '00 hour age',\n",
       " '00 hour categories',\n",
       " '00 hour did',\n",
       " '00 hour dollar',\n",
       " '00 hour domestic',\n",
       " '00 hour foreign',\n",
       " '00 hour government',\n",
       " '00 hour labor',\n",
       " '00 hour meals',\n",
       " '00 hour minimum',\n",
       " '00 hour occupations',\n",
       " '00 hour ontario',\n",
       " '00 hour tourist',\n",
       " '00 hour view',\n",
       " '00 hour wages',\n",
       " '00 hour women',\n",
       " '00 instead',\n",
       " '00 instead 12',\n",
       " '00 joint',\n",
       " '00 joint patrol',\n",
       " '00 july',\n",
       " '00 july 25',\n",
       " '00 july 26',\n",
       " '00 june',\n",
       " '00 june questioned',\n",
       " '00 labor',\n",
       " '00 labor inspectors',\n",
       " '00 labor ministry',\n",
       " '00 legal',\n",
       " '00 legal minimum',\n",
       " '00 march',\n",
       " '00 march 24',\n",
       " '00 maximum',\n",
       " '00 maximum prison',\n",
       " '00 midnight',\n",
       " '00 midnight radio',\n",
       " '00 million',\n",
       " '00 million lei',\n",
       " '00 ministry',\n",
       " '00 ministry information',\n",
       " '00 ministry labor',\n",
       " '00 national',\n",
       " '00 national assembly',\n",
       " '00 news',\n",
       " '00 news english',\n",
       " '00 night',\n",
       " '00 night arrests',\n",
       " '00 november',\n",
       " '00 november 25',\n",
       " '00 operating',\n",
       " '00 operating capital',\n",
       " '00 order',\n",
       " '00 order prevent',\n",
       " '00 outdoor',\n",
       " '00 outdoor laborers',\n",
       " '00 paying',\n",
       " '00 paying fee',\n",
       " '00 permitted',\n",
       " '00 permitted minimum',\n",
       " '00 persons',\n",
       " '00 persons age',\n",
       " '00 persons fled',\n",
       " '00 persons naturalized',\n",
       " '00 pm',\n",
       " '00 pm 00',\n",
       " '00 pm curfew',\n",
       " '00 pm days',\n",
       " '00 pm suitable',\n",
       " '00 pm zanzibar',\n",
       " '00 pohnpei',\n",
       " '00 pohnpei 25',\n",
       " '00 police',\n",
       " '00 police used',\n",
       " '00 polls',\n",
       " '00 polls required',\n",
       " '00 prisoner',\n",
       " '00 prisoner day',\n",
       " '00 quetzals',\n",
       " '00 quetzals august',\n",
       " '00 raid',\n",
       " '00 raid government',\n",
       " '00 regulation',\n",
       " '00 regulation generally',\n",
       " '00 routinely',\n",
       " '00 routinely worked',\n",
       " '00 sbli',\n",
       " '00 sbli effectively',\n",
       " '00 school',\n",
       " '00 school year',\n",
       " '00 section',\n",
       " '00 section day',\n",
       " '00 security',\n",
       " '00 security forces',\n",
       " '00 sixteen',\n",
       " '00 sixteen persons',\n",
       " '00 stopped',\n",
       " '00 stopped customs',\n",
       " '00 suitable',\n",
       " '00 suitable viewers',\n",
       " '00 tala',\n",
       " '00 tala approximately',\n",
       " '00 textile',\n",
       " '00 textile sector',\n",
       " '00 uninterrupted',\n",
       " '00 uninterrupted 00',\n",
       " '00 unless',\n",
       " '00 unless special',\n",
       " '00 written',\n",
       " '00 written permission',\n",
       " '00 years',\n",
       " '00 years imprisonment',\n",
       " '000',\n",
       " '000 00',\n",
       " '000 00 cedis',\n",
       " '000 00 ff',\n",
       " '000 00 maximum',\n",
       " '000 000',\n",
       " '000 000 00',\n",
       " '000 000 000',\n",
       " '000 000 10',\n",
       " '000 000 100',\n",
       " '000 000 15',\n",
       " '000 000 150',\n",
       " '000 000 20',\n",
       " '000 000 200',\n",
       " '000 000 2004',\n",
       " '000 000 300',\n",
       " '000 000 40',\n",
       " '000 000 400',\n",
       " '000 000 acts',\n",
       " '000 000 adherents',\n",
       " '000 000 afd',\n",
       " '000 000 afghans',\n",
       " '000 000 amnestied',\n",
       " '000 000 approximately',\n",
       " '000 000 arrests',\n",
       " '000 000 assess',\n",
       " '000 000 basarwa',\n",
       " '000 000 beja',\n",
       " '000 000 believed',\n",
       " '000 000 cfa',\n",
       " '000 000 chadians',\n",
       " '000 000 child',\n",
       " '000 000 children',\n",
       " '000 000 chinese',\n",
       " '000 000 citizens',\n",
       " '000 000 civilians',\n",
       " '000 000 combatants',\n",
       " '000 000 commercial',\n",
       " '000 000 community',\n",
       " '000 000 compensation',\n",
       " '000 000 convicted',\n",
       " '000 000 demonstrators',\n",
       " '000 000 designated',\n",
       " '000 000 df',\n",
       " '000 000 dinars',\n",
       " '000 000 dirhams',\n",
       " '000 000 eu',\n",
       " '000 000 european',\n",
       " '000 000 euros',\n",
       " '000 000 fdlr',\n",
       " '000 000 financial',\n",
       " '000 000 fine',\n",
       " '000 000 foreign',\n",
       " '000 000 formal',\n",
       " '000 000 government',\n",
       " '000 000 haitian',\n",
       " '000 000 idps',\n",
       " '000 000 imprisonment',\n",
       " '000 000 individual',\n",
       " '000 000 insurgents',\n",
       " '000 000 international',\n",
       " '000 000 islamists',\n",
       " '000 000 kd',\n",
       " '000 000 korunas',\n",
       " '000 000 kurds',\n",
       " '000 000 kwacha',\n",
       " '000 000 kzt',\n",
       " '000 000 large',\n",
       " '000 000 le',\n",
       " '000 000 lei',\n",
       " '000 000 leva',\n",
       " '000 000 lira',\n",
       " '000 000 live',\n",
       " '000 000 local',\n",
       " '000 000 male',\n",
       " '000 000 maximum',\n",
       " '000 000 member',\n",
       " '000 000 million',\n",
       " '000 000 ministry',\n",
       " '000 000 new',\n",
       " '000 000 nrs',\n",
       " '000 000 nt',\n",
       " '000 000 ouguiyas',\n",
       " '000 000 participants',\n",
       " '000 000 paying',\n",
       " '000 000 people',\n",
       " '000 000 permitting',\n",
       " '000 000 persons',\n",
       " '000 000 pesos',\n",
       " '000 000 pln',\n",
       " '000 000 political',\n",
       " '000 000 prison',\n",
       " '000 000 prostitutes',\n",
       " '000 000 quetzales',\n",
       " '000 000 quetzals',\n",
       " '000 000 recruits',\n",
       " '000 000 refugees',\n",
       " '000 000 remained',\n",
       " '000 000 ringgit',\n",
       " '000 000 rising',\n",
       " '000 000 riyals',\n",
       " '000 000 rm',\n",
       " '000 000 roma',\n",
       " '000 000 rupees',\n",
       " '000 000 rwandan',\n",
       " '000 000 sex',\n",
       " '000 000 skinhead',\n",
       " '000 000 skinheads',\n",
       " '000 000 soms',\n",
       " '000 000 students',\n",
       " '000 000 sympathizers',\n",
       " '000 000 tenge',\n",
       " '000 000 trafficking',\n",
       " '000 000 trips',\n",
       " '000 000 unaccompanied',\n",
       " '000 000 union',\n",
       " '000 000 unregistered',\n",
       " '000 000 victim',\n",
       " '000 000 villages',\n",
       " '000 000 workers',\n",
       " '000 000 year',\n",
       " '000 009',\n",
       " '000 009 863',\n",
       " '000 025',\n",
       " '000 025 000',\n",
       " '000 05',\n",
       " '000 05 million',\n",
       " '000 05 percent',\n",
       " '000 080',\n",
       " '000 080 000',\n",
       " '000 085',\n",
       " '000 085 municipalities',\n",
       " '000 10',\n",
       " '000 10 000',\n",
       " '000 10 400',\n",
       " '000 10 500',\n",
       " '000 10 billion',\n",
       " '000 10 million',\n",
       " '000 10 percent',\n",
       " '000 10 readers',\n",
       " '000 10 victims',\n",
       " '000 100',\n",
       " '000 100 000',\n",
       " '000 100 120',\n",
       " '000 100 80',\n",
       " '000 100 fine',\n",
       " '000 100 government',\n",
       " '000 100 million',\n",
       " '000 104',\n",
       " '000 104 166',\n",
       " '000 106',\n",
       " '000 106 100',\n",
       " '000 106 435',\n",
       " '000 109',\n",
       " '000 109 families',\n",
       " '000 11',\n",
       " '000 11 000',\n",
       " '000 11 235',\n",
       " '000 11 million',\n",
       " '000 110',\n",
       " '000 110 000',\n",
       " '000 110 200',\n",
       " '000 115',\n",
       " '000 115 000',\n",
       " '000 116',\n",
       " '000 116 000',\n",
       " '000 117',\n",
       " '000 117 million',\n",
       " '000 119',\n",
       " '000 119 000',\n",
       " '000 12',\n",
       " '000 12 000',\n",
       " '000 12 041',\n",
       " '000 12 500',\n",
       " '000 12 730',\n",
       " '000 12 billion',\n",
       " '000 12 million',\n",
       " '000 12 months',\n",
       " '000 12 percent',\n",
       " '000 12 years',\n",
       " '000 120',\n",
       " '000 120 000',\n",
       " '000 120 billion',\n",
       " '000 120 december',\n",
       " '000 125',\n",
       " '000 125 000',\n",
       " '000 125 holding',\n",
       " '000 125 july',\n",
       " '000 125 million',\n",
       " '000 125 october',\n",
       " '000 128',\n",
       " '000 128 268',\n",
       " '000 129',\n",
       " '000 129 punitive',\n",
       " '000 13',\n",
       " '000 13 000',\n",
       " '000 13 million',\n",
       " '000 13 percent',\n",
       " '000 130',\n",
       " '000 130 trafficking',\n",
       " '000 131',\n",
       " '000 131 million',\n",
       " '000 132',\n",
       " '000 132 000',\n",
       " '000 133',\n",
       " '000 133 000',\n",
       " '000 14',\n",
       " '000 14 000',\n",
       " '000 14 800',\n",
       " '000 14 million',\n",
       " '000 14 offenses',\n",
       " '000 14 percent',\n",
       " '000 14 unhcr',\n",
       " '000 140',\n",
       " '000 140 000',\n",
       " '000 146',\n",
       " '000 146 000',\n",
       " '000 147',\n",
       " '000 147 000',\n",
       " '000 147 058',\n",
       " '000 15',\n",
       " '000 15 000',\n",
       " '000 15 600',\n",
       " '000 15 million',\n",
       " '000 15 percent',\n",
       " '000 15 states',\n",
       " '000 150',\n",
       " '000 150 000',\n",
       " '000 150 failing',\n",
       " '000 150 million',\n",
       " '000 150 previously',\n",
       " '000 155',\n",
       " '000 155 million',\n",
       " '000 156',\n",
       " '000 156 000',\n",
       " '000 16',\n",
       " '000 16 000',\n",
       " '000 16 600',\n",
       " '000 16 billion',\n",
       " '000 16 million',\n",
       " '000 16 percent',\n",
       " '000 16 television',\n",
       " '000 160',\n",
       " '000 160 000',\n",
       " '000 160 fine',\n",
       " '000 160 million',\n",
       " '000 161',\n",
       " '000 161 25',\n",
       " '000 167',\n",
       " '000 167 million',\n",
       " '000 17',\n",
       " '000 17 000',\n",
       " '000 17 857',\n",
       " '000 17 additional',\n",
       " '000 17 billion',\n",
       " '000 17 million',\n",
       " '000 170',\n",
       " '000 170 000',\n",
       " '000 175',\n",
       " '000 175 000',\n",
       " '000 18',\n",
       " '000 18 000',\n",
       " '000 18 authorities',\n",
       " '000 18 million',\n",
       " '000 180',\n",
       " '000 180 000',\n",
       " '000 180 finkevich',\n",
       " '000 180 le',\n",
       " '000 185',\n",
       " '000 185 charges',\n",
       " '000 185 court',\n",
       " '000 19',\n",
       " '000 19 000',\n",
       " '000 19 million',\n",
       " '000 19 percent',\n",
       " '000 190',\n",
       " '000 190 000',\n",
       " '000 190 years',\n",
       " '000 1960',\n",
       " '000 1960 36',\n",
       " '000 1970s',\n",
       " '000 1970s 100',\n",
       " '000 1987',\n",
       " '000 1987 coups',\n",
       " '000 1990',\n",
       " '000 1990 citizenship',\n",
       " '000 1990s',\n",
       " '000 1990s 000',\n",
       " '000 1991',\n",
       " '000 1991 90',\n",
       " '000 1991 approximately',\n",
       " '000 1992',\n",
       " '000 1992 650',\n",
       " '000 1992 despite',\n",
       " '000 1993',\n",
       " '000 1993 government',\n",
       " '000 1993 guatemalans',\n",
       " '000 1993 stigma',\n",
       " '000 1994',\n",
       " '000 1994 sweden',\n",
       " '000 1996',\n",
       " '000 1996 000',\n",
       " '000 1996 according',\n",
       " '000 1996 approximately',\n",
       " '000 1996 refugees',\n",
       " '000 1996 sudanese',\n",
       " '000 1997',\n",
       " '000 1997 constitution',\n",
       " '000 1997 government',\n",
       " '000 1997 known',\n",
       " '000 1997 linked',\n",
       " '000 1997 womens',\n",
       " '000 1998',\n",
       " '000 1998 674',\n",
       " '000 1998 ability',\n",
       " '000 1998 government',\n",
       " '000 1998 male',\n",
       " '000 1998 ministry',\n",
       " '000 1998 partly',\n",
       " '000 1998 trafficking',\n",
       " '000 1998 wealth',\n",
       " '000 1999',\n",
       " '000 1999 1997',\n",
       " '000 1999 according',\n",
       " '000 1999 amnesty',\n",
       " '000 1999 average',\n",
       " '000 1999 crimean',\n",
       " '000 1999 imprisoned',\n",
       " '000 1999 improvement',\n",
       " '000 1999 labor',\n",
       " '000 1999 prohibition',\n",
       " '000 1999 unhcr',\n",
       " '000 20',\n",
       " '000 20 000',\n",
       " '000 20 million',\n",
       " '000 20 week',\n",
       " '000 20 years',\n",
       " '000 200',\n",
       " '000 200 000',\n",
       " '000 200 200',\n",
       " '000 200 300',\n",
       " '000 200 child',\n",
       " '000 200 ec',\n",
       " '000 200 francs',\n",
       " '000 200 kunas',\n",
       " '000 200 million',\n",
       " '000 200 nt',\n",
       " '000 200 prisoners',\n",
       " '000 2000',\n",
       " '000 2000 30',\n",
       " '000 2000 918',\n",
       " '000 2000 amnesty',\n",
       " '000 2000 approximately',\n",
       " '000 2000 august',\n",
       " '000 2000 children',\n",
       " '000 2000 country',\n",
       " '000 2000 death',\n",
       " '000 2000 estimated',\n",
       " '000 2000 exact',\n",
       " '000 2000 government',\n",
       " '000 2000 largely',\n",
       " '000 2000 year',\n",
       " '000 2001',\n",
       " '000 2001 387',\n",
       " '000 2001 approximately',\n",
       " '000 2001 children',\n",
       " '000 2001 constitution',\n",
       " '000 2001 fewer',\n",
       " '000 2001 governments',\n",
       " '000 2001 living',\n",
       " '000 2001 minister',\n",
       " '000 2001 organizations',\n",
       " '000 2001 partly',\n",
       " '000 2001 persons',\n",
       " '000 2001 precise',\n",
       " '000 2001 reports',\n",
       " '000 2001 unicef',\n",
       " '000 2001 working',\n",
       " '000 2002',\n",
       " '000 2002 13',\n",
       " '000 2002 2003',\n",
       " '000 2002 government',\n",
       " '000 2002 international',\n",
       " '000 2002 officials',\n",
       " '000 2002 repatriates',\n",
       " '000 2003',\n",
       " '000 2003 13',\n",
       " '000 2003 50',\n",
       " '000 2003 500',\n",
       " '000 2003 764',\n",
       " '000 2003 child',\n",
       " '000 2003 elections',\n",
       " '000 2003 ocha',\n",
       " '000 2003 parliamentary',\n",
       " '000 2003 prime',\n",
       " '000 2003 share',\n",
       " '000 2003 sumatra',\n",
       " '000 2003 various',\n",
       " '000 2003 year',\n",
       " '000 2004',\n",
       " '000 2004 compared',\n",
       " '000 2004 government',\n",
       " '000 2004 parliamentary',\n",
       " '000 2004 risen',\n",
       " '000 2004 teachers',\n",
       " '000 2004 trafficking',\n",
       " '000 2005',\n",
       " '000 2005 25',\n",
       " '000 2005 27',\n",
       " '000 2005 47',\n",
       " '000 2005 including',\n",
       " '000 2005 king',\n",
       " '000 2005 low',\n",
       " '000 2005 ministry',\n",
       " '000 2005 president',\n",
       " '000 2005 rapidly',\n",
       " '000 2005 section',\n",
       " '000 2005 state',\n",
       " '000 2005 stated',\n",
       " '000 2005 unofficial',\n",
       " '000 2006',\n",
       " '000 2006 2007',\n",
       " '000 2006 agencys',\n",
       " '000 2006 authorities',\n",
       " '000 2006 childrens',\n",
       " '000 2006 citizens',\n",
       " '000 2006 echr',\n",
       " '000 2006 governments',\n",
       " '000 2007',\n",
       " '000 2007 209',\n",
       " '000 2007 addition',\n",
       " '000 2007 indigenous',\n",
       " '000 2007 knchr',\n",
       " '000 2007 mainly',\n",
       " '000 2007 ngo',\n",
       " '000 2007 plea',\n",
       " '000 2007 voters',\n",
       " '000 2008',\n",
       " '000 2008 719',\n",
       " '000 2008 courts',\n",
       " '000 2008 enabling',\n",
       " '000 2008 government',\n",
       " '000 2008 indigenous',\n",
       " '000 2008 percentage',\n",
       " '000 2008 sbli',\n",
       " '000 2010',\n",
       " '000 2010 government',\n",
       " '000 202',\n",
       " '000 202 000',\n",
       " '000 21',\n",
       " '000 21 000',\n",
       " '000 21 million',\n",
       " '000 210',\n",
       " '000 210 000',\n",
       " '000 210 million',\n",
       " '000 216',\n",
       " '000 216 000',\n",
       " '000 217',\n",
       " '000 217 000',\n",
       " '000 218',\n",
       " '000 218 400',\n",
       " '000 219',\n",
       " '000 219 905',\n",
       " '000 22',\n",
       " '000 22 000',\n",
       " '000 22 million',\n",
       " '000 220',\n",
       " '000 220 000',\n",
       " '000 220 according',\n",
       " '000 220 ministry',\n",
       " '000 222',\n",
       " '000 222 000',\n",
       " '000 225',\n",
       " '000 225 libel',\n",
       " '000 225 libeling',\n",
       " '000 229',\n",
       " '000 229 000',\n",
       " '000 23',\n",
       " '000 23 000',\n",
       " '000 23 500',\n",
       " '000 23 800',\n",
       " '000 23 million',\n",
       " '000 23 victim',\n",
       " '000 230',\n",
       " '000 230 000',\n",
       " '000 230 million',\n",
       " '000 234',\n",
       " '000 234 000',\n",
       " '000 24',\n",
       " '000 24 000',\n",
       " '000 240',\n",
       " '000 240 000',\n",
       " '000 240 million',\n",
       " '000 245',\n",
       " '000 245 000',\n",
       " '000 246',\n",
       " '000 246 000',\n",
       " '000 248',\n",
       " '000 248 000',\n",
       " '000 25',\n",
       " '000 25 000',\n",
       " '000 25 billion',\n",
       " '000 25 million',\n",
       " '000 25 organizing',\n",
       " '000 250',\n",
       " '000 250 000',\n",
       " '000 250 1000',\n",
       " '000 250 allegedly',\n",
       " '000 250 april',\n",
       " '000 250 byr',\n",
       " '000 250 million',\n",
       " '000 250 participating',\n",
       " '000 250 praying',\n",
       " '000 250 september',\n",
       " '000 250 staging',\n",
       " '000 258',\n",
       " '000 258 punitive',\n",
       " '000 26',\n",
       " '000 26 000',\n",
       " '000 26 million',\n",
       " '000 260',\n",
       " '000 260 000',\n",
       " '000 260 million',\n",
       " '000 260 month',\n",
       " '000 262',\n",
       " '000 262 000',\n",
       " '000 263',\n",
       " '000 263 46',\n",
       " '000 27',\n",
       " '000 27 000',\n",
       " '000 27 million',\n",
       " '000 270',\n",
       " '000 270 000',\n",
       " '000 275',\n",
       " '000 275 allegedly',\n",
       " '000 278',\n",
       " '000 278 million',\n",
       " '000 28',\n",
       " '000 28 000',\n",
       " '000 28 properties',\n",
       " '000 280',\n",
       " '000 280 000',\n",
       " '000 280 billion',\n",
       " '000 283',\n",
       " '000 283 000',\n",
       " '000 288',\n",
       " '000 288 000',\n",
       " '000 29',\n",
       " '000 29 million',\n",
       " '000 290',\n",
       " '000 290 000',\n",
       " '000 295',\n",
       " '000 295 237',\n",
       " '000 30',\n",
       " '000 30 000',\n",
       " '000 30 million',\n",
       " '000 30 percent',\n",
       " '000 30 thousand',\n",
       " '000 300',\n",
       " '000 300 000',\n",
       " '000 300 14',\n",
       " '000 300 400',\n",
       " '000 300 650',\n",
       " '000 300 children',\n",
       " '000 300 million',\n",
       " '000 300 month',\n",
       " '000 300 percent',\n",
       " '000 300 syarhei',\n",
       " '000 305',\n",
       " '000 305 similar',\n",
       " '000 31',\n",
       " '000 31 000',\n",
       " '000 31 million',\n",
       " '000 315',\n",
       " '000 315 000',\n",
       " '000 317',\n",
       " '000 317 000',\n",
       " '000 32',\n",
       " '000 32 000',\n",
       " '000 32 million',\n",
       " '000 320',\n",
       " '000 320 000',\n",
       " '000 322',\n",
       " '000 322 million',\n",
       " '000 33',\n",
       " '000 33 000',\n",
       " '000 33 million',\n",
       " '000 330',\n",
       " '000 330 000',\n",
       " '000 330 million',\n",
       " '000 330 months',\n",
       " '000 336',\n",
       " '000 336 000',\n",
       " '000 338',\n",
       " '000 338 persons',\n",
       " '000 34',\n",
       " '000 34 000',\n",
       " '000 34 240',\n",
       " '000 347',\n",
       " '000 347 000',\n",
       " '000 347 301',\n",
       " '000 35',\n",
       " '000 35 000',\n",
       " '000 35 714',\n",
       " '000 35 million',\n",
       " '000 35 participating',\n",
       " '000 350',\n",
       " '000 350 000',\n",
       " '000 36',\n",
       " '000 36 000',\n",
       " '000 36 percent',\n",
       " '000 36 provincial',\n",
       " '000 360',\n",
       " '000 360 000',\n",
       " '000 360 december',\n",
       " '000 360 euros',\n",
       " '000 37',\n",
       " '000 37 000',\n",
       " '000 37 million',\n",
       " '000 370',\n",
       " '000 370 000',\n",
       " '000 370 040',\n",
       " '000 370 respectively',\n",
       " '000 372',\n",
       " '000 372 000',\n",
       " '000 375',\n",
       " '000 375 fine',\n",
       " '000 38',\n",
       " '000 38 percent',\n",
       " '000 382',\n",
       " '000 382 500',\n",
       " '000 39',\n",
       " '000 39 000',\n",
       " '000 39 million',\n",
       " '000 396',\n",
       " '000 396 000',\n",
       " '000 397',\n",
       " '000 397 imposed',\n",
       " '000 40',\n",
       " '000 40 000',\n",
       " '000 40 million',\n",
       " '000 400',\n",
       " '000 400 000',\n",
       " '000 400 euros',\n",
       " '000 400 reais',\n",
       " '000 405',\n",
       " '000 405 000',\n",
       " '000 410',\n",
       " '000 410 000',\n",
       " '000 415',\n",
       " '000 415 000',\n",
       " '000 419',\n",
       " '000 419 punitive',\n",
       " '000 42',\n",
       " '000 42 000',\n",
       " '000 420',\n",
       " '000 420 000',\n",
       " '000 422',\n",
       " '000 422 000',\n",
       " '000 43',\n",
       " '000 43 000',\n",
       " '000 43 million',\n",
       " '000 430',\n",
       " '000 430 000',\n",
       " '000 435',\n",
       " '000 435 000',\n",
       " '000 435 respectively',\n",
       " '000 44',\n",
       " '000 44 million',\n",
       " '000 448',\n",
       " '000 448 guilders',\n",
       " '000 45',\n",
       " '000 45 000',\n",
       " '000 45 million',\n",
       " '000 45 percent',\n",
       " '000 450',\n",
       " '000 450 000',\n",
       " '000 450 200',\n",
       " '000 451',\n",
       " '000 451 1202',\n",
       " '000 452',\n",
       " '000 452 800',\n",
       " '000 457',\n",
       " '000 457 000',\n",
       " '000 462',\n",
       " '000 462 pounds',\n",
       " '000 465',\n",
       " '000 465 000',\n",
       " '000 47',\n",
       " '000 47 320',\n",
       " '000 479',\n",
       " '000 479 million',\n",
       " '000 48',\n",
       " '000 48 million',\n",
       " '000 480',\n",
       " '000 480 000',\n",
       " '000 49',\n",
       " '000 49 000',\n",
       " '000 49 million',\n",
       " '000 50',\n",
       " '000 50 000',\n",
       " '000 50 12',\n",
       " '000 50 million',\n",
       " '000 50 month',\n",
       " '000 50 thousand',\n",
       " '000 500',\n",
       " '000 500 00',\n",
       " '000 500 000',\n",
       " '000 500 100',\n",
       " '000 500 15',\n",
       " '000 500 2005',\n",
       " '000 500 50',\n",
       " '000 500 500',\n",
       " '000 500 75',\n",
       " ...]"
      ]
     },
     "execution_count": 106,
     "metadata": {},
     "output_type": "execute_result"
    }
   ],
   "source": [
    "feature_names"
   ]
  },
  {
   "cell_type": "code",
   "execution_count": 1296,
   "metadata": {},
   "outputs": [],
   "source": [
    "vec= CountVectorizer(strip_accents= 'unicode', stop_words='english',ngram_range=(1,3))\n",
    "tf_idf = TfidfTransformer()\n",
    "clf = SGDClassifier(class_weight = 'balanced', loss='hinge', penalty='l2', random_state=42, max_iter=30, tol=None) #alpha=1e-3,\n",
    "\n",
    "vectorised = vec.fit_transform(data)\n",
    "vectorised = tf_idf.fit_transform(vectorised)\n",
    "\n",
    "\n",
    "\n"
   ]
  },
  {
   "cell_type": "code",
   "execution_count": null,
   "metadata": {},
   "outputs": [],
   "source": []
  },
  {
   "cell_type": "code",
   "execution_count": 1298,
   "metadata": {},
   "outputs": [
    {
     "name": "stderr",
     "output_type": "stream",
     "text": [
      "/Users/garethwalker/anaconda3/envs/DataChallenge/lib/python3.7/site-packages/sklearn/linear_model/stochastic_gradient.py:183: FutureWarning: max_iter and tol parameters have been added in SGDClassifier in 0.19. If max_iter is set but tol is left unset, the default value for tol in 0.19 and 0.20 will be None (which is equivalent to -infinity, so it has no effect) but will change in 0.21 to 1e-3. Specify tol to silence this warning.\n",
      "  FutureWarning)\n"
     ]
    },
    {
     "data": {
      "text/plain": [
       "SGDClassifier(alpha=0.0001, average=False, class_weight='balanced',\n",
       "       early_stopping=False, epsilon=0.1, eta0=0.0, fit_intercept=True,\n",
       "       l1_ratio=0.15, learning_rate='optimal', loss='hinge', max_iter=30,\n",
       "       n_iter=None, n_iter_no_change=5, n_jobs=None, penalty='l2',\n",
       "       power_t=0.5, random_state=42, shuffle=True, tol=None,\n",
       "       validation_fraction=0.1, verbose=0, warm_start=False)"
      ]
     },
     "execution_count": 1298,
     "metadata": {},
     "output_type": "execute_result"
    }
   ],
   "source": [
    "clf.fit(vectorised, y_train)"
   ]
  },
  {
   "cell_type": "code",
   "execution_count": 1299,
   "metadata": {},
   "outputs": [
    {
     "name": "stdout",
     "output_type": "stream",
     "text": [
      "Top Positive Coefficients: [ 151520 3228550  329877 3440825  954052 3801351 3221075 5267796 3045455\n",
      " 3882646  375067 2134383 5947799 5679728  644465  482156 3539475 4359206\n",
      " 3498458 2492512]\n",
      "Top Negative Coefficients: [ 115801 1408501 5144408 2459565 5804657  475164 2290375 4121948 4440221\n",
      " 4654515 2254818 5098776 3035341 5161123 3283574 5147943 2877590 3679120\n",
      " 4318776 4129320]\n",
      "Feature Names: ['00' '00 00' '00 00 authorities' ... 'zziwa' 'zziwa arrested'\n",
      " 'zziwa arrested held']\n"
     ]
    },
    {
     "data": {
      "image/png": "[encoded data removed]",
      "text/plain": [
       "<Figure size 1080x360 with 1 Axes>"
      ]
     },
     "metadata": {},
     "output_type": "display_data"
    }
   ],
   "source": [
    "plot_coefficients(clf, vec.get_feature_names(top_features=20))"
   ]
  },
  {
   "cell_type": "markdown",
   "metadata": {},
   "source": [
    "looks like location based data is playing too much of a role in analysis"
   ]
  },
  {
   "cell_type": "markdown",
   "metadata": {},
   "source": [
    "# attempt to remove location variables from corpus"
   ]
  },
  {
   "cell_type": "code",
   "execution_count": 30,
   "metadata": {},
   "outputs": [
    {
     "name": "stdout",
     "output_type": "stream",
     "text": [
      "   Extracting Data\n",
      "Cleaning text\n",
      "Removing named entities from150 Documents\n",
      " Analysing document  151"
     ]
    }
   ],
   "source": []
  },
  {
   "cell_type": "code",
   "execution_count": 52,
   "metadata": {},
   "outputs": [
    {
     "name": "stdout",
     "output_type": "stream",
     "text": [
      "   Extracting Data\n",
      "      Removing named entities from1044 Documents\n",
      " Analysing document  1045      Cleaning text\n",
      "Fitting model\n",
      "Predicting\n",
      "   Accuracy: 0.7993630573248408\n",
      "Identifying keywords\n"
     ]
    },
    {
     "data": {
      "image/png": "[encoded data removed]",
      "text/plain": [
       "<Figure size 1080x360 with 1 Axes>"
      ]
     },
     "metadata": {
      "needs_background": "light"
     },
     "output_type": "display_data"
    }
   ],
   "source": [
    "\n",
    "import matplotlib.pyplot as plt\n",
    "from sklearn.pipeline import Pipeline\n",
    "from sklearn.feature_extraction.text import TfidfTransformer\n",
    "from sklearn.feature_extraction.text import CountVectorizer\n",
    "from sklearn.linear_model import SGDClassifier\n",
    "\n",
    "sgd = Pipeline([('vect', CountVectorizer(strip_accents= 'unicode', stop_words='english',ngram_range=(1,3))),\n",
    "                ('tfidf', TfidfTransformer()),\n",
    "                ('clf', SGDClassifier(class_weight = 'balanced', loss='hinge', penalty='l2', random_state=42, max_iter=30, tol=None)), #alpha=1e-3,\n",
    "               ])\n",
    "\n",
    "X_train, X_test, y_train, y_test= get_data('POLPRIS',2000,2005)\n",
    "\n",
    "print('Fitting model')\n",
    "sgd.fit(X_train, y_train)\n",
    "\n",
    "print('Predicting')\n",
    "y_pred = sgd.predict(X_test)\n",
    "\n",
    "\n",
    "print('   Accuracy: %s' % accuracy_score(y_pred, y_test))\n",
    "\n",
    "print('Identifying keywords')\n",
    "plot_coefficients(clf, vec.get_feature_names())\n",
    "\n",
    "\n",
    "\n"
   ]
  },
  {
   "cell_type": "code",
   "execution_count": 41,
   "metadata": {},
   "outputs": [],
   "source": [
    "#y_pred = clf.predict(X_test)'\n"
   ]
  },
  {
   "cell_type": "code",
   "execution_count": 65,
   "metadata": {},
   "outputs": [
    {
     "data": {
      "image/png": "[encoded data removed]",
      "text/plain": [
       "<Figure size 1080x360 with 1 Axes>"
      ]
     },
     "metadata": {
      "needs_background": "light"
     },
     "output_type": "display_data"
    }
   ],
   "source": [
    "plot_coefficients(clf, vec.get_feature_names(),top_features=40)"
   ]
  },
  {
   "cell_type": "code",
   "execution_count": 76,
   "metadata": {},
   "outputs": [
    {
     "data": {
      "text/plain": [
       "array([1999, 2000, 2001, 2002, 2003, 2004, 2005, 2006, 2007, 2008, 2009])"
      ]
     },
     "execution_count": 76,
     "metadata": {},
     "output_type": "execute_result"
    }
   ],
   "source": [
    "data_df['Year'].unique()"
   ]
  },
  {
   "cell_type": "code",
   "execution_count": 1334,
   "metadata": {},
   "outputs": [],
   "source": []
  },
  {
   "cell_type": "code",
   "execution_count": 1360,
   "metadata": {},
   "outputs": [],
   "source": [
    "\n"
   ]
  },
  {
   "cell_type": "code",
   "execution_count": null,
   "metadata": {},
   "outputs": [],
   "source": []
  },
  {
   "cell_type": "code",
   "execution_count": null,
   "metadata": {},
   "outputs": [],
   "source": []
  },
  {
   "cell_type": "code",
   "execution_count": null,
   "metadata": {},
   "outputs": [],
   "source": []
  }
 ],
 "metadata": {
  "kernelspec": {
   "display_name": "Python 3",
   "language": "python",
   "name": "python3"
  },
  "language_info": {
   "codemirror_mode": {
    "name": "ipython",
    "version": 3
   },
   "file_extension": ".py",
   "mimetype": "text/x-python",
   "name": "python",
   "nbconvert_exporter": "python",
   "pygments_lexer": "ipython3",
   "version": "3.6.8"
  }
 },
 "nbformat": 4,
 "nbformat_minor": 2
}
