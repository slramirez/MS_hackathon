{
 "cells": [
  {
   "cell_type": "code",
   "execution_count": 2,
   "metadata": {},
   "outputs": [],
   "source": [
    "import pandas as pd\n",
    "import numpy as np"
   ]
  },
  {
   "cell_type": "code",
   "execution_count": 8,
   "metadata": {},
   "outputs": [],
   "source": [
    "\n",
    "codes = pd.read_csv('UNCTRY_CODES.csv')\n",
    "codes = codes[['CTRY','UNCTRY']]\n",
    "data_folder = '../data/GapMinder_Raw_CSVs/'\n",
    "\n",
    "def clean_table(file,variable,start,end):\n",
    "    \n",
    "    df= pd.read_csv(data_folder+file)\n",
    "    \n",
    "    select_cols = list(map(str, np.arange(start,end,1).tolist()))\n",
    "    select_cols.insert(0, \"country\")\n",
    "    \n",
    "    df=df[select_cols]\n",
    "    \n",
    "    df = pd.melt(df, id_vars=[\"country\"],var_name=\"Date\", value_name=variable)\n",
    "    \n",
    "    df.sort_values(by=['country','Date'])\n",
    "\n",
    "    df = df.merge(codes, left_on='country', right_on='CTRY')\n",
    "    df = df.drop(\"CTRY\", axis=1)\n",
    "    print (variable+' :')\n",
    "    print ('Unique countries: ' + str(df.country.nunique()))\n",
    "    print ('Unique country codes: ' + str(df.UNCTRY.nunique()))\n",
    "    print ('Null Values: ' + str(df.isnull().sum().sum()))\n",
    "    print('\\n')\n",
    "    return df"
   ]
  },
  {
   "cell_type": "code",
   "execution_count": 9,
   "metadata": {},
   "outputs": [
    {
     "ename": "FileNotFoundError",
     "evalue": "[Errno 2] File b'.../data/GapMinder_Raw_CSVs/population_total.csv' does not exist: b'.../data/GapMinder_Raw_CSVs/population_total.csv'",
     "output_type": "error",
     "traceback": [
      "\u001b[0;31m---------------------------------------------------------------------------\u001b[0m",
      "\u001b[0;31mFileNotFoundError\u001b[0m                         Traceback (most recent call last)",
      "\u001b[0;32m<ipython-input-9-e51f926fa42c>\u001b[0m in \u001b[0;36m<module>\u001b[0;34m\u001b[0m\n\u001b[1;32m      5\u001b[0m \u001b[0;34m\u001b[0m\u001b[0m\n\u001b[1;32m      6\u001b[0m \u001b[0;31m# Mid year population\u001b[0m\u001b[0;34m\u001b[0m\u001b[0;34m\u001b[0m\u001b[0;34m\u001b[0m\u001b[0m\n\u001b[0;32m----> 7\u001b[0;31m \u001b[0mpopulation\u001b[0m \u001b[0;34m=\u001b[0m \u001b[0mclean_table\u001b[0m\u001b[0;34m(\u001b[0m\u001b[0;34m'population_total.csv'\u001b[0m\u001b[0;34m,\u001b[0m\u001b[0;34m'POPULATION'\u001b[0m\u001b[0;34m,\u001b[0m\u001b[0mstart\u001b[0m\u001b[0;34m,\u001b[0m\u001b[0mend\u001b[0m\u001b[0;34m)\u001b[0m\u001b[0;34m\u001b[0m\u001b[0;34m\u001b[0m\u001b[0m\n\u001b[0m\u001b[1;32m      8\u001b[0m \u001b[0;34m\u001b[0m\u001b[0m\n\u001b[1;32m      9\u001b[0m \u001b[0;31m# Crude birth rate per 1000 per year\u001b[0m\u001b[0;34m\u001b[0m\u001b[0;34m\u001b[0m\u001b[0;34m\u001b[0m\u001b[0m\n",
      "\u001b[0;32m<ipython-input-8-0d011e5574c4>\u001b[0m in \u001b[0;36mclean_table\u001b[0;34m(file, variable, start, end)\u001b[0m\n\u001b[1;32m      6\u001b[0m \u001b[0;32mdef\u001b[0m \u001b[0mclean_table\u001b[0m\u001b[0;34m(\u001b[0m\u001b[0mfile\u001b[0m\u001b[0;34m,\u001b[0m\u001b[0mvariable\u001b[0m\u001b[0;34m,\u001b[0m\u001b[0mstart\u001b[0m\u001b[0;34m,\u001b[0m\u001b[0mend\u001b[0m\u001b[0;34m)\u001b[0m\u001b[0;34m:\u001b[0m\u001b[0;34m\u001b[0m\u001b[0;34m\u001b[0m\u001b[0m\n\u001b[1;32m      7\u001b[0m \u001b[0;34m\u001b[0m\u001b[0m\n\u001b[0;32m----> 8\u001b[0;31m     \u001b[0mdf\u001b[0m\u001b[0;34m=\u001b[0m \u001b[0mpd\u001b[0m\u001b[0;34m.\u001b[0m\u001b[0mread_csv\u001b[0m\u001b[0;34m(\u001b[0m\u001b[0mdata_folder\u001b[0m\u001b[0;34m+\u001b[0m\u001b[0mfile\u001b[0m\u001b[0;34m)\u001b[0m\u001b[0;34m\u001b[0m\u001b[0;34m\u001b[0m\u001b[0m\n\u001b[0m\u001b[1;32m      9\u001b[0m \u001b[0;34m\u001b[0m\u001b[0m\n\u001b[1;32m     10\u001b[0m     \u001b[0mselect_cols\u001b[0m \u001b[0;34m=\u001b[0m \u001b[0mlist\u001b[0m\u001b[0;34m(\u001b[0m\u001b[0mmap\u001b[0m\u001b[0;34m(\u001b[0m\u001b[0mstr\u001b[0m\u001b[0;34m,\u001b[0m \u001b[0mnp\u001b[0m\u001b[0;34m.\u001b[0m\u001b[0marange\u001b[0m\u001b[0;34m(\u001b[0m\u001b[0mstart\u001b[0m\u001b[0;34m,\u001b[0m\u001b[0mend\u001b[0m\u001b[0;34m,\u001b[0m\u001b[0;36m1\u001b[0m\u001b[0;34m)\u001b[0m\u001b[0;34m.\u001b[0m\u001b[0mtolist\u001b[0m\u001b[0;34m(\u001b[0m\u001b[0;34m)\u001b[0m\u001b[0;34m)\u001b[0m\u001b[0;34m)\u001b[0m\u001b[0;34m\u001b[0m\u001b[0;34m\u001b[0m\u001b[0m\n",
      "\u001b[0;32m~/anaconda3/envs/DataChallenge/lib/python3.7/site-packages/pandas/io/parsers.py\u001b[0m in \u001b[0;36mparser_f\u001b[0;34m(filepath_or_buffer, sep, delimiter, header, names, index_col, usecols, squeeze, prefix, mangle_dupe_cols, dtype, engine, converters, true_values, false_values, skipinitialspace, skiprows, skipfooter, nrows, na_values, keep_default_na, na_filter, verbose, skip_blank_lines, parse_dates, infer_datetime_format, keep_date_col, date_parser, dayfirst, iterator, chunksize, compression, thousands, decimal, lineterminator, quotechar, quoting, doublequote, escapechar, comment, encoding, dialect, tupleize_cols, error_bad_lines, warn_bad_lines, delim_whitespace, low_memory, memory_map, float_precision)\u001b[0m\n\u001b[1;32m    700\u001b[0m                     skip_blank_lines=skip_blank_lines)\n\u001b[1;32m    701\u001b[0m \u001b[0;34m\u001b[0m\u001b[0m\n\u001b[0;32m--> 702\u001b[0;31m         \u001b[0;32mreturn\u001b[0m \u001b[0m_read\u001b[0m\u001b[0;34m(\u001b[0m\u001b[0mfilepath_or_buffer\u001b[0m\u001b[0;34m,\u001b[0m \u001b[0mkwds\u001b[0m\u001b[0;34m)\u001b[0m\u001b[0;34m\u001b[0m\u001b[0;34m\u001b[0m\u001b[0m\n\u001b[0m\u001b[1;32m    703\u001b[0m \u001b[0;34m\u001b[0m\u001b[0m\n\u001b[1;32m    704\u001b[0m     \u001b[0mparser_f\u001b[0m\u001b[0;34m.\u001b[0m\u001b[0m__name__\u001b[0m \u001b[0;34m=\u001b[0m \u001b[0mname\u001b[0m\u001b[0;34m\u001b[0m\u001b[0;34m\u001b[0m\u001b[0m\n",
      "\u001b[0;32m~/anaconda3/envs/DataChallenge/lib/python3.7/site-packages/pandas/io/parsers.py\u001b[0m in \u001b[0;36m_read\u001b[0;34m(filepath_or_buffer, kwds)\u001b[0m\n\u001b[1;32m    427\u001b[0m \u001b[0;34m\u001b[0m\u001b[0m\n\u001b[1;32m    428\u001b[0m     \u001b[0;31m# Create the parser.\u001b[0m\u001b[0;34m\u001b[0m\u001b[0;34m\u001b[0m\u001b[0;34m\u001b[0m\u001b[0m\n\u001b[0;32m--> 429\u001b[0;31m     \u001b[0mparser\u001b[0m \u001b[0;34m=\u001b[0m \u001b[0mTextFileReader\u001b[0m\u001b[0;34m(\u001b[0m\u001b[0mfilepath_or_buffer\u001b[0m\u001b[0;34m,\u001b[0m \u001b[0;34m**\u001b[0m\u001b[0mkwds\u001b[0m\u001b[0;34m)\u001b[0m\u001b[0;34m\u001b[0m\u001b[0;34m\u001b[0m\u001b[0m\n\u001b[0m\u001b[1;32m    430\u001b[0m \u001b[0;34m\u001b[0m\u001b[0m\n\u001b[1;32m    431\u001b[0m     \u001b[0;32mif\u001b[0m \u001b[0mchunksize\u001b[0m \u001b[0;32mor\u001b[0m \u001b[0miterator\u001b[0m\u001b[0;34m:\u001b[0m\u001b[0;34m\u001b[0m\u001b[0;34m\u001b[0m\u001b[0m\n",
      "\u001b[0;32m~/anaconda3/envs/DataChallenge/lib/python3.7/site-packages/pandas/io/parsers.py\u001b[0m in \u001b[0;36m__init__\u001b[0;34m(self, f, engine, **kwds)\u001b[0m\n\u001b[1;32m    893\u001b[0m             \u001b[0mself\u001b[0m\u001b[0;34m.\u001b[0m\u001b[0moptions\u001b[0m\u001b[0;34m[\u001b[0m\u001b[0;34m'has_index_names'\u001b[0m\u001b[0;34m]\u001b[0m \u001b[0;34m=\u001b[0m \u001b[0mkwds\u001b[0m\u001b[0;34m[\u001b[0m\u001b[0;34m'has_index_names'\u001b[0m\u001b[0;34m]\u001b[0m\u001b[0;34m\u001b[0m\u001b[0;34m\u001b[0m\u001b[0m\n\u001b[1;32m    894\u001b[0m \u001b[0;34m\u001b[0m\u001b[0m\n\u001b[0;32m--> 895\u001b[0;31m         \u001b[0mself\u001b[0m\u001b[0;34m.\u001b[0m\u001b[0m_make_engine\u001b[0m\u001b[0;34m(\u001b[0m\u001b[0mself\u001b[0m\u001b[0;34m.\u001b[0m\u001b[0mengine\u001b[0m\u001b[0;34m)\u001b[0m\u001b[0;34m\u001b[0m\u001b[0;34m\u001b[0m\u001b[0m\n\u001b[0m\u001b[1;32m    896\u001b[0m \u001b[0;34m\u001b[0m\u001b[0m\n\u001b[1;32m    897\u001b[0m     \u001b[0;32mdef\u001b[0m \u001b[0mclose\u001b[0m\u001b[0;34m(\u001b[0m\u001b[0mself\u001b[0m\u001b[0;34m)\u001b[0m\u001b[0;34m:\u001b[0m\u001b[0;34m\u001b[0m\u001b[0;34m\u001b[0m\u001b[0m\n",
      "\u001b[0;32m~/anaconda3/envs/DataChallenge/lib/python3.7/site-packages/pandas/io/parsers.py\u001b[0m in \u001b[0;36m_make_engine\u001b[0;34m(self, engine)\u001b[0m\n\u001b[1;32m   1120\u001b[0m     \u001b[0;32mdef\u001b[0m \u001b[0m_make_engine\u001b[0m\u001b[0;34m(\u001b[0m\u001b[0mself\u001b[0m\u001b[0;34m,\u001b[0m \u001b[0mengine\u001b[0m\u001b[0;34m=\u001b[0m\u001b[0;34m'c'\u001b[0m\u001b[0;34m)\u001b[0m\u001b[0;34m:\u001b[0m\u001b[0;34m\u001b[0m\u001b[0;34m\u001b[0m\u001b[0m\n\u001b[1;32m   1121\u001b[0m         \u001b[0;32mif\u001b[0m \u001b[0mengine\u001b[0m \u001b[0;34m==\u001b[0m \u001b[0;34m'c'\u001b[0m\u001b[0;34m:\u001b[0m\u001b[0;34m\u001b[0m\u001b[0;34m\u001b[0m\u001b[0m\n\u001b[0;32m-> 1122\u001b[0;31m             \u001b[0mself\u001b[0m\u001b[0;34m.\u001b[0m\u001b[0m_engine\u001b[0m \u001b[0;34m=\u001b[0m \u001b[0mCParserWrapper\u001b[0m\u001b[0;34m(\u001b[0m\u001b[0mself\u001b[0m\u001b[0;34m.\u001b[0m\u001b[0mf\u001b[0m\u001b[0;34m,\u001b[0m \u001b[0;34m**\u001b[0m\u001b[0mself\u001b[0m\u001b[0;34m.\u001b[0m\u001b[0moptions\u001b[0m\u001b[0;34m)\u001b[0m\u001b[0;34m\u001b[0m\u001b[0;34m\u001b[0m\u001b[0m\n\u001b[0m\u001b[1;32m   1123\u001b[0m         \u001b[0;32melse\u001b[0m\u001b[0;34m:\u001b[0m\u001b[0;34m\u001b[0m\u001b[0;34m\u001b[0m\u001b[0m\n\u001b[1;32m   1124\u001b[0m             \u001b[0;32mif\u001b[0m \u001b[0mengine\u001b[0m \u001b[0;34m==\u001b[0m \u001b[0;34m'python'\u001b[0m\u001b[0;34m:\u001b[0m\u001b[0;34m\u001b[0m\u001b[0;34m\u001b[0m\u001b[0m\n",
      "\u001b[0;32m~/anaconda3/envs/DataChallenge/lib/python3.7/site-packages/pandas/io/parsers.py\u001b[0m in \u001b[0;36m__init__\u001b[0;34m(self, src, **kwds)\u001b[0m\n\u001b[1;32m   1851\u001b[0m         \u001b[0mkwds\u001b[0m\u001b[0;34m[\u001b[0m\u001b[0;34m'usecols'\u001b[0m\u001b[0;34m]\u001b[0m \u001b[0;34m=\u001b[0m \u001b[0mself\u001b[0m\u001b[0;34m.\u001b[0m\u001b[0musecols\u001b[0m\u001b[0;34m\u001b[0m\u001b[0;34m\u001b[0m\u001b[0m\n\u001b[1;32m   1852\u001b[0m \u001b[0;34m\u001b[0m\u001b[0m\n\u001b[0;32m-> 1853\u001b[0;31m         \u001b[0mself\u001b[0m\u001b[0;34m.\u001b[0m\u001b[0m_reader\u001b[0m \u001b[0;34m=\u001b[0m \u001b[0mparsers\u001b[0m\u001b[0;34m.\u001b[0m\u001b[0mTextReader\u001b[0m\u001b[0;34m(\u001b[0m\u001b[0msrc\u001b[0m\u001b[0;34m,\u001b[0m \u001b[0;34m**\u001b[0m\u001b[0mkwds\u001b[0m\u001b[0;34m)\u001b[0m\u001b[0;34m\u001b[0m\u001b[0;34m\u001b[0m\u001b[0m\n\u001b[0m\u001b[1;32m   1854\u001b[0m         \u001b[0mself\u001b[0m\u001b[0;34m.\u001b[0m\u001b[0munnamed_cols\u001b[0m \u001b[0;34m=\u001b[0m \u001b[0mself\u001b[0m\u001b[0;34m.\u001b[0m\u001b[0m_reader\u001b[0m\u001b[0;34m.\u001b[0m\u001b[0munnamed_cols\u001b[0m\u001b[0;34m\u001b[0m\u001b[0;34m\u001b[0m\u001b[0m\n\u001b[1;32m   1855\u001b[0m \u001b[0;34m\u001b[0m\u001b[0m\n",
      "\u001b[0;32mpandas/_libs/parsers.pyx\u001b[0m in \u001b[0;36mpandas._libs.parsers.TextReader.__cinit__\u001b[0;34m()\u001b[0m\n",
      "\u001b[0;32mpandas/_libs/parsers.pyx\u001b[0m in \u001b[0;36mpandas._libs.parsers.TextReader._setup_parser_source\u001b[0;34m()\u001b[0m\n",
      "\u001b[0;31mFileNotFoundError\u001b[0m: [Errno 2] File b'.../data/GapMinder_Raw_CSVs/population_total.csv' does not exist: b'.../data/GapMinder_Raw_CSVs/population_total.csv'"
     ]
    }
   ],
   "source": [
    "start = 1980\n",
    "end = 2018\n",
    "\n",
    "#Demographic\n",
    "\n",
    "# Mid year population\n",
    "population = clean_table('population_total.csv','POPULATION',start,end)\n",
    "\n",
    "# Crude birth rate per 1000 per year\n",
    "pop_growth = clean_table('crude_birth_rate_births_per_1000_population.csv','ANNUAL_BIRTH_RATE_PER_1000',start,2016)\n",
    "\n",
    "#Life Expectency Years\n",
    "life_exp = clean_table('life_expectancy_years.csv','LIFE_EXP_YEARS',start,end)\n",
    "\n",
    "#Life Expectency Years: Female\n",
    "life_exp_f = clean_table ('life_expectancy_female.csv','LIFE_EXP_YEARS_F',start,end)\n",
    "\n",
    "#Life Expectency Year: Male\n",
    "life_exp_m = clean_table('life_expectancy_male.csv','LIFE_EXP_YEARS_M',start,end)\n",
    "\n",
    "#Infant mortality: https://www.gapminder.org/data/documentation/gd005/\n",
    "inf_mort = clean_table('child_mortality_0_5_year_olds_dying_per_1000_born.csv','CHILD MORTALITY',start,end)\n",
    "\n",
    "\n",
    "\n",
    "#Economic\n",
    "# Total GDP: Inflation adjusted, indexed to 2010\n",
    "total_gdp = clean_table('total_gdp_us_inflation_adjusted.csv','GDP_USD',start,end)\n",
    "\n",
    "# Inflation: Annual %\n",
    "inflation = clean_table('inflation_annual_percent.csv','INFLATION_PERCENT',start, end)\n",
    "\n",
    "# % Employment for 15+ years:\n",
    "employment = clean_table('aged_15plus_employment_rate_percent.csv','EMPLOYMENT',1991,end)\n",
    "\n",
    "# GINI inequality\n",
    "gini = clean_table('inequality_index_gini.csv','GINI',start,end)\n",
    "\n",
    "# Aid recieved per person (USD indexed to 'current year', assumed to be 2017): https://data.worldbank.org/indicator/DT.ODA.ODAT.PC.ZS\n",
    "aid_received = clean_table('aid_received_per_person_current_us.csv',\"AID_RECEIVED_PP\",start,2017)\n",
    "\n",
    "\n",
    "\n",
    "\n",
    "\n",
    "#Education\n",
    "#ratio of boys v girls in primary and secondary education: https://data.worldbank.org/indicator/SE.ENR.PRSC.FM.ZS\n",
    "gender_eq_edd = clean_table('ratio_of_girls_to_boys_in_primary_and_secondary_education_perc.csv','GIRLS_V_BOYS_EDU',start,end)\n",
    "\n",
    "#Literacy rate: % adults aged 15 and above\n",
    "adult_lit_rate = clean_table('literacy_rate_adult_total_percent_of_people_ages_15_and_above.csv','ADULT_LIT_RATE',start,2012)\n",
    "\n",
    "#Literacy rate: % Female adults aged 15 and above\n",
    "adult_lit_rate_F = clean_table('literacy_rate_adult_female_percent_of_females_ages_15_above.csv','ADULT_LIT_RATE_F',start,2012)\n",
    "\n",
    "#Literacy rate: % Male adults aged 15 and above\n",
    "adult_lit_rate_M = clean_table('literacy_rate_adult_male_percent_of_males_ages_15_and_above.csv','ADULT_LIT_RATE_M',start,2012)\n",
    "\n",
    "\n",
    "\n",
    "\n",
    "\n",
    "#SOCIETY\n",
    "\n",
    "#Number of journalists killed\n",
    "journalists_killed = clean_table('num_of_journalists_killed.csv','JOURNALISTS_KILLED',1992,end)\n",
    "\n",
    "#Cell Phones/100 peopl\n",
    "cell_phone = clean_table('cell_phones_per_100_people.csv','CELL_PHONE_PER_100',start,end)\n",
    "\n",
    "#Corruption Perception Index : https://www.transparency.org/research/cpi\n",
    "CPI = clean_table('corruption_perception_index_cpi.csv','CORRUPTION_INDEX',2012,end)\n",
    "\n",
    "#Democracy Score:  https://www.systemicpeace.org/polityproject.html\n",
    "dem_score = clean_table('democracy_score_use_as_color.csv','DEMOCRACY_SCORE',start,2012)\n",
    "\n",
    "#Human Development Score:\n",
    "human_dev_score = clean_table('hdi_human_development_index.csv', 'HUMAN_DEV_SCORE',1990,2016)\n",
    "\n",
    "#Murders / 1000 people:\n",
    "murders = clean_table('murder_per_100000_people.csv','MURDER_PER_1000',start,2017)\n",
    "\n",
    "\n",
    "\n",
    "\n",
    "\n",
    "\n"
   ]
  },
  {
   "cell_type": "code",
   "execution_count": 7,
   "metadata": {},
   "outputs": [
    {
     "ename": "NameError",
     "evalue": "name 'population' is not defined",
     "output_type": "error",
     "traceback": [
      "\u001b[0;31m---------------------------------------------------------------------------\u001b[0m",
      "\u001b[0;31mNameError\u001b[0m                                 Traceback (most recent call last)",
      "\u001b[0;32m<ipython-input-7-57eaef2a6923>\u001b[0m in \u001b[0;36m<module>\u001b[0;34m\u001b[0m\n\u001b[1;32m      2\u001b[0m \u001b[0;34m\u001b[0m\u001b[0m\n\u001b[1;32m      3\u001b[0m \u001b[0;32mfrom\u001b[0m \u001b[0mfunctools\u001b[0m \u001b[0;32mimport\u001b[0m \u001b[0mreduce\u001b[0m\u001b[0;34m\u001b[0m\u001b[0;34m\u001b[0m\u001b[0m\n\u001b[0;32m----> 4\u001b[0;31m \u001b[0mdata_frames\u001b[0m \u001b[0;34m=\u001b[0m \u001b[0;34m[\u001b[0m\u001b[0mpopulation\u001b[0m\u001b[0;34m,\u001b[0m \u001b[0mpop_growth\u001b[0m\u001b[0;34m,\u001b[0m \u001b[0mlife_exp\u001b[0m\u001b[0;34m,\u001b[0m\u001b[0mlife_exp_f\u001b[0m\u001b[0;34m,\u001b[0m\u001b[0mlife_exp_m\u001b[0m\u001b[0;34m,\u001b[0m\u001b[0minf_mort\u001b[0m\u001b[0;34m,\u001b[0m\u001b[0mtotal_gdp\u001b[0m\u001b[0;34m,\u001b[0m\u001b[0minflation\u001b[0m\u001b[0;34m,\u001b[0m\u001b[0memployment\u001b[0m\u001b[0;34m,\u001b[0m\u001b[0mgini\u001b[0m\u001b[0;34m,\u001b[0m\u001b[0maid_received\u001b[0m\u001b[0;34m,\u001b[0m\u001b[0mgender_eq_edd\u001b[0m\u001b[0;34m,\u001b[0m\u001b[0madult_lit_rate\u001b[0m\u001b[0;34m,\u001b[0m\u001b[0madult_lit_rate_F\u001b[0m\u001b[0;34m,\u001b[0m\u001b[0madult_lit_rate_M\u001b[0m\u001b[0;34m,\u001b[0m\u001b[0mjournalists_killed\u001b[0m\u001b[0;34m,\u001b[0m\u001b[0mcell_phone\u001b[0m\u001b[0;34m,\u001b[0m\u001b[0mCPI\u001b[0m\u001b[0;34m,\u001b[0m\u001b[0mdem_score\u001b[0m\u001b[0;34m,\u001b[0m\u001b[0mhuman_dev_score\u001b[0m\u001b[0;34m,\u001b[0m\u001b[0mmurders\u001b[0m\u001b[0;34m]\u001b[0m\u001b[0;34m\u001b[0m\u001b[0;34m\u001b[0m\u001b[0m\n\u001b[0m\u001b[1;32m      5\u001b[0m \u001b[0mdf_merged\u001b[0m \u001b[0;34m=\u001b[0m \u001b[0mreduce\u001b[0m\u001b[0;34m(\u001b[0m\u001b[0;32mlambda\u001b[0m  \u001b[0mleft\u001b[0m\u001b[0;34m,\u001b[0m\u001b[0mright\u001b[0m\u001b[0;34m:\u001b[0m \u001b[0mpd\u001b[0m\u001b[0;34m.\u001b[0m\u001b[0mmerge\u001b[0m\u001b[0;34m(\u001b[0m\u001b[0mleft\u001b[0m\u001b[0;34m,\u001b[0m\u001b[0mright\u001b[0m\u001b[0;34m,\u001b[0m\u001b[0mon\u001b[0m\u001b[0;34m=\u001b[0m\u001b[0;34m[\u001b[0m\u001b[0;34m'UNCTRY'\u001b[0m\u001b[0;34m,\u001b[0m\u001b[0;34m'Date'\u001b[0m\u001b[0;34m,\u001b[0m\u001b[0;34m'country'\u001b[0m\u001b[0;34m]\u001b[0m\u001b[0;34m,\u001b[0m\u001b[0mhow\u001b[0m\u001b[0;34m=\u001b[0m\u001b[0;34m'outer'\u001b[0m\u001b[0;34m)\u001b[0m\u001b[0;34m,\u001b[0m \u001b[0mdata_frames\u001b[0m\u001b[0;34m)\u001b[0m\u001b[0;34m\u001b[0m\u001b[0;34m\u001b[0m\u001b[0m\n",
      "\u001b[0;31mNameError\u001b[0m: name 'population' is not defined"
     ]
    }
   ],
   "source": [
    "\n",
    "\n",
    "from functools import reduce\n",
    "data_frames = [population, pop_growth, life_exp,life_exp_f,life_exp_m,inf_mort,total_gdp,inflation,employment,gini,aid_received,gender_eq_edd,adult_lit_rate,adult_lit_rate_F,adult_lit_rate_M,journalists_killed,cell_phone,CPI,dem_score,human_dev_score,murders]\n",
    "df_merged = reduce(lambda  left,right: pd.merge(left,right,on=['UNCTRY','Date','country'],how='outer'), data_frames)\n"
   ]
  },
  {
   "cell_type": "code",
   "execution_count": 196,
   "metadata": {},
   "outputs": [],
   "source": [
    "df_merged.to_csv('GapminderData.csv')"
   ]
  },
  {
   "cell_type": "code",
   "execution_count": null,
   "metadata": {},
   "outputs": [],
   "source": []
  }
 ],
 "metadata": {
  "kernelspec": {
   "display_name": "Python 3",
   "language": "python",
   "name": "python3"
  },
  "language_info": {
   "codemirror_mode": {
    "name": "ipython",
    "version": 3
   },
   "file_extension": ".py",
   "mimetype": "text/x-python",
   "name": "python",
   "nbconvert_exporter": "python",
   "pygments_lexer": "ipython3",
   "version": "3.7.2"
  }
 },
 "nbformat": 4,
 "nbformat_minor": 2
}
