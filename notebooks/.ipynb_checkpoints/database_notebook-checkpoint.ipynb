{
 "cells": [
  {
   "cell_type": "code",
   "execution_count": 2,
   "metadata": {},
   "outputs": [],
   "source": [
    "import pandas as pd\n",
    "import sqlite3 as sql"
   ]
  },
  {
   "cell_type": "code",
   "execution_count": 6,
   "metadata": {},
   "outputs": [],
   "source": [
    "df = pd.read_csv('../data/section1a_africa_2018.csv')"
   ]
  },
  {
   "cell_type": "code",
   "execution_count": 8,
   "metadata": {},
   "outputs": [
    {
     "data": {
      "text/html": [
       "<div>\n",
       "<style scoped>\n",
       "    .dataframe tbody tr th:only-of-type {\n",
       "        vertical-align: middle;\n",
       "    }\n",
       "\n",
       "    .dataframe tbody tr th {\n",
       "        vertical-align: top;\n",
       "    }\n",
       "\n",
       "    .dataframe thead th {\n",
       "        text-align: right;\n",
       "    }\n",
       "</style>\n",
       "<table border=\"1\" class=\"dataframe\">\n",
       "  <thead>\n",
       "    <tr style=\"text-align: right;\">\n",
       "      <th></th>\n",
       "      <th>CountryName</th>\n",
       "      <th>Report</th>\n",
       "    </tr>\n",
       "  </thead>\n",
       "  <tbody>\n",
       "    <tr>\n",
       "      <th>0</th>\n",
       "      <td>Angola</td>\n",
       "      <td>There were reports the government or its agent...</td>\n",
       "    </tr>\n",
       "    <tr>\n",
       "      <th>1</th>\n",
       "      <td>Benin</td>\n",
       "      <td>There were no reports the government or its ag...</td>\n",
       "    </tr>\n",
       "    <tr>\n",
       "      <th>2</th>\n",
       "      <td>Botswana</td>\n",
       "      <td>There were no reports the government or its ag...</td>\n",
       "    </tr>\n",
       "    <tr>\n",
       "      <th>3</th>\n",
       "      <td>Burkina Faso</td>\n",
       "      <td>Unknown assailants, but assumed to belong in s...</td>\n",
       "    </tr>\n",
       "    <tr>\n",
       "      <th>4</th>\n",
       "      <td>Burundi</td>\n",
       "      <td>There were numerous reports the government or ...</td>\n",
       "    </tr>\n",
       "  </tbody>\n",
       "</table>\n",
       "</div>"
      ],
      "text/plain": [
       "    CountryName                                             Report\n",
       "0        Angola  There were reports the government or its agent...\n",
       "1         Benin  There were no reports the government or its ag...\n",
       "2      Botswana  There were no reports the government or its ag...\n",
       "3  Burkina Faso  Unknown assailants, but assumed to belong in s...\n",
       "4       Burundi  There were numerous reports the government or ..."
      ]
     },
     "execution_count": 8,
     "metadata": {},
     "output_type": "execute_result"
    }
   ],
   "source": [
    "df = df.drop(columns = ['Unnamed: 0'])\n",
    "df.head()"
   ]
  },
  {
   "cell_type": "code",
   "execution_count": 10,
   "metadata": {},
   "outputs": [],
   "source": [
    "dtypes = {'CountryName': 'TEXT',\n",
    "         'Report': 'TEXT'}"
   ]
  },
  {
   "cell_type": "code",
   "execution_count": 37,
   "metadata": {},
   "outputs": [],
   "source": [
    "# keeping for ease of later use\n",
    "dtypes = {'CTRY': 'TEXT',\n",
    "         'YEAR': 'INT',\n",
    "         'CIRI': 'INT',\n",
    "         'COW': 'FLOAT',\n",
    "         'POLITY': 'FLOAT',\n",
    "         'UNCTRY': 'FLOAT',\n",
    "         'UNREG': 'INT',\n",
    "         'PHYSINT': 'FLOAT',\n",
    "         'DISAP': 'FLOAT',\n",
    "         'KILL': 'FLOAT',\n",
    "         'POLPRIS': 'FLOAT',\n",
    "         'TORT': 'FLOAT',\n",
    "         'OLD_EMPINX': 'FLOAT',\n",
    "         'NEW_EMPINX': 'FLOAT',\n",
    "         'ASSN': 'FLOAT',\n",
    "         'FORMOV': 'FLOAT',\n",
    "         'DOMMOV': 'FLOAT',\n",
    "         'OLD_MOVE': 'FLOAT',\n",
    "         'SPEECH': 'FLOAT',\n",
    "         'ELECSD': 'FLOAT',\n",
    "         'OLD_RELFRE': 'FLOAT',\n",
    "         'NEW_RELFRE': 'FLOAT',\n",
    "         'WORKER': 'FLOAT',\n",
    "         'WECON': 'FLOAT',\n",
    "         'WOPOL': 'FLOAT',\n",
    "         'WOSOC': 'FLOAT',\n",
    "         'INJUD': 'FLOAT'}"
   ]
  },
  {
   "cell_type": "code",
   "execution_count": 11,
   "metadata": {},
   "outputs": [],
   "source": [
    "# connect to MS_hackathon.db within the data/ directory, makes it if it doesn't exist\n",
    "conn = sql.connect('../data/MS_hackathon.db')"
   ]
  },
  {
   "cell_type": "code",
   "execution_count": 12,
   "metadata": {},
   "outputs": [],
   "source": [
    "# create a new table from a dataframe, dtype to specify data types\n",
    "df.to_sql('section1a_africa', conn, dtype = dtypes)"
   ]
  },
  {
   "cell_type": "code",
   "execution_count": 48,
   "metadata": {},
   "outputs": [
    {
     "data": {
      "text/plain": [
       "[(2.0, 1981),\n",
       " (2.0, 1982),\n",
       " (2.0, 1983),\n",
       " (2.0, 1984),\n",
       " (2.0, 1985),\n",
       " (2.0, 1986),\n",
       " (2.0, 1987),\n",
       " (2.0, 1988),\n",
       " (2.0, 1989),\n",
       " (2.0, 1990),\n",
       " (2.0, 1991),\n",
       " (2.0, 1992),\n",
       " (2.0, 1993),\n",
       " (2.0, 1994),\n",
       " (2.0, 1995),\n",
       " (2.0, 1996),\n",
       " (2.0, 1997),\n",
       " (2.0, 1998),\n",
       " (2.0, 1999),\n",
       " (2.0, 2000),\n",
       " (2.0, 2001),\n",
       " (2.0, 2002),\n",
       " (2.0, 2003),\n",
       " (2.0, 2004),\n",
       " (1.0, 2005),\n",
       " (1.0, 2006),\n",
       " (1.0, 2007),\n",
       " (1.0, 2008),\n",
       " (2.0, 2009),\n",
       " (1.0, 2010),\n",
       " (2.0, 2011)]"
      ]
     },
     "execution_count": 48,
     "metadata": {},
     "output_type": "execute_result"
    }
   ],
   "source": [
    "# general query format\n",
    "results = conn.execute('''SELECT KILL, YEAR FROM CIRI WHERE CTRY=\"Canada\"''').fetchall()\n",
    "results"
   ]
  }
 ],
 "metadata": {
  "kernelspec": {
   "display_name": "Python 3",
   "language": "python",
   "name": "python3"
  },
  "language_info": {
   "codemirror_mode": {
    "name": "ipython",
    "version": 3
   },
   "file_extension": ".py",
   "mimetype": "text/x-python",
   "name": "python",
   "nbconvert_exporter": "python",
   "pygments_lexer": "ipython3",
   "version": "3.7.2"
  }
 },
 "nbformat": 4,
 "nbformat_minor": 2
}
